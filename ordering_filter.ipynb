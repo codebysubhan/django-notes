{
 "cells": [
  {
   "cell_type": "markdown",
   "metadata": {},
   "source": [
    "# 📘 DRF OrderingFilter Demo\n",
    "\n",
    "**OrderingFilter** is a built-in DRF filter backend that allows clients to control the ordering of results returned by an API.\n",
    "\n",
    "Query Param Syntax:\n",
    "```bash\n",
    "/api/students/?ordering=age\n",
    "/api/students/?ordering=-age\n",
    "/api/students/?ordering=age,enrolled_date\n",
    "```"
   ]
  },
  {
   "cell_type": "markdown",
   "metadata": {},
   "source": [
    "## ✅ Step 1: Create the Model"
   ]
  },
  {
   "cell_type": "code",
   "execution_count": null,
   "metadata": {},
   "outputs": [],
   "source": [
    "# models.py\n",
    "from django.db import models\n",
    "\n",
    "class Student(models.Model):\n",
    "    name = models.CharField(max_length=100)\n",
    "    age = models.IntegerField()\n",
    "    enrolled_date = models.DateField(auto_now_add=True)\n",
    "    created_at = models.DateTimeField(auto_now_add=True)\n",
    "\n",
    "    def __str__(self):\n",
    "        return self.name"
   ]
  },
  {
   "cell_type": "markdown",
   "metadata": {},
   "source": [
    "## ✅ Step 2: Create Serializer"
   ]
  },
  {
   "cell_type": "code",
   "execution_count": null,
   "metadata": {},
   "outputs": [],
   "source": [
    "# serializers.py\n",
    "from rest_framework import serializers\n",
    "from .models import Student\n",
    "\n",
    "class StudentSerializer(serializers.ModelSerializer):\n",
    "    class Meta:\n",
    "        model = Student\n",
    "        fields = '__all__'"
   ]
  },
  {
   "cell_type": "markdown",
   "metadata": {},
   "source": [
    "## ✅ Step 3: Add ViewSet and Enable OrderingFilter"
   ]
  },
  {
   "cell_type": "code",
   "execution_count": null,
   "metadata": {},
   "outputs": [],
   "source": [
    "# views.py\n",
    "from rest_framework import viewsets\n",
    "from .models import Student\n",
    "from .serializers import StudentSerializer\n",
    "from rest_framework.filters import OrderingFilter\n",
    "\n",
    "class StudentViewSet(viewsets.ModelViewSet):\n",
    "    queryset = Student.objects.all()\n",
    "    serializer_class = StudentSerializer\n",
    "    filter_backends = [OrderingFilter]\n",
    "    ordering_fields = ['age', 'enrolled_date']  # Allowed fields for ordering\n",
    "    ordering = ['enrolled_date']  # Default ordering if none provided"
   ]
  },
  {
   "cell_type": "markdown",
   "metadata": {},
   "source": [
    "## ✅ Step 4: Add to URLs"
   ]
  },
  {
   "cell_type": "code",
   "execution_count": null,
   "metadata": {},
   "outputs": [],
   "source": [
    "# urls.py\n",
    "from django.urls import path, include\n",
    "from rest_framework.routers import DefaultRouter\n",
    "from .views import StudentViewSet\n",
    "\n",
    "router = DefaultRouter()\n",
    "router.register(r'students', StudentViewSet)\n",
    "\n",
    "urlpatterns = [\n",
    "    path('api/', include(router.urls)),\n",
    "]"
   ]
  },
  {
   "cell_type": "markdown",
   "metadata": {},
   "source": [
    "## 🧪 Example API Queries\n",
    "| URL | Description |\n",
    "|-----|-------------|\n",
    "| `/api/students/?ordering=age` | Sort by age ascending |\n",
    "| `/api/students/?ordering=-age` | Sort by age descending |\n",
    "| `/api/students/?ordering=age,enrolled_date` | Sort by age, then enrollment date |"
   ]
  },
  {
   "cell_type": "markdown",
   "metadata": {},
   "source": [
    "## 💡 Advanced Usage Tips\n",
    "- Combine with `SearchFilter`:\n",
    "```python\n",
    "from rest_framework.filters import SearchFilter, OrderingFilter\n",
    "filter_backends = [SearchFilter, OrderingFilter]\n",
    "```\n",
    "\n",
    "- Default descending order:\n",
    "```python\n",
    "ordering = ['-created_at']\n",
    "```\n",
    "\n",
    "- Works with: `CharField`, `IntegerField`, `DateField`, `ForeignKey (via __ lookups)`"
   ]
  },
  {
   "cell_type": "markdown",
   "metadata": {},
   "source": [
    "## ✅ Summary Table\n",
    "| Feature | Details |\n",
    "|---------|---------|\n",
    "| Query param | `?ordering=field_name` |\n",
    "| Descending order | Use `-` prefix → `?ordering=-age` |\n",
    "| Multi-field ordering | ✅ `?ordering=field1,field2` |\n",
    "| Combines well with | `SearchFilter`, `DjangoFilterBackend` |"
   ]
  }
 ],
 "metadata": {
  "kernelspec": {
   "display_name": "Python 3",
   "language": "python",
   "name": "python3"
  },
  "language_info": {
   "name": "python",
   "version": ""
  }
 },
 "nbformat": 4,
 "nbformat_minor": 5
}

