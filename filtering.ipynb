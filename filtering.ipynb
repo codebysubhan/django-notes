{
 "cells": [
  {
   "cell_type": "markdown",
   "id": "8bf24422",
   "metadata": {},
   "source": [
    "# What is Filtering in DRF?\n",
    "\n",
    "Filtering allows clients to retrieve a subset of data by passing parameters in the query string — e.g., `/api/products?category=books`.\n",
    "\n",
    "**Filtering enhances API flexibility and usability by letting users query data more precisely.**"
   ]
  },
  {
   "cell_type": "markdown",
   "id": "c3099b89",
   "metadata": {},
   "source": [
    "# 1. Generic Filtering (Basic)\n",
    "\n",
    "**Built-in DRF filtering using `filter_backends` + `filterset_fields`**\n",
    "\n",
    "- DRF supports basic filtering using query parameters\n",
    "- No extra package is needed"
   ]
  },
  {
   "cell_type": "markdown",
   "id": "fa361800",
   "metadata": {},
   "source": [
    "# 2. Django Filter Backend (Advanced Filtering)\n",
    "\n",
    "**What is django-filter?**\n",
    "\n",
    "`django-filter` is a third-party Django package that:\n",
    "- Automates filtering interfaces\n",
    "- Supports complex lookups (e.g., greater than, contains)\n",
    "- Integrates with DRF's ViewSet"
   ]
  },
  {
   "cell_type": "markdown",
   "id": "a92d752b",
   "metadata": {},
   "source": [
    "**Why use `django-filter` with DRF?**\n",
    "\n",
    "- Enables filtering by price ranges, substrings, dates, foreign keys\n",
    "- Integrates with `ModelViewSet`\n",
    "- Example: `/api/products/?min_price=100&max_price=500`"
   ]
  },
  {
   "cell_type": "markdown",
   "id": "e05428d5",
   "metadata": {},
   "source": [
    "## Step 1: Install django-filter"
   ]
  },
  {
   "cell_type": "code",
   "execution_count": null,
   "id": "05636ee3",
   "metadata": {},
   "outputs": [],
   "source": [
    "!pip install django-filter"
   ]
  },
  {
   "cell_type": "markdown",
   "id": "61fdd9a5",
   "metadata": {},
   "source": [
    "## Step 2: Update settings.py"
   ]
  },
  {
   "cell_type": "code",
   "execution_count": null,
   "id": "b05d235c",
   "metadata": {},
   "outputs": [],
   "source": [
    "INSTALLED_APPS = [\n",
    "    ...,\n",
    "    'django_filters',\n",
    "]\n",
    "\n",
    "REST_FRAMEWORK = {\n",
    "    'DEFAULT_FILTER_BACKENDS': [\n",
    "        'django_filters.rest_framework.DjangoFilterBackend'\n",
    "    ]\n",
    "}"
   ]
  },
  {
   "cell_type": "markdown",
   "id": "deb8b35e",
   "metadata": {},
   "source": [
    "## Step 3: Use in a ViewSet (Simple Filtering)"
   ]
  },
  {
   "cell_type": "code",
   "execution_count": null,
   "id": "36e79cca",
   "metadata": {},
   "outputs": [],
   "source": [
    "from rest_framework import viewsets\n",
    "from django_filters.rest_framework import DjangoFilterBackend\n",
    "from .models import Product\n",
    "from .serializers import ProductSerializer\n",
    "\n",
    "class ProductViewSet(viewsets.ModelViewSet):\n",
    "    queryset = Product.objects.all()\n",
    "    serializer_class = ProductSerializer\n",
    "    filter_backends = [DjangoFilterBackend]\n",
    "    filterset_fields = ['category', 'brand']"
   ]
  },
  {
   "cell_type": "markdown",
   "id": "301bd694",
   "metadata": {},
   "source": [
    "**Example API calls:**\n",
    "- `/api/products/?category=books`\n",
    "- `/api/products/?brand=sony`"
   ]
  },
  {
   "cell_type": "markdown",
   "id": "dd30e16b",
   "metadata": {},
   "source": [
    "# 4. Custom Filtering with FilterSet Class (Advanced)"
   ]
  },
  {
   "cell_type": "code",
   "execution_count": null,
   "id": "38433951",
   "metadata": {},
   "outputs": [],
   "source": [
    "# filters.py\n",
    "import django_filters\n",
    "from .models import Product\n",
    "\n",
    "class ProductFilter(django_filters.FilterSet):\n",
    "    min_price = django_filters.NumberFilter(field_name='price', lookup_expr='gte')\n",
    "    max_price = django_filters.NumberFilter(field_name='price', lookup_expr='lte')\n",
    "    brand = django_filters.CharFilter(lookup_expr='icontains')\n",
    "\n",
    "    class Meta:\n",
    "        model = Product\n",
    "        fields = ['category', 'brand']"
   ]
  },
  {
   "cell_type": "code",
   "execution_count": null,
   "id": "134fa71c",
   "metadata": {},
   "outputs": [],
   "source": [
    "# views.py\n",
    "from .filters import ProductFilter\n",
    "from django_filters.rest_framework import DjangoFilterBackend\n",
    "\n",
    "class ProductViewSet(viewsets.ModelViewSet):\n",
    "    queryset = Product.objects.all()\n",
    "    serializer_class = ProductSerializer\n",
    "    filter_backends = [DjangoFilterBackend]\n",
    "    filterset_class = ProductFilter"
   ]
  },
  {
   "cell_type": "markdown",
   "id": "5690f832",
   "metadata": {},
   "source": [
    "**Example Queries:**\n",
    "- `/api/products/?min_price=500&max_price=1500`\n",
    "- `/api/products/?brand=sony`"
   ]
  },
  {
   "cell_type": "markdown",
   "id": "fc92659d",
   "metadata": {},
   "source": [
    "# 5. Django ORM `.filter()` Examples"
   ]
  },
  {
   "cell_type": "code",
   "execution_count": null,
   "id": "ad700d18",
   "metadata": {},
   "outputs": [],
   "source": [
    "from django.db import models\n",
    "\n",
    "class Student(models.Model):\n",
    "    name = models.CharField(max_length=100)\n",
    "    age = models.IntegerField()\n",
    "    grade = models.CharField(max_length=5)"
   ]
  },
  {
   "cell_type": "code",
   "execution_count": null,
   "id": "5ad9bc49",
   "metadata": {},
   "outputs": [],
   "source": [
    "# Example Queries\n",
    "Student.objects.filter(name='John')                        # Exact match\n",
    "Student.objects.filter(age__gt=18)                         # Greater than\n",
    "Student.objects.filter(grade__in=['A', 'A+'])              # In list\n",
    "Student.objects.filter(name__icontains='an')              # Case-insensitive substring\n",
    "Student.objects.filter(age__gte=18, grade='A')            # Multiple conditions"
   ]
  },
  {
   "cell_type": "markdown",
   "id": "514ac105",
   "metadata": {},
   "source": [
    "# 6. filter() vs get()\n",
    "\n",
    "| Method | Returns              | Use Case               |\n",
    "|--------|----------------------|-------------------------|\n",
    "| filter() | QuerySet (list)     | Multiple or no results |\n",
    "| get()    | Single object/error | Exactly one result     |"
   ]
  },
  {
   "cell_type": "markdown",
   "id": "be2ed302",
   "metadata": {},
   "source": [
    "# ✅ Summary Table\n",
    "\n",
    "| Feature                | Generic Filtering | django-filter        |\n",
    "|------------------------|-------------------|----------------------|\n",
    "| Installation Needed    | ❌ No              | ✅ Yes               |\n",
    "| Simple field filtering | ✅ Yes             | ✅ Yes               |\n",
    "| Complex/custom filters | ❌ No              | ✅ Yes               |\n",
    "| Recommended for prod   | ❌ No              | ✅ Yes               |"
   ]
  }
 ],
 "metadata": {
  "kernelspec": {
   "display_name": "Python 3 (ipykernel)",
   "language": "python",
   "name": "python3"
  },
  "language_info": {
   "codemirror_mode": {
    "name": "ipython",
    "version": 3
   },
   "file_extension": ".py",
   "mimetype": "text/x-python",
   "name": "python",
   "nbconvert_exporter": "python",
   "pygments_lexer": "ipython3",
   "version": "3.13.5"
  }
 },
 "nbformat": 4,
 "nbformat_minor": 5
}
