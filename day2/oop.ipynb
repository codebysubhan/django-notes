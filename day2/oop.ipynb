{
 "cells": [
  {
   "cell_type": "markdown",
   "id": "b8603912",
   "metadata": {},
   "source": [
    "### Encapsulation"
   ]
  },
  {
   "cell_type": "code",
   "execution_count": 22,
   "id": "03145ad7",
   "metadata": {},
   "outputs": [
    {
     "name": "stdout",
     "output_type": "stream",
     "text": [
      "Alice\n"
     ]
    }
   ],
   "source": [
    "# Encapsulation Example\n",
    "class Person:\n",
    "    def __init__(self, name):\n",
    "        self.__name = name  # private attribute\n",
    "\n",
    "    def get_name(self):\n",
    "        return self.__name\n",
    "\n",
    "    def set_name(self, name):\n",
    "        self.__name = name\n",
    "\n",
    "p = Person(\"Alice\")\n",
    "print(p.get_name())  # Output: Alice"
   ]
  },
  {
   "cell_type": "markdown",
   "id": "4c4aad34",
   "metadata": {},
   "source": [
    "### Abstraction"
   ]
  },
  {
   "cell_type": "code",
   "execution_count": 23,
   "id": "2f9314b1",
   "metadata": {},
   "outputs": [
    {
     "name": "stdout",
     "output_type": "stream",
     "text": [
      "Woof!\n"
     ]
    }
   ],
   "source": [
    "from abc import ABC, abstractmethod\n",
    "# Abstraction Example\n",
    "\n",
    "class Animal(ABC):\n",
    "    @abstractmethod\n",
    "    def make_sound(self):\n",
    "        pass\n",
    "\n",
    "class Dog(Animal):\n",
    "    def make_sound(self):\n",
    "        return \"Woof!\"\n",
    "    # def sound(self): will give error if uncommented\n",
    "    #     return \"Woof! from sound\"\n",
    "    \n",
    "dog = Dog()\n",
    "print(dog.make_sound())  # Output: Woof!"
   ]
  },
  {
   "cell_type": "markdown",
   "id": "516274f2",
   "metadata": {},
   "source": [
    "### Polymorphism"
   ]
  },
  {
   "cell_type": "code",
   "execution_count": 24,
   "id": "4e257456",
   "metadata": {},
   "outputs": [
    {
     "name": "stdout",
     "output_type": "stream",
     "text": [
      "Woof!\n",
      "Meow!\n"
     ]
    }
   ],
   "source": [
    "# Polymorphism Example\n",
    "\n",
    "class Cat(Animal):\n",
    "    def make_sound(self):\n",
    "        return \"Meow!\"\n",
    "\n",
    "animals = [Dog(), Cat()]\n",
    "\n",
    "for animal in animals:\n",
    "    print(animal.make_sound())  # Output: Woof! Meow!"
   ]
  },
  {
   "cell_type": "markdown",
   "id": "86f1353b",
   "metadata": {},
   "source": [
    "### Inheritance"
   ]
  },
  {
   "cell_type": "code",
   "execution_count": 26,
   "id": "30e02e13",
   "metadata": {},
   "outputs": [
    {
     "name": "stdout",
     "output_type": "stream",
     "text": [
      "Toyota Corolla is driving.\n"
     ]
    }
   ],
   "source": [
    "# Inheritance Example\n",
    "\n",
    "class Vehicle:\n",
    "    def __init__(self, brand):\n",
    "        self.brand = brand\n",
    "\n",
    "    def drive(self):\n",
    "        return f\"{self.brand} is moving.\"\n",
    "\n",
    "class Car(Vehicle):\n",
    "    def __init__(self, brand, model):\n",
    "        super().__init__(brand)\n",
    "        self.model = model\n",
    "\n",
    "    def drive(self):\n",
    "        return f\"{self.brand} {self.model} is driving.\"\n",
    "\n",
    "car = Car(\"Toyota\", \"Corolla\")\n",
    "print(car.drive())  # Output: Toyota Corolla is driving."
   ]
  },
  {
   "cell_type": "code",
   "execution_count": null,
   "id": "e551be4d",
   "metadata": {},
   "outputs": [],
   "source": []
  },
  {
   "cell_type": "code",
   "execution_count": null,
   "id": "00cce477",
   "metadata": {},
   "outputs": [],
   "source": []
  }
 ],
 "metadata": {
  "kernelspec": {
   "display_name": "Python 3",
   "language": "python",
   "name": "python3"
  },
  "language_info": {
   "codemirror_mode": {
    "name": "ipython",
    "version": 3
   },
   "file_extension": ".py",
   "mimetype": "text/x-python",
   "name": "python",
   "nbconvert_exporter": "python",
   "pygments_lexer": "ipython3",
   "version": "3.13.3"
  }
 },
 "nbformat": 4,
 "nbformat_minor": 5
}
