{
 "cells": [
  {
   "cell_type": "markdown",
   "metadata": {},
   "source": [
    "# Django App with `api/` Subfolder Structure for REST Framework\n",
    "\n",
    "This notebook shows how to organize a Django app with a separate `api/` folder for serializers, views, and URLs to keep things clean and modular."
   ]
  },
  {
   "cell_type": "markdown",
   "metadata": {},
   "source": [
    "## 🔧 Step 1: Create the Folder Structure\n",
    "\n",
    "```bash\n",
    "your_app/\n",
    "├── __init__.py\n",
    "├── admin.py\n",
    "├── apps.py\n",
    "├── models.py\n",
    "├── views.py                # Optional for HTML views\n",
    "├── serializers.py          # Optional if not using api/ folder\n",
    "├── urls.py                 # App-level URLs\n",
    "├── api/\n",
    "│   ├── __init__.py\n",
    "│   ├── views.py\n",
    "│   ├── serializers.py\n",
    "│   ├── urls.py\n",
    "```\n",
    "\n",
    "Command to create structure (Linux/macOS/WSL):\n",
    "```bash\n",
    "mkdir your_app/api\n",
    "touch your_app/api/__init__.py\n",
    "touch your_app/api/views.py\n",
    "touch your_app/api/serializers.py\n",
    "touch your_app/api/urls.py\n",
    "```"
   ]
  },
  {
   "cell_type": "markdown",
   "metadata": {},
   "source": [
    "## ✏️ Step 2: Define a Sample Model in `your_app/models.py`"
   ]
  },
  {
   "cell_type": "code",
   "execution_count": null,
   "metadata": {},
   "outputs": [],
   "source": [
    "# your_app/models.py\n",
    "from django.db import models\n",
    "\n",
    "class Item(models.Model):\n",
    "    name = models.CharField(max_length=100)\n",
    "    price = models.DecimalField(max_digits=10, decimal_places=2)\n",
    "\n",
    "    def __str__(self):\n",
    "        return self.name"
   ]
  },
  {
   "cell_type": "markdown",
   "metadata": {},
   "source": [
    "## 🔄 Step 3: Create a Serializer in `your_app/api/serializers.py`"
   ]
  },
  {
   "cell_type": "code",
   "execution_count": null,
   "metadata": {},
   "outputs": [],
   "source": [
    "# your_app/api/serializers.py\n",
    "from rest_framework import serializers\n",
    "from your_app.models import Item\n",
    "\n",
    "class ItemSerializer(serializers.ModelSerializer):\n",
    "    class Meta:\n",
    "        model = Item\n",
    "        fields = '__all__'"
   ]
  },
  {
   "cell_type": "markdown",
   "metadata": {},
   "source": [
    "## 🔁 Step 4: Create the ViewSet in `your_app/api/views.py`"
   ]
  },
  {
   "cell_type": "code",
   "execution_count": null,
   "metadata": {},
   "outputs": [],
   "source": [
    "# your_app/api/views.py\n",
    "from rest_framework import viewsets\n",
    "from your_app.models import Item\n",
    "from .serializers import ItemSerializer\n",
    "\n",
    "class ItemViewSet(viewsets.ModelViewSet):\n",
    "    queryset = Item.objects.all()\n",
    "    serializer_class = ItemSerializer"
   ]
  },
  {
   "cell_type": "markdown",
   "metadata": {},
   "source": [
    "## 🌐 Step 5: Setup API URLs in `your_app/api/urls.py`"
   ]
  },
  {
   "cell_type": "code",
   "execution_count": null,
   "metadata": {},
   "outputs": [],
   "source": [
    "# your_app/api/urls.py\n",
    "from django.urls import path, include\n",
    "from rest_framework.routers import DefaultRouter\n",
    "from .views import ItemViewSet\n",
    "\n",
    "router = DefaultRouter()\n",
    "router.register(r'items', ItemViewSet)\n",
    "\n",
    "urlpatterns = [\n",
    "    path('', include(router.urls)),\n",
    "]"
   ]
  },
  {
   "cell_type": "markdown",
   "metadata": {},
   "source": [
    "## 🔌 Step 6: Hook API URLs into App URLs (`your_app/urls.py`)"
   ]
  },
  {
   "cell_type": "code",
   "execution_count": null,
   "metadata": {},
   "outputs": [],
   "source": [
    "# your_app/urls.py\n",
    "from django.urls import path, include\n",
    "\n",
    "urlpatterns = [\n",
    "    path('api/', include('your_app.api.urls')),\n",
    "]"
   ]
  },
  {
   "cell_type": "markdown",
   "metadata": {},
   "source": [
    "## 🧩 Step 7: Hook App URLs into Project URLs (`project/urls.py`)"
   ]
  },
  {
   "cell_type": "code",
   "execution_count": null,
   "metadata": {},
   "outputs": [],
   "source": [
    "# project/urls.py\n",
    "from django.contrib import admin\n",
    "from django.urls import path, include\n",
    "\n",
    "urlpatterns = [\n",
    "    path('admin/', admin.site.urls),\n",
    "    path('', include('your_app.urls')),\n",
    "]"
   ]
  },
  {
   "cell_type": "markdown",
   "metadata": {},
   "source": [
    "## ✅ Final Result\n",
    "\n",
    "You can now access your API endpoint at:\n",
    "\n",
    "```\n",
    "http://127.0.0.1:8000/api/items/\n",
    "```\n",
    "\n",
    "This approach helps organize your code better in larger apps, especially when you start adding multiple views, serializers, permissions, etc."
   ]
  }
 ],
 "metadata": {
  "kernelspec": {
   "display_name": "Python 3",
   "language": "python",
   "name": "python3"
  },
  "language_info": {
   "name": "python",
   "version": ""
  }
 },
 "nbformat": 4,
 "nbformat_minor": 2
}

