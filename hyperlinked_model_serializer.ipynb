{
 "cells": [
  {
   "cell_type": "markdown",
   "metadata": {},
   "source": [
    "# Django REST Framework: HyperlinkedModelSerializer Example\n",
    "\n",
    "This notebook demonstrates how to use `HyperlinkedModelSerializer` to create a RESTful API with hyperlinked relationships."
   ]
  },
  {
   "cell_type": "code",
   "execution_count": null,
   "metadata": {},
   "outputs": [],
   "source": [
    "# Step 0: Setup Django inside this notebook (if running outside project context)\n",
    "import os\n",
    "import django\n",
    "from pathlib import Path\n",
    "\n",
    "# Simulate project root\n",
    "BASE_DIR = Path.cwd() / \"drf_hyperlinked_demo\"\n",
    "os.makedirs(BASE_DIR, exist_ok=True)\n",
    "\n",
    "# Create dummy settings for this notebook\n",
    "os.environ.setdefault(\"DJANGO_SETTINGS_MODULE\", \"drf_hyperlinked_demo.settings\")\n",
    "\n",
    "# Initialize Django (if running this outside a Django project)\n",
    "try:\n",
    "    django.setup()\n",
    "except:\n",
    "    pass"
   ]
  },
  {
   "cell_type": "markdown",
   "metadata": {},
   "source": [
    "## Step 1: Define Models (`models.py`)"
   ]
  },
  {
   "cell_type": "code",
   "execution_count": null,
   "metadata": {},
   "outputs": [],
   "source": [
    "# models.py\n",
    "from django.db import models\n",
    "\n",
    "class Author(models.Model):\n",
    "    name = models.CharField(max_length=100)\n",
    "\n",
    "    def __str__(self):\n",
    "        return self.name\n",
    "\n",
    "class Book(models.Model):\n",
    "    title = models.CharField(max_length=200)\n",
    "    author = models.ForeignKey(Author, related_name='books', on_delete=models.CASCADE)\n",
    "\n",
    "    def __str__(self):\n",
    "        return self.title"
   ]
  },
  {
   "cell_type": "markdown",
   "metadata": {},
   "source": [
    "## Step 2: Define HyperlinkedModelSerializer Classes (`serializers.py`)"
   ]
  },
  {
   "cell_type": "code",
   "execution_count": null,
   "metadata": {},
   "outputs": [],
   "source": [
    "# serializers.py\n",
    "from rest_framework import serializers\n",
    "from .models import Author, Book\n",
    "\n",
    "class AuthorSerializer(serializers.HyperlinkedModelSerializer):\n",
    "    books = serializers.HyperlinkedRelatedField(\n",
    "        many=True,\n",
    "        read_only=True,\n",
    "        view_name='book-detail'\n",
    "    )\n",
    "\n",
    "    class Meta:\n",
    "        model = Author\n",
    "        fields = ['url', 'id', 'name', 'books']\n",
    "\n",
    "class BookSerializer(serializers.HyperlinkedModelSerializer):\n",
    "    author = serializers.HyperlinkedRelatedField(\n",
    "        queryset=Author.objects.all(),\n",
    "        view_name='author-detail'\n",
    "    )\n",
    "\n",
    "    class Meta:\n",
    "        model = Book\n",
    "        fields = ['url', 'id', 'title', 'author']"
   ]
  },
  {
   "cell_type": "markdown",
   "metadata": {},
   "source": [
    "## Step 3: Define ViewSets (`views.py`) and Register Router (`urls.py`)"
   ]
  },
  {
   "cell_type": "code",
   "execution_count": null,
   "metadata": {},
   "outputs": [],
   "source": [
    "# views.py\n",
    "from rest_framework import viewsets\n",
    "from .models import Author, Book\n",
    "from .serializers import AuthorSerializer, BookSerializer\n",
    "\n",
    "class AuthorViewSet(viewsets.ModelViewSet):\n",
    "    queryset = Author.objects.all()\n",
    "    serializer_class = AuthorSerializer\n",
    "\n",
    "class BookViewSet(viewsets.ModelViewSet):\n",
    "    queryset = Book.objects.all()\n",
    "    serializer_class = BookSerializer"
   ]
  },
  {
   "cell_type": "code",
   "execution_count": null,
   "metadata": {},
   "outputs": [],
   "source": [
    "# urls.py\n",
    "from django.urls import include, path\n",
    "from rest_framework.routers import DefaultRouter\n",
    "from .views import AuthorViewSet, BookViewSet\n",
    "\n",
    "router = DefaultRouter()\n",
    "router.register(r'authors', AuthorViewSet)\n",
    "router.register(r'books', BookViewSet)\n",
    "\n",
    "urlpatterns = [\n",
    "    path('', include(router.urls)),\n",
    "]"
   ]
  },
  {
   "cell_type": "markdown",
   "metadata": {},
   "source": [
    "## Step 4: Example Output (GET `/authors/1/`)\n",
    "\n",
    "```json\n",
    "{\n",
    "  \"url\": \"http://localhost:8000/authors/1/\",\n",
    "  \"id\": 1,\n",
    "  \"name\": \"J. R. R. Tolkien\",\n",
    "  \"books\": [\n",
    "    \"http://localhost:8000/books/1/\",\n",
    "    \"http://localhost:8000/books/2/\"\n",
    "  ]\n",
    "}\n",
    "```"
   ]
  },
  {
   "cell_type": "markdown",
   "metadata": {},
   "source": [
    "## 🔍 Summary\n",
    "\n",
    "| Feature | Description |\n",
    "|---------|-------------|\n",
    "| `HyperlinkedModelSerializer` | Uses URLs instead of primary keys or slugs |\n",
    "| `url` field | Auto-included for hyperlinking each instance |\n",
    "| `HyperlinkedRelatedField` | Used for related objects as hyperlinks |\n",
    "| `DefaultRouter` | Automatically maps viewsets to URLs |\n",
    "\n",
    "This is ideal for RESTful APIs that follow the **HATEOAS** principle — where clients can explore the API using hyperlinks."
   ]
  }
 ],
 "metadata": {
  "kernelspec": {
   "display_name": "Python 3",
   "language": "python",
   "name": "python3"
  },
  "language_info": {
   "name": "python",
   "version": ""
  }
 },
 "nbformat": 4,
 "nbformat_minor": 2
}

