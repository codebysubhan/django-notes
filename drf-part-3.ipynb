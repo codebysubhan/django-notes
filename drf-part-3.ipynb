{
 "cells": [
  {
   "cell_type": "markdown",
   "id": "511f5e5e-bfe5-4863-9ff3-2ae9068d9814",
   "metadata": {},
   "source": [
    "## DRF part 3"
   ]
  },
  {
   "cell_type": "markdown",
   "id": "20d34be6-c73e-404e-b8b7-20928a6fce8e",
   "metadata": {},
   "source": [
    "#### Validation"
   ]
  },
  {
   "cell_type": "markdown",
   "id": "eddcf291-bfc3-4888-b20f-481f00434cbb",
   "metadata": {},
   "source": [
    "There are three types of validation:\n",
    "- field level\n",
    "- object level\n",
    "- validators"
   ]
  },
  {
   "cell_type": "markdown",
   "id": "f9e66256-4483-4057-9796-c73c6f7b10c1",
   "metadata": {},
   "source": [
    "*Field Level Validation*: <br> ***Note:*** This method is automatically invoked when `is_valid()` function is called.\n",
    "```\n",
    "def validate_name(self, value):\n",
    "    print(\"validate_name called with:\", value)\n",
    "    if value[0].lower()!='r':\n",
    "        print('condition true')\n",
    "        raise serializers.ValidationError(\"name should statr with r\")\n",
    "    return value\n",
    "```"
   ]
  },
  {
   "cell_type": "markdown",
   "id": "b6a4ce96-f82e-47cd-97bc-e7742d1377ac",
   "metadata": {},
   "source": [
    "*Object Level Validation*:<br> ***Note:*** It is written in `validate()` function and whole `data` is passed as `dict()`\n",
    "```\n",
    "def validate(self, data):\n",
    "    nm = data.get('name')\n",
    "    ct = data.get('city')\n",
    "    if nm.lower() == 'subhan' and ct.lower()!= 'lahore':\n",
    "        raise serializers.ValidationError(\"City must be Lahore\")\n",
    "    return data\n",
    "```"
   ]
  },
  {
   "cell_type": "markdown",
   "id": "6190e22e-09ca-439b-974b-f45777121bbd",
   "metadata": {},
   "source": [
    "*Validators*:<br> ***Note:*** It is used to create reusable components for validation and can be parsed easily across multiple data values for their validation. We can also write multiple validators.\n",
    "```\n",
    "def validate_with_r(value):\n",
    "    if value[0].lower() != 'r':\n",
    "        print('hereeeee')\n",
    "        raise serializers.ValidationError(\"Name should Start with r!\")\n",
    "    return value\n",
    "name = serializers.CharField(read_only=True)\n",
    "name = serializers.CharField(validators=[validate_with_r])\n",
    "```"
   ]
  },
  {
   "cell_type": "markdown",
   "id": "09f47e6f-25e7-43dd-9ee9-a48442aec1d6",
   "metadata": {},
   "source": [
    "### Validators priority / precedence\n",
    "validators > field level > object level"
   ]
  },
  {
   "cell_type": "markdown",
   "id": "dfc13c95-e8c1-4433-b9f8-97819421c53f",
   "metadata": {},
   "source": [
    "### Model Serializer\n",
    "It is used to create serializers easily without having to specify the field name. It is kind of a shortcut for doing the traditional work while creating models. Here are key properties:\n",
    "- It automatically generates a set of fields for you, based on the model.\n",
    "- It will automatically generate validators for the serializer, such as `unique_together` validators.\n",
    "- It includes simple default implementations of `create()` and `update()`\n",
    "- It uses `Meta` class as a shortcut and provide easy to use interface for model implementation.\n",
    "Example code:\n",
    "```\n",
    "from rest_framework import serializers\n",
    "from .models import Student\n",
    "\n",
    "class StudentSerializer(serializers.ModelSerializer):\n",
    "    class Meta:\n",
    "        model = Student\n",
    "        fields = \"__all__\"\n",
    "```\n",
    "***Note:*** we can use <br>`fields = '__all__' # for all attributes` <br> `fields = exclude('id') # for all except 'id'` <br> `read_only_fields = ['name'] # we can also write like:\n",
    "extra_kwargs = {'name':{'read_only':True}}\n",
    "`"
   ]
  },
  {
   "cell_type": "markdown",
   "id": "f2e7bc49-a78c-4771-ad45-b030f48bfa58",
   "metadata": {},
   "source": [
    "### Function Based API View\n",
    "In Django REST Framework (DRF), a function-based API view is a simple way to create API endpoints using regular Python functions, decorated with special DRF decorators like `@api_view`.\n",
    "\n",
    "This is the most basic and beginner-friendly way to create an API in DRF."
   ]
  },
  {
   "cell_type": "markdown",
   "id": "d7c2abe9-73a4-4d07-9120-e853992934b0",
   "metadata": {},
   "source": [
    "```\n",
    "from rest_framework.decorators import api_view\n",
    "from rest_framework.response import Response\n",
    "from rest_framework import status\n",
    "\n",
    "@api_view(['GET', 'POST'])  # allowed HTTP methods\n",
    "def student_api(request):\n",
    "    if request.method == 'GET':\n",
    "        # fetch and return data\n",
    "        return Response({\"message\": \"GET request received\"})\n",
    "\n",
    "    elif request.method == 'POST':\n",
    "        # handle data creation\n",
    "        return Response({\"message\": \"POST request received\"}, status=status.HTTP_201_CREATED)\n",
    "\n",
    "```"
   ]
  },
  {
   "cell_type": "markdown",
   "id": "e318ce44-b212-45dc-979f-134011f0fba4",
   "metadata": {},
   "source": [
    "### Class Based API View\n",
    "A Class-Based API View in Django REST Framework is a more structured, reusable, and scalable way to define your API endpoints. It uses Python classes instead of functions and gives you more flexibility, especially as your app grows.\n",
    "\n"
   ]
  },
  {
   "cell_type": "markdown",
   "id": "a76f2866-b614-47e8-951e-c45c7d8d8806",
   "metadata": {},
   "source": [
    "Example Code:\n",
    "```\n",
    "from rest_framework.views import APIView\n",
    "from rest_framework.response import Response\n",
    "from rest_framework import status\n",
    "\n",
    "class StudentAPIView(APIView):\n",
    "\n",
    "    def get(self, request):\n",
    "        return Response({\"message\": \"GET request from class-based API view\"})\n",
    "\n",
    "    def post(self, request):\n",
    "        return Response({\"message\": \"POST request from class-based API view\"}, status=status.HTTP_201_CREATED)\n",
    "```"
   ]
  },
  {
   "cell_type": "markdown",
   "id": "be7322d4-6d32-4a47-91be-46312fe9fe2c",
   "metadata": {},
   "source": [
    "***Note:*** In class based API views, we also have to change the `urls.py` as below:\n",
    "```\n",
    "from django.contrib import admin\n",
    "from django.urls import path\n",
    "from api import views\n",
    "urlpatterns = [\n",
    "    path('admin/', admin.site.urls),\n",
    "    path('studentapi/', views.StudentAPI.as_view()),\n",
    "    path('studentapi/<int:pk>', views.StudentAPI.as_view()),\n",
    "]\n",
    "```"
   ]
  },
  {
   "cell_type": "markdown",
   "id": "be2f2243-0454-47af-b605-7fe0dade7775",
   "metadata": {},
   "source": [
    "### Generic APIView\n",
    "In Django REST Framework (DRF), a Generic APIView is a powerful abstraction built on top of the APIView class. It helps you write less code for common patterns like:\n",
    "- Listing objects\n",
    "- Creating new objects\n",
    "- Retrieving a single object\n",
    "- Updating or deleting objects"
   ]
  },
  {
   "cell_type": "markdown",
   "id": "485ba4c7-e324-4976-9da6-c9217f8311e2",
   "metadata": {},
   "source": [
    "GenericAPIView is a class in DRF that provides core behavior like:\n",
    "- Defining a queryset\n",
    "- Assigning a serializer_class\n",
    "- Automatically handling lookup_field (like pk)\n",
    "- Useful helper methods like:\n",
    "`.get_queryset()`\n",
    "`.get_object()`\n",
    "`.get_serializer()`\n",
    "- But you don’t use GenericAPIView alone — it's usually combined with mixins."
   ]
  },
  {
   "cell_type": "markdown",
   "id": "e1491af7-aa89-42c5-a30e-0abcd5af6078",
   "metadata": {},
   "source": [
    "### Mixins\n",
    "In Django REST Framework (DRF), mixins are small, reusable classes that provide common CRUD operations like:\n",
    "- list (GET all)\n",
    "- create (POST)\n",
    "- retrieve (GET one)\n",
    "- update (PUT/PATCH)\n",
    "- destroy (DELETE)\n",
    "You use them with GenericAPIView to quickly build APIs with minimal boilerplate."
   ]
  },
  {
   "cell_type": "markdown",
   "id": "c15f0119-f43d-4fcf-8fca-6ba1cfd3d74a",
   "metadata": {},
   "source": [
    "Classes names are:\n",
    "- `ListModelMixin`\n",
    "- `CreateModelMixin`\n",
    "- `RetrieveModelMixin`\n",
    "- `UpdateModelMixin`"
   ]
  },
  {
   "cell_type": "markdown",
   "id": "56eb2174-e5be-4377-84ec-9840ce35f291",
   "metadata": {},
   "source": [
    "### ListModelMixin\n",
    "It is used to list the queryset and provides `list` method for it.\n",
    "<br> _Code Example_:\n",
    "```\n",
    "from rest_framework.mixins import ListModelMixin\n",
    "from rest_framework.generics import GenericAPIView\n",
    "class StudentList(ListModelMixin, GenericAPIView):\n",
    "    queryset = Student.objects.all()\n",
    "    serializer_class = StudentSerializer\n",
    "    def get(self, request, *args, **kwargs):\n",
    "        return self.list(request, *args, **kwargs)\n",
    "```"
   ]
  },
  {
   "cell_type": "markdown",
   "id": "8ee540dd-e060-4be5-8a89-63dbed5b0cb2",
   "metadata": {},
   "source": [
    "### CreateModelMixin\n",
    "It is used to create the model instance and provides `create` method for it.\n",
    "<br> _Code Example_:\n",
    "```\n",
    "from rest_framework.mixins import CreateModelMixin\n",
    "from rest_framework.generics import GenericAPIView\n",
    "class StudentCreate(CreateModelMixin, GenericAPIView):\n",
    "    queryset = Student.objects.all()\n",
    "    serializer_class = StudentSerializer\n",
    "    def post(self, request, *args, **kwargs):\n",
    "        return self.create(request, *args, **kwargs)\n",
    "```"
   ]
  },
  {
   "cell_type": "markdown",
   "id": "f6158ed1-9bec-4c77-8da3-374520c408b5",
   "metadata": {},
   "source": [
    "### RetrieveModelMixin\n",
    "It is used to return the existing model instance and provides `retrieve` method for it.\n",
    "<br> _Code Example_:\n",
    "```\n",
    "from rest_framework.mixins import RetireveModelMixin\n",
    "from rest_framework.generics import GenericAPIView\n",
    "class StudentRetrieve(RetireveModelMixin, GenericAPIView):\n",
    "    queryset = Student.objects.all()\n",
    "    serializer_class = StudentSerializer\n",
    "    def get(self, request, *args, **kwargs):\n",
    "        return self.retrieve(request, *args, **kwargs)\n",
    "```"
   ]
  },
  {
   "cell_type": "markdown",
   "id": "07484d77-dfac-4354-8206-9e32f229b497",
   "metadata": {},
   "source": [
    "### UpdateModelMixin\n",
    "It is used to update the existing model instance and provides `update` method for it. It also supports partial update as well.\n",
    "<br> _Code Example_:\n",
    "```\n",
    "from rest_framework.mixins import UpdateModelMixin\n",
    "from rest_framework.generics import GenericAPIView\n",
    "\n",
    "class StudentUpdate(UpdateModelMixin, GenericAPIView):\n",
    "    \n",
    "    queryset = Student.objects.all()\n",
    "    serializer_class = StudentSerializer\n",
    "    \n",
    "    def put(self, request, *args, **kwargs): # handles patch as well\n",
    "        return self.update(request, *args, **kwargs)\n",
    "    \n",
    "```"
   ]
  },
  {
   "cell_type": "markdown",
   "id": "bf7ac76f-8e8d-4467-81fd-befee6536bb5",
   "metadata": {},
   "source": [
    "### DestroyModelMixin\n",
    "It is used to update the existing model instance and provides `update` method for it. It also supports partial update as well.\n",
    "<br> _Code Example_:\n",
    "```\n",
    "from rest_framework.mixins import DestroyModelMixin\n",
    "from rest_framework.generics import GenericAPIView\n",
    "\n",
    "class StudentDestroy(DestroyModelMixin, GenericAPIView):\n",
    "\n",
    "    queryset = Student.objects.all()\n",
    "    serializer_class = StudentSerializer\n",
    "    \n",
    "    def delete(self, request, *args, **kwargs):\n",
    "        return self.destroy(request, *args, **kwargs)\n",
    "```"
   ]
  },
  {
   "cell_type": "markdown",
   "id": "9c0d4e63-eada-48c5-9478-6aa96ad349f0",
   "metadata": {},
   "source": [
    "### Concerete View Class\n",
    "In Django REST Framework (DRF), Concrete API Views are pre-built combinations of GenericAPIView + relevant mixins — already packaged together to give you ready-to-use CRUD views with minimal code.\n",
    "<br>***Note:*** Think of them as shortcuts for the most common use cases in REST APIs.\n",
    "\n"
   ]
  },
  {
   "cell_type": "markdown",
   "id": "12e694f0-f908-470a-a6f7-de9616c69d42",
   "metadata": {},
   "source": [
    "- `ListAPIView` extends `GenericAPIView` and `ListModelMixin`\n",
    "<br>\n",
    "Example code:\n",
    "\n",
    "```\n",
    "from rest_framework.generics import ListAPIView\n",
    "class StudentList(ListAPIView):\n",
    "    queryset = Student.objects.all()\n",
    "    serializer_class = StudentSerializer\n",
    "```\n",
    "- `CreateAPIView` extends `GenericAPIView` and `CreateModelMixin`\n",
    "<br>\n",
    "Example code:\n",
    "\n",
    "```\n",
    "from rest_framework.generics import CreateAPIView\n",
    "class StudentCreate(CreateAPIView):\n",
    "    queryset = Student.objects.all()\n",
    "    serializer_class = StudentSerializer\n",
    "```\n",
    "- `RetrieveAPIView` extends `GenericAPIView` and `RetrieveModelMixin`\n",
    "<br>\n",
    "Example code:\n",
    "\n",
    "```\n",
    "from rest_framework.generics import RetrieveAPIView\n",
    "class StudentRetrieve(RetrieveAPIView):\n",
    "    queryset = Student.objects.all()\n",
    "    serializer_class = StudentSerializer\n",
    "```\n",
    "- `UpdateAPIView` extends `GenericAPIView` and `UpdateModelMixin`\n",
    "<br>***Note:*** It supports both `PUT` and `PATCH`\n",
    "Example code:\n",
    "\n",
    "```\n",
    "from rest_framework.generics import UpdateAPIView\n",
    "class StudentUpdate(UpdateAPIView):\n",
    "    queryset = Student.objects.all()\n",
    "    serializer_class = StudentSerializer\n",
    "```\n",
    "- `DestroyAPIView` extends `GenericAPIView` and `DestroyModelMixin`\n",
    "<br>\n",
    "Example code:\n",
    "\n",
    "```\n",
    "from rest_framework.generics import DestroyAPIView\n",
    "class StudentDestroy(DestroyAPIView):\n",
    "    queryset = Student.objects.all()\n",
    "    serializer_class = StudentSerializer\n",
    "```"
   ]
  },
  {
   "cell_type": "markdown",
   "id": "df3c4714-a330-48fb-be62-5385b874d4bc",
   "metadata": {},
   "source": [
    "- `ListCreateAPIView` provides features of both `ListAPIView` and `CreateAPIView`\n",
    "- `RetrieveUpdateAPIView` provides features of both `RetrieveAPIView` and `UpdateAPIView`<br>***Note:*** It provides `GET`, `PUT` and `PATCH` functionality\n",
    "- "
   ]
  },
  {
   "cell_type": "code",
   "execution_count": null,
   "id": "bd4530b5-622f-48a3-85f2-cd31a0b1ca43",
   "metadata": {},
   "outputs": [],
   "source": []
  }
 ],
 "metadata": {
  "kernelspec": {
   "display_name": "Python 3 (ipykernel)",
   "language": "python",
   "name": "python3"
  },
  "language_info": {
   "codemirror_mode": {
    "name": "ipython",
    "version": 3
   },
   "file_extension": ".py",
   "mimetype": "text/x-python",
   "name": "python",
   "nbconvert_exporter": "python",
   "pygments_lexer": "ipython3",
   "version": "3.13.5"
  }
 },
 "nbformat": 4,
 "nbformat_minor": 5
}
