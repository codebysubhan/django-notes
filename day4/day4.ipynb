{
 "cells": [
  {
   "cell_type": "markdown",
   "id": "e3678990-41a2-4921-99bb-afef023472fa",
   "metadata": {},
   "source": [
    "### Sets and Implementation"
   ]
  },
  {
   "cell_type": "code",
   "execution_count": 9,
   "id": "17f9088b-2b66-4288-b022-1488d2334c3a",
   "metadata": {
    "ExecuteTime": {
     "end_time": "2025-06-25T07:58:15.514904Z",
     "start_time": "2025-06-25T07:58:15.482147Z"
    }
   },
   "outputs": [
    {
     "data": {
      "text/plain": [
       "{1, 2, 3, 4, 5}"
      ]
     },
     "execution_count": 9,
     "metadata": {},
     "output_type": "execute_result"
    }
   ],
   "source": [
    "my_set = set()\n",
    "# adding an element\n",
    "my_set.add(1)\n",
    "my_set.add(2)\n",
    "my_set.add(3)\n",
    "my_set.add(4)\n",
    "my_set.add(5)\n",
    "my_set"
   ]
  },
  {
   "cell_type": "code",
   "execution_count": 10,
   "id": "aa279ec0-1512-44a9-9748-08c41648a916",
   "metadata": {
    "ExecuteTime": {
     "end_time": "2025-06-25T07:58:17.447181Z",
     "start_time": "2025-06-25T07:58:17.405122Z"
    }
   },
   "outputs": [
    {
     "data": {
      "text/plain": [
       "{1, 2, 4, 5}"
      ]
     },
     "execution_count": 10,
     "metadata": {},
     "output_type": "execute_result"
    }
   ],
   "source": [
    "# removing an element\n",
    "my_set.remove(3)\n",
    "my_set"
   ]
  },
  {
   "cell_type": "code",
   "execution_count": 74,
   "id": "a791cf56-e744-4f3b-b4b9-e6ae1ff84416",
   "metadata": {},
   "outputs": [
    {
     "name": "stdout",
     "output_type": "stream",
     "text": [
      "before:  {1, 2, 4, 5}\n",
      "after:  {1, 2, 4, 5}\n"
     ]
    }
   ],
   "source": [
    "# remove only if present?\n",
    "print(\"before: \", my_set)\n",
    "# my_set.remove(100) # will give error\n",
    "my_set.discard(100)\n",
    "print(\"after: \", my_set)"
   ]
  },
  {
   "cell_type": "code",
   "execution_count": 75,
   "id": "083bcadc-364e-4d18-9541-791d90db9b28",
   "metadata": {},
   "outputs": [
    {
     "name": "stdout",
     "output_type": "stream",
     "text": [
      "1\n",
      "2\n",
      "4\n",
      "5\n"
     ]
    },
    {
     "ename": "KeyError",
     "evalue": "'pop from an empty set'",
     "output_type": "error",
     "traceback": [
      "\u001b[31m---------------------------------------------------------------------------\u001b[39m",
      "\u001b[31mKeyError\u001b[39m                                  Traceback (most recent call last)",
      "\u001b[36mCell\u001b[39m\u001b[36m \u001b[39m\u001b[32mIn[75]\u001b[39m\u001b[32m, line 4\u001b[39m\n\u001b[32m      2\u001b[39m elem = \u001b[38;5;28;01mTrue\u001b[39;00m\n\u001b[32m      3\u001b[39m \u001b[38;5;28;01mwhile\u001b[39;00m elem:\n\u001b[32m----> \u001b[39m\u001b[32m4\u001b[39m     elem = \u001b[43mmy_set\u001b[49m\u001b[43m.\u001b[49m\u001b[43mpop\u001b[49m\u001b[43m(\u001b[49m\u001b[43m)\u001b[49m\n\u001b[32m      5\u001b[39m     \u001b[38;5;28mprint\u001b[39m(elem)\n\u001b[32m      6\u001b[39m \u001b[38;5;66;03m# remove until keyerror\u001b[39;00m\n\u001b[32m      7\u001b[39m \u001b[38;5;66;03m# .clear() does the same\u001b[39;00m\n",
      "\u001b[31mKeyError\u001b[39m: 'pop from an empty set'"
     ]
    }
   ],
   "source": [
    "# remove any element from the set\n",
    "elem = True\n",
    "while elem:\n",
    "    elem = my_set.pop()\n",
    "    print(elem)\n",
    "# remove until keyerror\n",
    "# .clear() does the same"
   ]
  },
  {
   "cell_type": "code",
   "execution_count": 76,
   "id": "8df94966-8864-4645-b764-1aabd4c2ddc8",
   "metadata": {},
   "outputs": [
    {
     "data": {
      "text/plain": [
       "{1, 2, 3, 4, 5, 6, 7, 8, 9, 10}"
      ]
     },
     "execution_count": 76,
     "metadata": {},
     "output_type": "execute_result"
    }
   ],
   "source": [
    "my_set1 = {1, 2, 3, 4, 5}\n",
    "my_set2 = {6, 7, 8, 9, 10}\n",
    "my_set1.update(my_set2)\n",
    "my_set1"
   ]
  },
  {
   "cell_type": "code",
   "execution_count": 77,
   "id": "e2a54653-4fda-4a04-b8d1-52d5514f716a",
   "metadata": {},
   "outputs": [
    {
     "data": {
      "text/plain": [
       "False"
      ]
     },
     "execution_count": 77,
     "metadata": {},
     "output_type": "execute_result"
    }
   ],
   "source": [
    "my_set1.issubset(my_set2)"
   ]
  },
  {
   "cell_type": "code",
   "execution_count": 78,
   "id": "cde552bf-ad1a-40bd-bdd1-92cfe1969e84",
   "metadata": {},
   "outputs": [
    {
     "data": {
      "text/plain": [
       "True"
      ]
     },
     "execution_count": 78,
     "metadata": {},
     "output_type": "execute_result"
    }
   ],
   "source": [
    "my_set1.issuperset(my_set2)\n",
    "# my_set1, my_set2"
   ]
  },
  {
   "cell_type": "code",
   "execution_count": 79,
   "id": "983eb98b-78c5-476a-999a-68cd10b3d60b",
   "metadata": {},
   "outputs": [
    {
     "data": {
      "text/plain": [
       "({1, 2, 3, 4, 5}, {6, 7, 8, 9, 10})"
      ]
     },
     "execution_count": 79,
     "metadata": {},
     "output_type": "execute_result"
    }
   ],
   "source": [
    "my_set1 = {1, 2, 3, 4, 5}\n",
    "my_set2 = {6, 7, 8, 9, 10}\n",
    "my_set1, my_set2"
   ]
  },
  {
   "cell_type": "code",
   "execution_count": 80,
   "id": "dd8895ec-0cce-43e3-b647-c86afefc7495",
   "metadata": {},
   "outputs": [
    {
     "data": {
      "text/plain": [
       "{1, 2, 3, 4, 5, 6, 7, 8, 9, 10}"
      ]
     },
     "execution_count": 80,
     "metadata": {},
     "output_type": "execute_result"
    }
   ],
   "source": [
    "my_set1.union(my_set2) # does not update but return\n",
    "# my_set1"
   ]
  },
  {
   "cell_type": "code",
   "execution_count": 81,
   "id": "b33e1d3a-ad45-47b8-bcc8-3a3123d1fdad",
   "metadata": {},
   "outputs": [
    {
     "data": {
      "text/plain": [
       "set()"
      ]
     },
     "execution_count": 81,
     "metadata": {},
     "output_type": "execute_result"
    }
   ],
   "source": [
    "my_set1.intersection(my_set2) # does not update but return"
   ]
  },
  {
   "cell_type": "code",
   "execution_count": 82,
   "id": "dd4469e8-5415-4ab6-892e-c33b8c31d786",
   "metadata": {},
   "outputs": [
    {
     "data": {
      "text/plain": [
       "{1, 2, 3, 4, 5}"
      ]
     },
     "execution_count": 82,
     "metadata": {},
     "output_type": "execute_result"
    }
   ],
   "source": [
    "my_set1.difference(my_set2) # does not update but return a new set"
   ]
  },
  {
   "cell_type": "code",
   "execution_count": 83,
   "id": "cdb90f82-74cf-41a8-853f-ea5e9c39cc68",
   "metadata": {},
   "outputs": [
    {
     "data": {
      "text/plain": [
       "{1, 2, 3, 4, 5}"
      ]
     },
     "execution_count": 83,
     "metadata": {},
     "output_type": "execute_result"
    }
   ],
   "source": [
    "my_set1.copy() # return a new copy"
   ]
  },
  {
   "cell_type": "markdown",
   "id": "1bae6737-f262-4faf-9132-2a64796ecf2f",
   "metadata": {},
   "source": [
    "### Frozen Set"
   ]
  },
  {
   "cell_type": "code",
   "execution_count": 84,
   "id": "a44ba50b-26f0-4e71-97db-637d4be9739e",
   "metadata": {},
   "outputs": [
    {
     "data": {
      "text/plain": [
       "{1, 2, 3, 4, 5}"
      ]
     },
     "execution_count": 84,
     "metadata": {},
     "output_type": "execute_result"
    }
   ],
   "source": [
    "my_set1"
   ]
  },
  {
   "cell_type": "code",
   "execution_count": 85,
   "id": "0ce50e7f-c37d-4b0e-9ed4-765d956cd128",
   "metadata": {},
   "outputs": [],
   "source": [
    "my_frozen_set1 = frozenset(my_set1)"
   ]
  },
  {
   "cell_type": "code",
   "execution_count": 86,
   "id": "f7dc21e7-83ff-49aa-93db-8ca4ac53224a",
   "metadata": {},
   "outputs": [
    {
     "data": {
      "text/plain": [
       "frozenset({1, 2, 3, 4, 5})"
      ]
     },
     "execution_count": 86,
     "metadata": {},
     "output_type": "execute_result"
    }
   ],
   "source": [
    "my_frozen_set1"
   ]
  },
  {
   "cell_type": "code",
   "execution_count": 87,
   "id": "4b212b11-9ca2-4f74-a8b0-d7e9d845c2a4",
   "metadata": {},
   "outputs": [
    {
     "ename": "AttributeError",
     "evalue": "'frozenset' object has no attribute 'add'",
     "output_type": "error",
     "traceback": [
      "\u001b[31m---------------------------------------------------------------------------\u001b[39m",
      "\u001b[31mAttributeError\u001b[39m                            Traceback (most recent call last)",
      "\u001b[36mCell\u001b[39m\u001b[36m \u001b[39m\u001b[32mIn[87]\u001b[39m\u001b[32m, line 1\u001b[39m\n\u001b[32m----> \u001b[39m\u001b[32m1\u001b[39m \u001b[43mmy_frozen_set1\u001b[49m\u001b[43m.\u001b[49m\u001b[43madd\u001b[49m(\u001b[32m10\u001b[39m)\n",
      "\u001b[31mAttributeError\u001b[39m: 'frozenset' object has no attribute 'add'"
     ]
    }
   ],
   "source": [
    "my_frozen_set1.add(10)"
   ]
  },
  {
   "cell_type": "code",
   "execution_count": 88,
   "id": "699dcaaa-1816-46be-ba4a-175f001c2dec",
   "metadata": {},
   "outputs": [
    {
     "data": {
      "text/plain": [
       "frozenset({1, 2, 3, 4, 5})"
      ]
     },
     "execution_count": 88,
     "metadata": {},
     "output_type": "execute_result"
    }
   ],
   "source": [
    "my_frozen_set1"
   ]
  },
  {
   "cell_type": "code",
   "execution_count": 89,
   "id": "1d23d6b6-f2c9-4689-8133-c194bd9d656a",
   "metadata": {},
   "outputs": [
    {
     "data": {
      "text/plain": [
       "frozenset({1, 2, 3, 4, 5})"
      ]
     },
     "execution_count": 89,
     "metadata": {},
     "output_type": "execute_result"
    }
   ],
   "source": [
    "# copying a frozen set\n",
    "new_frozen_set1 = my_frozen_set1.copy()\n",
    "new_frozen_set1"
   ]
  },
  {
   "cell_type": "code",
   "execution_count": 90,
   "id": "af11fadb-4a5f-4f78-82db-7e1e878a9da3",
   "metadata": {},
   "outputs": [
    {
     "data": {
      "text/plain": [
       "frozenset({3, 6, 7, 8, 9})"
      ]
     },
     "execution_count": 90,
     "metadata": {},
     "output_type": "execute_result"
    }
   ],
   "source": [
    "new_frozen_set2 = frozenset([3, 6, 7, 8, 9])\n",
    "new_frozen_set2"
   ]
  },
  {
   "cell_type": "code",
   "execution_count": 91,
   "id": "a1155c95-9993-4421-81d4-39d3a85ff978",
   "metadata": {},
   "outputs": [
    {
     "data": {
      "text/plain": [
       "(frozenset({1, 2, 3, 4, 5}), frozenset({1, 2, 3, 4, 5, 6, 7, 8, 9}))"
      ]
     },
     "execution_count": 91,
     "metadata": {},
     "output_type": "execute_result"
    }
   ],
   "source": [
    "new_frozen_set1.union(my_set1), new_frozen_set1.union(new_frozen_set2)"
   ]
  },
  {
   "cell_type": "code",
   "execution_count": 92,
   "id": "84b1a90b-348c-4d34-a976-2d54c9517b5f",
   "metadata": {},
   "outputs": [
    {
     "data": {
      "text/plain": [
       "(frozenset({1, 2, 3, 4, 5}), frozenset({3}))"
      ]
     },
     "execution_count": 92,
     "metadata": {},
     "output_type": "execute_result"
    }
   ],
   "source": [
    "new_frozen_set1.intersection(my_set1), new_frozen_set1.intersection(new_frozen_set2)"
   ]
  },
  {
   "cell_type": "code",
   "execution_count": 93,
   "id": "459a0a66-ccb7-4d05-9824-f0d8d8c612cb",
   "metadata": {},
   "outputs": [
    {
     "data": {
      "text/plain": [
       "(frozenset(), frozenset({1, 2, 4, 5}))"
      ]
     },
     "execution_count": 93,
     "metadata": {},
     "output_type": "execute_result"
    }
   ],
   "source": [
    "new_frozen_set1.difference(my_set1), new_frozen_set1.difference(new_frozen_set2)"
   ]
  },
  {
   "cell_type": "code",
   "execution_count": 94,
   "id": "ba5b44ab-99ea-4bda-accd-47cabf67c48a",
   "metadata": {},
   "outputs": [
    {
     "data": {
      "text/plain": [
       "(frozenset(), frozenset({1, 2, 4, 5, 6, 7, 8, 9}))"
      ]
     },
     "execution_count": 94,
     "metadata": {},
     "output_type": "execute_result"
    }
   ],
   "source": [
    "new_frozen_set1.symmetric_difference(my_set1), new_frozen_set1.symmetric_difference(new_frozen_set2)"
   ]
  },
  {
   "cell_type": "markdown",
   "id": "2ac3e06c-a2f7-4407-886b-e9386adc7e48",
   "metadata": {},
   "source": [
    "### Custom List Implementation"
   ]
  },
  {
   "cell_type": "code",
   "execution_count": 95,
   "id": "d55478fc-e36a-42cc-9f4a-0fec34844040",
   "metadata": {},
   "outputs": [],
   "source": [
    "class my_custom_list:\n",
    "    def __init__(self, data=[]):\n",
    "        if data and isinstance(data, list):\n",
    "            self.__data = data\n",
    "        else:\n",
    "            self.__data = []\n",
    "\n",
    "    def __eq__(self, other):\n",
    "        return self.__data == other.__data\n",
    "\n",
    "    def __ne__(self, other):\n",
    "        return self.__data != other.__data\n",
    "\n",
    "    def __repr__(self):\n",
    "        return f\"class: my_custom_list\\nData: {self.__data}\"\n",
    "\n",
    "    def __str__(self):\n",
    "        return str(self.__data)\n",
    "\n",
    "    def __add__(self, num):\n",
    "        if isinstance(num, int) or isinstance(num, float):\n",
    "            return self.__data + num\n",
    "        return self.__data\n",
    "\n",
    "    def __sub__(self, num):\n",
    "        if isinstance(num, int) or isinstance(num, float):\n",
    "            return self.__data - num\n",
    "        return self.__data\n",
    "\n",
    "    def __mul__(self, num):\n",
    "        if isinstance(num, int) or isinstance(num, float):\n",
    "            return self.__data * num\n",
    "        return self.__data\n",
    "\n",
    "    def __len__(self):\n",
    "        return len(self.__data)\n",
    "\n",
    "    def __getitem__(self, key):\n",
    "        if not(key < len(self.__data)):\n",
    "            return False\n",
    "        return self.__data[key]\n",
    "\n",
    "    def __setitem__(self, key, value):\n",
    "        if not(key < len(self.__data)):\n",
    "            return False\n",
    "        self.__data[key] = value\n",
    "        return True\n",
    "\n",
    "    def __delitem__(self, key):\n",
    "        if not(key < len(self.__data)):\n",
    "            return False\n",
    "        del self.__data[key]\n",
    "        return True\n",
    "\n",
    "    def __iter__(self):\n",
    "        return iter(self.__data)\n",
    "\n",
    "    def __contains__(self, value):\n",
    "        return value in self.__data\n",
    "\n",
    "    def append(self, value):\n",
    "        self.__data.append(value)\n",
    "        return True"
   ]
  },
  {
   "cell_type": "code",
   "execution_count": 96,
   "id": "fabd6562-7e63-418d-8a90-1b2c9817836d",
   "metadata": {},
   "outputs": [],
   "source": [
    "m_list1 = my_custom_list()"
   ]
  },
  {
   "cell_type": "code",
   "execution_count": 97,
   "id": "d0bcc642-fef0-43a4-aa8e-849de6e84496",
   "metadata": {},
   "outputs": [
    {
     "data": {
      "text/plain": [
       "class: my_custom_list\n",
       "Data: [1, 2, 3, 4, 5]"
      ]
     },
     "execution_count": 97,
     "metadata": {},
     "output_type": "execute_result"
    }
   ],
   "source": [
    "m_list1.append(1)\n",
    "m_list1.append(2)\n",
    "m_list1.append(3)\n",
    "m_list1.append(4)\n",
    "m_list1.append(5)\n",
    "m_list1"
   ]
  },
  {
   "cell_type": "code",
   "execution_count": 98,
   "id": "8a36ee6a-7b58-4db8-a99d-98c78a314b19",
   "metadata": {},
   "outputs": [
    {
     "name": "stdout",
     "output_type": "stream",
     "text": [
      "[1, 2, 3, 4, 5]\n"
     ]
    }
   ],
   "source": [
    "print(m_list1)"
   ]
  },
  {
   "cell_type": "code",
   "execution_count": 99,
   "id": "276bd187-681e-4124-b489-f930f2c526c7",
   "metadata": {},
   "outputs": [],
   "source": [
    "m_list2 = my_custom_list()"
   ]
  },
  {
   "cell_type": "code",
   "execution_count": 100,
   "id": "b2c84e89-075c-4d35-a7d3-cd45a1385521",
   "metadata": {},
   "outputs": [
    {
     "data": {
      "text/plain": [
       "class: my_custom_list\n",
       "Data: [1, 2, 3, 4, 5]"
      ]
     },
     "execution_count": 100,
     "metadata": {},
     "output_type": "execute_result"
    }
   ],
   "source": [
    "m_list2.append(1)\n",
    "m_list2.append(2)\n",
    "m_list2.append(3)\n",
    "m_list2.append(4)\n",
    "m_list2.append(5)\n",
    "m_list2"
   ]
  },
  {
   "cell_type": "code",
   "execution_count": 101,
   "id": "9c8aff4f-61b9-4460-95bd-1f8c2e3f12bd",
   "metadata": {},
   "outputs": [
    {
     "data": {
      "text/plain": [
       "True"
      ]
     },
     "execution_count": 101,
     "metadata": {},
     "output_type": "execute_result"
    }
   ],
   "source": [
    "m_list1 == m_list2"
   ]
  },
  {
   "cell_type": "code",
   "execution_count": 102,
   "id": "898c43e1-3fa8-4f26-9cd5-ed9c0ffdcbc6",
   "metadata": {},
   "outputs": [],
   "source": [
    "del m_list2[1]"
   ]
  },
  {
   "cell_type": "code",
   "execution_count": 103,
   "id": "c2e55401-ef0c-4924-8203-464780398141",
   "metadata": {},
   "outputs": [
    {
     "data": {
      "text/plain": [
       "class: my_custom_list\n",
       "Data: [1, 3, 4, 5]"
      ]
     },
     "execution_count": 103,
     "metadata": {},
     "output_type": "execute_result"
    }
   ],
   "source": [
    "m_list2"
   ]
  },
  {
   "cell_type": "code",
   "execution_count": 104,
   "id": "cb9e6f20-0f1b-4dce-b2f9-c638c498d64f",
   "metadata": {},
   "outputs": [
    {
     "data": {
      "text/plain": [
       "False"
      ]
     },
     "execution_count": 104,
     "metadata": {},
     "output_type": "execute_result"
    }
   ],
   "source": [
    "m_list1 == m_list2"
   ]
  },
  {
   "cell_type": "code",
   "execution_count": 105,
   "id": "7a4709ba-70fd-494f-b9a4-43782e384fd4",
   "metadata": {},
   "outputs": [
    {
     "data": {
      "text/plain": [
       "True"
      ]
     },
     "execution_count": 105,
     "metadata": {},
     "output_type": "execute_result"
    }
   ],
   "source": [
    "m_list1 != m_list2"
   ]
  },
  {
   "cell_type": "code",
   "execution_count": 106,
   "id": "042efa38-27bd-4537-b81e-31eed5ec9438",
   "metadata": {},
   "outputs": [
    {
     "name": "stdout",
     "output_type": "stream",
     "text": [
      "yes\n"
     ]
    }
   ],
   "source": [
    "if 1 in m_list1:\n",
    "    print('yes')\n",
    "else:\n",
    "    print('no')"
   ]
  },
  {
   "cell_type": "code",
   "execution_count": null,
   "id": "0b9f80eb-4bd8-4f8c-9126-1cebab369c43",
   "metadata": {},
   "outputs": [],
   "source": [
    "\n"
   ]
  },
  {
   "cell_type": "code",
   "execution_count": null,
   "id": "b6fda385-e0f5-4427-9ec0-3f4a65295cf3",
   "metadata": {},
   "outputs": [],
   "source": []
  },
  {
   "cell_type": "code",
   "execution_count": null,
   "id": "779d0abd-c9f8-41ee-97bf-c38fb36e6827",
   "metadata": {},
   "outputs": [],
   "source": []
  },
  {
   "cell_type": "markdown",
   "id": "b4497191-d89c-4bc8-b051-b5525f713428",
   "metadata": {},
   "source": [
    "### Dictionnary - Implementation and Methods"
   ]
  },
  {
   "cell_type": "code",
   "execution_count": 107,
   "id": "9bf8c202-ee71-471b-afe9-315ac349702f",
   "metadata": {},
   "outputs": [],
   "source": [
    "my_dict = dict()"
   ]
  },
  {
   "cell_type": "code",
   "execution_count": 108,
   "id": "322bc6e9-c83e-4fc9-89c6-0f3db7d6def0",
   "metadata": {},
   "outputs": [
    {
     "data": {
      "text/plain": [
       "{'a': 1, 'b': 2, 'c': 3}"
      ]
     },
     "execution_count": 108,
     "metadata": {},
     "output_type": "execute_result"
    }
   ],
   "source": [
    "my_dict['a'] = 1\n",
    "my_dict['b'] = 2\n",
    "my_dict['c'] = 3\n",
    "my_dict"
   ]
  },
  {
   "cell_type": "code",
   "execution_count": 109,
   "id": "80a72052-e831-4b7c-87b6-b2ff2f8d6669",
   "metadata": {},
   "outputs": [],
   "source": [
    "my_dict.clear()"
   ]
  },
  {
   "cell_type": "code",
   "execution_count": 110,
   "id": "f8197c67-f3b8-46fa-9f24-48b46210c646",
   "metadata": {},
   "outputs": [
    {
     "data": {
      "text/plain": [
       "{}"
      ]
     },
     "execution_count": 110,
     "metadata": {},
     "output_type": "execute_result"
    }
   ],
   "source": [
    "my_dict"
   ]
  },
  {
   "cell_type": "code",
   "execution_count": 111,
   "id": "e56b4a01-c834-44bf-bf24-de05ccfbc61c",
   "metadata": {},
   "outputs": [],
   "source": [
    "my_dict.get('a')"
   ]
  },
  {
   "cell_type": "code",
   "execution_count": 112,
   "id": "81189731-1b24-4645-a8be-d9d3ccae0291",
   "metadata": {},
   "outputs": [
    {
     "data": {
      "text/plain": [
       "1"
      ]
     },
     "execution_count": 112,
     "metadata": {},
     "output_type": "execute_result"
    }
   ],
   "source": [
    "my_dict['a'] = 1\n",
    "my_dict.get('a')"
   ]
  },
  {
   "cell_type": "code",
   "execution_count": 113,
   "id": "514ceab4-f13f-49b8-be87-21f702f7b49c",
   "metadata": {},
   "outputs": [],
   "source": [
    "keys = ['a', 'b', 'c', 'd']\n",
    "my_dict = my_dict.fromkeys(keys)"
   ]
  },
  {
   "cell_type": "code",
   "execution_count": 114,
   "id": "0286801a-dc95-4c23-b6c1-988e19a3b933",
   "metadata": {},
   "outputs": [
    {
     "data": {
      "text/plain": [
       "{'a': None, 'b': None, 'c': None, 'd': None}"
      ]
     },
     "execution_count": 114,
     "metadata": {},
     "output_type": "execute_result"
    }
   ],
   "source": [
    "my_dict"
   ]
  },
  {
   "cell_type": "code",
   "execution_count": 115,
   "id": "82685fd4-3971-4f2c-8db8-dafa807c2213",
   "metadata": {},
   "outputs": [],
   "source": [
    "my_dict['a'] = ['test']"
   ]
  },
  {
   "cell_type": "code",
   "execution_count": 116,
   "id": "2cc838ea-9aae-4114-b3c4-f593664c4124",
   "metadata": {},
   "outputs": [
    {
     "data": {
      "text/plain": [
       "{'a': ['test'], 'b': None, 'c': None, 'd': None}"
      ]
     },
     "execution_count": 116,
     "metadata": {},
     "output_type": "execute_result"
    }
   ],
   "source": [
    "my_dict"
   ]
  },
  {
   "cell_type": "code",
   "execution_count": 117,
   "id": "7a2aabe0-480e-4c53-956f-e9e40ccd54e8",
   "metadata": {},
   "outputs": [],
   "source": [
    "my_dict2 = dict()\n",
    "my_dict2 = my_dict2.fromkeys(keys, [])"
   ]
  },
  {
   "cell_type": "code",
   "execution_count": 118,
   "id": "032f5da1-71d1-4f96-b0a1-3f0fa3fe99f8",
   "metadata": {},
   "outputs": [
    {
     "data": {
      "text/plain": [
       "{'a': [], 'b': [], 'c': [], 'd': []}"
      ]
     },
     "execution_count": 118,
     "metadata": {},
     "output_type": "execute_result"
    }
   ],
   "source": [
    "my_dict2"
   ]
  },
  {
   "cell_type": "code",
   "execution_count": 119,
   "id": "188dea0b-4bd2-485a-9448-ff8192ba1bfb",
   "metadata": {},
   "outputs": [],
   "source": [
    "my_dict2['a'].append(1)"
   ]
  },
  {
   "cell_type": "code",
   "execution_count": 120,
   "id": "6c3646bf-2d57-4bad-b742-f23f4f0cd2e6",
   "metadata": {},
   "outputs": [
    {
     "data": {
      "text/plain": [
       "{'a': [1], 'b': [1], 'c': [1], 'd': [1]}"
      ]
     },
     "execution_count": 120,
     "metadata": {},
     "output_type": "execute_result"
    }
   ],
   "source": [
    "my_dict2 # this is due to shallow copy "
   ]
  },
  {
   "cell_type": "code",
   "execution_count": 121,
   "id": "71156557-eb7e-4e7a-81ca-677a753aee93",
   "metadata": {},
   "outputs": [
    {
     "data": {
      "text/plain": [
       "{'a': [], 'b': [], 'c': [], 'd': []}"
      ]
     },
     "execution_count": 121,
     "metadata": {},
     "output_type": "execute_result"
    }
   ],
   "source": [
    "# to fix we must use dictionary comprehension\n",
    "my_dict3 = {key : [] for key in keys}\n",
    "my_dict3"
   ]
  },
  {
   "cell_type": "code",
   "execution_count": 122,
   "id": "4e0d658b-65ed-4230-8535-f8c4c01118d0",
   "metadata": {},
   "outputs": [],
   "source": [
    "my_dict3['a'].append(1)"
   ]
  },
  {
   "cell_type": "code",
   "execution_count": 123,
   "id": "1a45a76f-6231-407b-93ad-62941a5651c9",
   "metadata": {},
   "outputs": [
    {
     "data": {
      "text/plain": [
       "{'a': [1], 'b': [], 'c': [], 'd': []}"
      ]
     },
     "execution_count": 123,
     "metadata": {},
     "output_type": "execute_result"
    }
   ],
   "source": [
    "my_dict3 # now it's fixed"
   ]
  },
  {
   "cell_type": "markdown",
   "id": "857bec13-8e39-42df-8093-8a5943586bf5",
   "metadata": {},
   "source": [
    "### Shallow vs Deep copy"
   ]
  },
  {
   "cell_type": "code",
   "execution_count": 124,
   "id": "0262354f-a96b-4ae7-aa5b-00efb3b5a3cd",
   "metadata": {},
   "outputs": [
    {
     "data": {
      "text/plain": [
       "[[1, 2], [3, 4], [5, 6]]"
      ]
     },
     "execution_count": 124,
     "metadata": {},
     "output_type": "execute_result"
    }
   ],
   "source": [
    "# shallow copy\n",
    "my_list1 = [[1, 2], [3, 4], [5, 6]]\n",
    "my_list1"
   ]
  },
  {
   "cell_type": "code",
   "execution_count": 125,
   "id": "7005a9e0-05eb-4113-8934-dc50209193e3",
   "metadata": {},
   "outputs": [],
   "source": [
    "my_list2 = my_list1.copy()"
   ]
  },
  {
   "cell_type": "code",
   "execution_count": 126,
   "id": "1daf9559-a24c-4c33-bab4-9c7b51ea8f6a",
   "metadata": {},
   "outputs": [
    {
     "data": {
      "text/plain": [
       "[[1, 2], [3, 4], [5, 6]]"
      ]
     },
     "execution_count": 126,
     "metadata": {},
     "output_type": "execute_result"
    }
   ],
   "source": [
    "my_list2"
   ]
  },
  {
   "cell_type": "code",
   "execution_count": 127,
   "id": "8f01f920-996c-47d0-9bf8-52b8c75b9971",
   "metadata": {},
   "outputs": [],
   "source": [
    "my_list1[0][0] = 100"
   ]
  },
  {
   "cell_type": "code",
   "execution_count": 128,
   "id": "f9aae50e-dc3c-4409-8bd5-55d94382aae8",
   "metadata": {},
   "outputs": [
    {
     "data": {
      "text/plain": [
       "[[100, 2], [3, 4], [5, 6]]"
      ]
     },
     "execution_count": 128,
     "metadata": {},
     "output_type": "execute_result"
    }
   ],
   "source": [
    "my_list1"
   ]
  },
  {
   "cell_type": "code",
   "execution_count": 129,
   "id": "59048cd5-3c12-4dd8-97cd-1cfe956efd5c",
   "metadata": {},
   "outputs": [
    {
     "data": {
      "text/plain": [
       "[[100, 2], [3, 4], [5, 6]]"
      ]
     },
     "execution_count": 129,
     "metadata": {},
     "output_type": "execute_result"
    }
   ],
   "source": [
    "my_list2"
   ]
  },
  {
   "cell_type": "code",
   "execution_count": null,
   "id": "dde5b3bc-328f-4330-8463-b8c1da369317",
   "metadata": {},
   "outputs": [],
   "source": []
  },
  {
   "cell_type": "code",
   "execution_count": 130,
   "id": "8d3270f4-5b74-425c-927a-f464dfbc2288",
   "metadata": {},
   "outputs": [
    {
     "data": {
      "text/plain": [
       "([[100, 2], [3, 4], [5, 6]], [[100, 2], [3, 4], [5, 6]])"
      ]
     },
     "execution_count": 130,
     "metadata": {},
     "output_type": "execute_result"
    }
   ],
   "source": [
    "# deep copy\n",
    "my_list1, my_list2"
   ]
  },
  {
   "cell_type": "code",
   "execution_count": 131,
   "id": "ca81b608-ac1a-4902-9044-d9769fadc037",
   "metadata": {},
   "outputs": [],
   "source": [
    "import copy"
   ]
  },
  {
   "cell_type": "code",
   "execution_count": 132,
   "id": "b9a0b2cf-7dd6-43e8-8cba-d5703d751011",
   "metadata": {},
   "outputs": [],
   "source": [
    "my_list3 = copy.deepcopy(my_list2)"
   ]
  },
  {
   "cell_type": "code",
   "execution_count": 133,
   "id": "26a96367-bb6c-41e3-8c4b-1ea995db9eb5",
   "metadata": {},
   "outputs": [
    {
     "data": {
      "text/plain": [
       "([[100, 2], [3, 4], [5, 6]], [[100, 2], [3, 4], [5, 6]])"
      ]
     },
     "execution_count": 133,
     "metadata": {},
     "output_type": "execute_result"
    }
   ],
   "source": [
    "my_list3, my_list2"
   ]
  },
  {
   "cell_type": "code",
   "execution_count": 134,
   "id": "c4bef0ab-d6b7-459c-9cb5-3c38adcd8130",
   "metadata": {},
   "outputs": [],
   "source": [
    "my_list3[0][0] = -99"
   ]
  },
  {
   "cell_type": "code",
   "execution_count": 135,
   "id": "941232fd-b038-4139-871d-42009705a9b4",
   "metadata": {},
   "outputs": [
    {
     "data": {
      "text/plain": [
       "([[-99, 2], [3, 4], [5, 6]], [[100, 2], [3, 4], [5, 6]])"
      ]
     },
     "execution_count": 135,
     "metadata": {},
     "output_type": "execute_result"
    }
   ],
   "source": [
    "my_list3, my_list2"
   ]
  },
  {
   "cell_type": "code",
   "execution_count": null,
   "id": "446222bd-b743-496b-9a95-aa918e24eb5c",
   "metadata": {},
   "outputs": [],
   "source": []
  },
  {
   "cell_type": "code",
   "execution_count": null,
   "id": "4b970c52-49b0-4ac4-922f-e0177bbe32af",
   "metadata": {},
   "outputs": [],
   "source": []
  },
  {
   "cell_type": "code",
   "execution_count": null,
   "id": "5f6a30e7-0b5b-44d3-8d81-e345d53804bd",
   "metadata": {},
   "outputs": [],
   "source": []
  }
 ],
 "metadata": {
  "kernelspec": {
   "display_name": "Python 3 (ipykernel)",
   "language": "python",
   "name": "python3"
  },
  "language_info": {
   "codemirror_mode": {
    "name": "ipython",
    "version": 3
   },
   "file_extension": ".py",
   "mimetype": "text/x-python",
   "name": "python",
   "nbconvert_exporter": "python",
   "pygments_lexer": "ipython3",
   "version": "3.13.5"
  }
 },
 "nbformat": 4,
 "nbformat_minor": 5
}
