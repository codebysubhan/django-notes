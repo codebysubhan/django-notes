{
 "cells": [
  {
   "cell_type": "markdown",
   "metadata": {},
   "source": [
    "# Django REST Framework: Nested Serializer Example\n",
    "\n",
    "In this example, we demonstrate how to nest one serializer inside another — useful for one-to-many relationships like `Singer` and `Song`."
   ]
  },
  {
   "cell_type": "code",
   "execution_count": null,
   "metadata": {},
   "outputs": [],
   "source": [
    "# Optional Django setup (not required inside real project)\n",
    "import os\n",
    "import django\n",
    "from pathlib import Path\n",
    "\n",
    "BASE_DIR = Path.cwd() / \"drf_nested_demo\"\n",
    "os.makedirs(BASE_DIR, exist_ok=True)\n",
    "os.environ.setdefault(\"DJANGO_SETTINGS_MODULE\", \"drf_nested_demo.settings\")\n",
    "\n",
    "try:\n",
    "    django.setup()\n",
    "except:\n",
    "    pass"
   ]
  },
  {
   "cell_type": "markdown",
   "metadata": {},
   "source": [
    "## Step 1: Define the Models (`models.py`)"
   ]
  },
  {
   "cell_type": "code",
   "execution_count": null,
   "metadata": {},
   "outputs": [],
   "source": [
    "# models.py\n",
    "from django.db import models\n",
    "\n",
    "class Singer(models.Model):\n",
    "    name = models.CharField(max_length=100)\n",
    "    gender = models.CharField(max_length=10)\n",
    "\n",
    "    def __str__(self):\n",
    "        return self.name\n",
    "\n",
    "class Song(models.Model):\n",
    "    title = models.CharField(max_length=100)\n",
    "    duration = models.FloatField()\n",
    "    singer = models.ForeignKey(Singer, related_name=\"songs\", on_delete=models.CASCADE)\n",
    "\n",
    "    def __str__(self):\n",
    "        return self.title"
   ]
  },
  {
   "cell_type": "markdown",
   "metadata": {},
   "source": [
    "## Step 2: Create Nested Serializers (`serializers.py`)"
   ]
  },
  {
   "cell_type": "code",
   "execution_count": null,
   "metadata": {},
   "outputs": [],
   "source": [
    "# serializers.py\n",
    "from rest_framework import serializers\n",
    "from .models import Singer, Song\n",
    "\n",
    "class SongSerializer(serializers.ModelSerializer):\n",
    "    class Meta:\n",
    "        model = Song\n",
    "        fields = ['id', 'title', 'duration']\n",
    "\n",
    "class SingerSerializer(serializers.ModelSerializer):\n",
    "    songs = SongSerializer(many=True, read_only=True)\n",
    "\n",
    "    class Meta:\n",
    "        model = Singer\n",
    "        fields = ['id', 'name', 'gender', 'songs']"
   ]
  },
  {
   "cell_type": "markdown",
   "metadata": {},
   "source": [
    "## Step 3: Create ViewSets and Register Routes (`views.py`, `urls.py`)"
   ]
  },
  {
   "cell_type": "code",
   "execution_count": null,
   "metadata": {},
   "outputs": [],
   "source": [
    "# views.py\n",
    "from rest_framework import viewsets\n",
    "from .models import Singer, Song\n",
    "from .serializers import SingerSerializer, SongSerializer\n",
    "\n",
    "class SingerViewSet(viewsets.ModelViewSet):\n",
    "    queryset = Singer.objects.all()\n",
    "    serializer_class = SingerSerializer\n",
    "\n",
    "class SongViewSet(viewsets.ModelViewSet):\n",
    "    queryset = Song.objects.all()\n",
    "    serializer_class = SongSerializer"
   ]
  },
  {
   "cell_type": "code",
   "execution_count": null,
   "metadata": {},
   "outputs": [],
   "source": [
    "# urls.py\n",
    "from django.urls import include, path\n",
    "from rest_framework.routers import DefaultRouter\n",
    "from .views import SingerViewSet, SongViewSet\n",
    "\n",
    "router = DefaultRouter()\n",
    "router.register(r'singers', SingerViewSet)\n",
    "router.register(r'songs', SongViewSet)\n",
    "\n",
    "urlpatterns = [\n",
    "    path('', include(router.urls)),\n",
    "]"
   ]
  },
  {
   "cell_type": "markdown",
   "metadata": {},
   "source": [
    "## Step 4: Example Output (GET `/singers/1/`)\n",
    "\n",
    "```json\n",
    "{\n",
    "  \"id\": 1,\n",
    "  \"name\": \"A. R. Rahman\",\n",
    "  \"gender\": \"Male\",\n",
    "  \"songs\": [\n",
    "    {\n",
    "      \"id\": 1,\n",
    "      \"title\": \"Jai Ho\",\n",
    "      \"duration\": 4.5\n",
    "    },\n",
    "    {\n",
    "      \"id\": 2,\n",
    "      \"title\": \"Kun Faya Kun\",\n",
    "      \"duration\": 5.0\n",
    "    }\n",
    "  ]\n",
    "}\n",
    "```"
   ]
  },
  {
   "cell_type": "markdown",
   "metadata": {},
   "source": [
    "## 🔍 Summary Table\n",
    "\n",
    "| Element | Purpose |\n",
    "|---------|---------|\n",
    "| `SongSerializer` | Handles individual song representation |\n",
    "| `SingerSerializer` | Embeds multiple `SongSerializer` via nested relation |\n",
    "| `related_name=\"songs\"` | Enables reverse lookup (e.g., `singer.songs`) |\n",
    "| `many=True` | Indicates a list of related objects (one-to-many) |"
   ]
  }
 ],
 "metadata": {
  "kernelspec": {
   "display_name": "Python 3",
   "language": "python",
   "name": "python3"
  },
  "language_info": {
   "name": "python",
   "version": ""
  }
 },
 "nbformat": 4,
 "nbformat_minor": 2
}

