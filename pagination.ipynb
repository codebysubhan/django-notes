{
 "cells": [
  {
   "cell_type": "markdown",
   "metadata": {},
   "source": [
    "# 📘 DRF Pagination Overview\n",
    "\n",
    "Pagination is the process of breaking large datasets into smaller pages to:\n",
    "- Improve performance\n",
    "- Enhance user experience\n",
    "\n",
    "DRF provides built-in pagination classes that automatically handle this."
   ]
  },
  {
   "cell_type": "markdown",
   "metadata": {},
   "source": [
    "## ✅ Global Pagination Setting in `settings.py`"
   ]
  },
  {
   "cell_type": "code",
   "execution_count": null,
   "metadata": {},
   "outputs": [],
   "source": [
    "# settings.py\n",
    "REST_FRAMEWORK = {\n",
    "    'DEFAULT_PAGINATION_CLASS': 'rest_framework.pagination.PageNumberPagination',\n",
    "    'PAGE_SIZE': 10,  # items per page\n",
    "}"
   ]
  },
  {
   "cell_type": "markdown",
   "metadata": {},
   "source": [
    "This enables pagination globally for all DRF views unless overridden."
   ]
  },
  {
   "cell_type": "markdown",
   "metadata": {},
   "source": [
    "## ✅ Per View Pagination (Override Global Settings)"
   ]
  },
  {
   "cell_type": "markdown",
   "metadata": {},
   "source": [
    "### Step 1: Import Pagination Class"
   ]
  },
  {
   "cell_type": "code",
   "execution_count": null,
   "metadata": {},
   "outputs": [],
   "source": [
    "# views.py\n",
    "from rest_framework.pagination import PageNumberPagination"
   ]
  },
  {
   "cell_type": "markdown",
   "metadata": {},
   "source": [
    "### Step 2: Define a Custom Pagination Class (Optional)"
   ]
  },
  {
   "cell_type": "code",
   "execution_count": null,
   "metadata": {},
   "outputs": [],
   "source": [
    "# pagination.py\n",
    "from rest_framework.pagination import PageNumberPagination\n",
    "\n",
    "class CustomPagination(PageNumberPagination):\n",
    "    page_size = 5\n",
    "    page_size_query_param = 'page_size'  # allows clients to set page size\n",
    "    max_page_size = 100  # max allowed page size to avoid abuse"
   ]
  },
  {
   "cell_type": "markdown",
   "metadata": {},
   "source": [
    "### Step 3: Use Custom Pagination in a ViewSet"
   ]
  },
  {
   "cell_type": "code",
   "execution_count": null,
   "metadata": {},
   "outputs": [],
   "source": [
    "# views.py\n",
    "from rest_framework import viewsets\n",
    "from .models import Student\n",
    "from .serializers import StudentSerializer\n",
    "from .pagination import CustomPagination\n",
    "\n",
    "class StudentViewSet(viewsets.ModelViewSet):\n",
    "    queryset = Student.objects.all()\n",
    "    serializer_class = StudentSerializer\n",
    "    pagination_class = CustomPagination"
   ]
  },
  {
   "cell_type": "markdown",
   "metadata": {},
   "source": [
    "## 🧪 Example Query and API Response Format"
   ]
  },
  {
   "cell_type": "code",
   "execution_count": null,
   "metadata": {},
   "outputs": [],
   "source": [
    "# Example URL\n",
    "/api/students/?page=2\n",
    "\n",
    "# Example Response\n",
    "{\n",
    "  \"count\": 50,\n",
    "  \"next\": \"http://localhost:8000/api/students/?page=3\",\n",
    "  \"previous\": \"http://localhost:8000/api/students/?page=1\",\n",
    "  \"results\": [\n",
    "    {\n",
    "      \"id\": 11,\n",
    "      \"name\": \"John\",\n",
    "      \"age\": 20\n",
    "    },\n",
    "    ...\n",
    "  ]\n",
    "}"
   ]
  },
  {
   "cell_type": "markdown",
   "metadata": {},
   "source": [
    "## 📊 Summary: DRF Pagination Types\n",
    "\n",
    "| Pagination Type        | Class Name                  | Description                                 |\n",
    "|------------------------|-----------------------------|---------------------------------------------|\n",
    "| Page number pagination | `PageNumberPagination`      | Uses `?page=` to navigate                   |\n",
    "| Limit-offset           | `LimitOffsetPagination`     | Uses `?limit=` and `?offset=`              |\n",
    "| Cursor pagination      | `CursorPagination`          | Uses encoded cursor; good for large datasets|"
   ]
  },
  {
   "cell_type": "markdown",
   "metadata": {},
   "source": [
    "## ✅ Summary Table\n",
    "| Feature | Value |\n",
    "|--------|-------|\n",
    "| Query param | `?page=` (default) |\n",
    "| Customizable size | via `page_size_query_param` |\n",
    "| Global or per view | Both supported |\n",
    "| Best for large data | CursorPagination (recommended) |"
   ]
  }
 ],
 "metadata": {
  "kernelspec": {
   "display_name": "Python 3",
   "language": "python",
   "name": "python3"
  },
  "language_info": {
   "name": "python",
   "version": ""
  }
 },
 "nbformat": 4,
 "nbformat_minor": 5
}

