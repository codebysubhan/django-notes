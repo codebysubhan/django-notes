{
 "cells": [
  {
   "cell_type": "markdown",
   "metadata": {},
   "source": [
    "# 📘 One-to-Many Relationship (Author → Book)\n",
    "\n",
    "In this example, one `Author` can have many `Book` instances.\n",
    "\n",
    "- Each `Book` belongs to one `Author`\n",
    "- This is a **ForeignKey (many-to-one)** relationship"
   ]
  },
  {
   "cell_type": "markdown",
   "metadata": {},
   "source": [
    "## ✅ Step 1: Define Models"
   ]
  },
  {
   "cell_type": "code",
   "execution_count": null,
   "metadata": {},
   "outputs": [],
   "source": [
    "# models.py\n",
    "from django.db import models\n",
    "\n",
    "class Author(models.Model):\n",
    "    name = models.CharField(max_length=100)\n",
    "\n",
    "    def __str__(self):\n",
    "        return self.name\n",
    "\n",
    "class Book(models.Model):\n",
    "    title = models.CharField(max_length=200)\n",
    "    author = models.ForeignKey(Author, related_name='books', on_delete=models.CASCADE)\n",
    "\n",
    "    def __str__(self):\n",
    "        return self.title"
   ]
  },
  {
   "cell_type": "markdown",
   "metadata": {},
   "source": [
    "## ✅ Step 2A: Nested Serializer (Read-Only)"
   ]
  },
  {
   "cell_type": "code",
   "execution_count": null,
   "metadata": {},
   "outputs": [],
   "source": [
    "# serializers.py\n",
    "from rest_framework import serializers\n",
    "from .models import Author, Book\n",
    "\n",
    "class BookSerializer(serializers.ModelSerializer):\n",
    "    class Meta:\n",
    "        model = Book\n",
    "        fields = ['id', 'title']\n",
    "\n",
    "class AuthorSerializer(serializers.ModelSerializer):\n",
    "    books = BookSerializer(many=True, read_only=True)\n",
    "\n",
    "    class Meta:\n",
    "        model = Author\n",
    "        fields = ['id', 'name', 'books']"
   ]
  },
  {
   "cell_type": "markdown",
   "metadata": {},
   "source": [
    "**Example Output**:\n",
    "```json\n",
    "{\n",
    "  \"id\": 1,\n",
    "  \"name\": \"J. K. Rowling\",\n",
    "  \"books\": [\n",
    "    { \"id\": 1, \"title\": \"Harry Potter 1\" },\n",
    "    { \"id\": 2, \"title\": \"Harry Potter 2\" }\n",
    "  ]\n",
    "}\n",
    "```"
   ]
  },
  {
   "cell_type": "markdown",
   "metadata": {},
   "source": [
    "## ✅ Step 2B: PrimaryKeyRelatedField"
   ]
  },
  {
   "cell_type": "code",
   "execution_count": null,
   "metadata": {},
   "outputs": [],
   "source": [
    "# serializers.py\n",
    "class AuthorSerializer(serializers.ModelSerializer):\n",
    "    books = serializers.PrimaryKeyRelatedField(many=True, read_only=True)\n",
    "\n",
    "    class Meta:\n",
    "        model = Author\n",
    "        fields = ['id', 'name', 'books']"
   ]
  },
  {
   "cell_type": "markdown",
   "metadata": {},
   "source": [
    "**Example Output**:\n",
    "```json\n",
    "{\n",
    "  \"id\": 1,\n",
    "  \"name\": \"J. K. Rowling\",\n",
    "  \"books\": [1, 2]\n",
    "}\n",
    "```"
   ]
  },
  {
   "cell_type": "markdown",
   "metadata": {},
   "source": [
    "## ✅ Step 3A: BookSerializer with Writable Author (by ID)"
   ]
  },
  {
   "cell_type": "code",
   "execution_count": null,
   "metadata": {},
   "outputs": [],
   "source": [
    "# serializers.py\n",
    "class BookSerializer(serializers.ModelSerializer):\n",
    "    author = serializers.PrimaryKeyRelatedField(queryset=Author.objects.all())\n",
    "\n",
    "    class Meta:\n",
    "        model = Book\n",
    "        fields = ['id', 'title', 'author']"
   ]
  },
  {
   "cell_type": "markdown",
   "metadata": {},
   "source": [
    "**Input**:\n",
    "```json\n",
    "{ \"title\": \"New Book\", \"author\": 1 }\n",
    "```"
   ]
  },
  {
   "cell_type": "markdown",
   "metadata": {},
   "source": [
    "## ✅ Step 3B: SlugRelatedField for Author by Name"
   ]
  },
  {
   "cell_type": "code",
   "execution_count": null,
   "metadata": {},
   "outputs": [],
   "source": [
    "# serializers.py\n",
    "class BookSerializer(serializers.ModelSerializer):\n",
    "    author = serializers.SlugRelatedField(slug_field='name', queryset=Author.objects.all())\n",
    "\n",
    "    class Meta:\n",
    "        model = Book\n",
    "        fields = ['id', 'title', 'author']"
   ]
  },
  {
   "cell_type": "markdown",
   "metadata": {},
   "source": [
    "**Input**:\n",
    "```json\n",
    "{ \"title\": \"Another Book\", \"author\": \"John\" }\n",
    "```"
   ]
  },
  {
   "cell_type": "markdown",
   "metadata": {},
   "source": [
    "## ✅ Step 3C: StringRelatedField (Read-Only Display)"
   ]
  },
  {
   "cell_type": "code",
   "execution_count": null,
   "metadata": {},
   "outputs": [],
   "source": [
    "# serializers.py\n",
    "class BookSerializer(serializers.ModelSerializer):\n",
    "    author = serializers.StringRelatedField()\n",
    "\n",
    "    class Meta:\n",
    "        model = Book\n",
    "        fields = ['id', 'title', 'author']"
   ]
  },
  {
   "cell_type": "markdown",
   "metadata": {},
   "source": [
    "**Output**:\n",
    "```json\n",
    "{ \"id\": 1, \"title\": \"Book Title\", \"author\": \"John\" }\n",
    "```"
   ]
  },
  {
   "cell_type": "markdown",
   "metadata": {},
   "source": [
    "## 🔁 Summary Table\n",
    "\n",
    "| Field Type            | Input Example            | Output Example           | Writable | Notes |\n",
    "|------------------------|---------------------------|----------------------------|----------|-------|\n",
    "| PrimaryKeyRelatedField | `\"author\": 1`             | `\"author\": 1`             | ✅ Yes    | Uses ID |\n",
    "| SlugRelatedField       | `\"author\": \"John\"`       | `\"author\": \"John\"`       | ✅ Yes    | Needs unique field |\n",
    "| StringRelatedField     | N/A                       | `\"author\": \"John\"`       | ❌ No     | Uses `__str__()` |\n",
    "| Nested Serializer      | N/A                       | `{ \"books\": [..] }`      | ❌ No     | Good for read APIs |"
   ]
  }
 ],
 "metadata": {
  "kernelspec": {
   "display_name": "Python 3",
   "language": "python",
   "name": "python3"
  },
  "language_info": {
   "name": "python",
   "version": ""
  }
 },
 "nbformat": 4,
 "nbformat_minor": 5
}

