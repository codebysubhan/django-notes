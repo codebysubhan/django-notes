{
 "cells": [
  {
   "metadata": {},
   "cell_type": "markdown",
   "source": [
    "# Git and Github notes\n",
    "- What is Version Control System\n",
    "- What is Git\n",
    "- What is GitHub\n",
    "- Git vs GitHub\n",
    "- Git vs SVN\n",
    "- Git vs Mercurial\n",
    "- Local\n",
    "- Branch\n",
    "- Checkout\n",
    "- Cherry-picking\n",
    "- Clone\n",
    "- Fetch\n",
    "- Head\n",
    "- Merge\n",
    "- Rebase\n",
    "- Origin\n",
    "- Pull\n",
    "- Pull Request\n",
    "- Push\n",
    "- Forced Push\n",
    "- Remote\n",
    "- Repository\n",
    "- Tag and Tagging Types\n",
    "- Upstream and Downsteam\n",
    "- Git Revert\n",
    "- Git Reset (Soft, Mixed, Hard)\n",
    "- Git Ignore\n",
    "- Git Diff\n",
    "- Git Squash\n",
    "- Git Remove\n",
    "- Git Fork\n",
    "- Push vs Forced Push\n",
    "- Pull vs Fetch\n",
    "- Merge vs Rebase\n",
    "- Cherry-pick vs Squash\n",
    "- Git Revert vs Reset\n",
    "- Git Reset Soft vs Mixed vs Hard"
   ],
   "id": "5db5cb13606778e4"
  },
  {
   "metadata": {},
   "cell_type": "markdown",
   "source": [
    "### What is VCS?\n",
    "A Version Control System is a tool that helps manage changes to source code or any set of files over time. It allows multiple developers to collaborate, tracks every modification, and enables reverting to previous versions when needed."
   ],
   "id": "20480f0b8d10c594"
  },
  {
   "metadata": {},
   "cell_type": "markdown",
   "source": [
    "### What is git?\n",
    "Git is a distributed version control system created by Linus Torvalds in 2005. It lets each developer have a full copy of the codebase, including its history."
   ],
   "id": "a7076ba90013ffae"
  },
  {
   "metadata": {},
   "cell_type": "markdown",
   "source": [
    "### What is github?\n",
    "GitHub is a cloud-based platform that hosts Git repositories. It provides a web interface to work with Git, collaborate with others, and manage software development.\n",
    "#### Features GitHub adds to Git:\n",
    "- Remote repository hosting\n",
    "- Pull requests & code reviews\n",
    "- Issue tracking\n",
    "- GitHub Actions (CI/CD automation)\n",
    "- Integration with tools like VS Code, Slack, Jira"
   ],
   "id": "4899b882d9af2b91"
  },
  {
   "metadata": {},
   "cell_type": "markdown",
   "source": "### Git vs Github",
   "id": "867e1d16ab1b586"
  },
  {
   "metadata": {},
   "cell_type": "markdown",
   "source": [
    "| Feature       | Git                             | GitHub                                   |\n",
    "| ------------- | ------------------------------- | ---------------------------------------- |\n",
    "| Type          | Version Control System (VCS)    | Hosting platform for Git repositories    |\n",
    "| Usage         | Local code versioning           | Online collaboration and project hosting |\n",
    "| Installation  | Installed on your system        | Accessed via browser or GitHub CLI       |\n",
    "| Ownership     | Open-source, decentralized      | Owned by Microsoft                       |\n"
   ],
   "id": "7824fac7a310dd3e"
  },
  {
   "metadata": {},
   "cell_type": "markdown",
   "source": "### Git vs SVN",
   "id": "86c93aaf7cc7fd2b"
  },
  {
   "metadata": {},
   "cell_type": "markdown",
   "source": [
    "| Feature      | Git (Distributed)                 | SVN (Centralized)                         |\n",
    "| ------------ | --------------------------------- | ----------------------------------------- |\n",
    "| Repository   | Local + Remote                    | Central only                              |\n",
    "| Offline Work | Fully functional offline          | Limited offline capability                |\n",
    "| Branching    | Lightweight and fast              | Slower, often avoided                     |\n",
    "| Speed        | Very fast (most operations local) | Slower due to constant server interaction |\n",
    "| Popularity   | Widely adopted in modern dev      | Declining, but still used in some orgs    |\n"
   ],
   "id": "b6beff350824824f"
  },
  {
   "metadata": {},
   "cell_type": "markdown",
   "source": "### Git vs Mercurial",
   "id": "a599b6da4518264a"
  },
  {
   "metadata": {},
   "cell_type": "markdown",
   "source": [
    "| Feature        | Git                                     | Mercurial                                        |\n",
    "| -------------- | --------------------------------------- | ------------------------------------------------ |\n",
    "| Popularity     | Extremely popular (e.g., Linux, GitHub) | Less popular (e.g., used by Bitbucket initially) |\n",
    "| Learning Curve | Steeper (more commands, flexible)       | Smoother (simple and consistent CLI)             |\n",
    "| Performance    | Slightly faster in large projects       | Comparable, sometimes slower in huge repos       |\n",
    "| Flexibility    | More powerful branching & merging       | Simpler, less customizable                       |\n",
    "| Usage          | GitHub, GitLab, etc.                    | Bitbucket (before it dropped Mercurial)          |\n"
   ],
   "id": "9f791ff5f5024fb1"
  },
  {
   "metadata": {
    "ExecuteTime": {
     "end_time": "2025-07-02T07:40:34.446462Z",
     "start_time": "2025-07-02T07:40:34.430964Z"
    }
   },
   "cell_type": "code",
   "source": [
    "# git common commands\n",
    "\n",
    "# git commit -m \"message to give while commiting\"\n",
    "# git branch -- > list all the branches\n",
    "\n",
    "# git config\n",
    "# used to set the email and username and other configuration parameters for the project\n",
    "# example usage:\n",
    "# git config --global user.name \"codebysubhan\"\n",
    "# git config --global user.email \"bsdsf22m030@pucit.edu.pk\""
   ],
   "id": "8aef36dafcb02363",
   "outputs": [],
   "execution_count": 1
  },
  {
   "metadata": {
    "ExecuteTime": {
     "end_time": "2025-07-02T07:40:34.658787Z",
     "start_time": "2025-07-02T07:40:34.566947Z"
    }
   },
   "cell_type": "code",
   "source": [
    "# git init\n",
    "# usage: used to initialize a new git repository"
   ],
   "id": "c659f4aa9fcb6f1c",
   "outputs": [],
   "execution_count": 2
  },
  {
   "metadata": {
    "ExecuteTime": {
     "end_time": "2025-07-02T07:40:34.762927Z",
     "start_time": "2025-07-02T07:40:34.720167Z"
    }
   },
   "cell_type": "code",
   "source": [
    "# git clone\n",
    "# usage: used to clone / createa  a copy of git repo in current working directory\n",
    "# example:\n",
    "# git clone https://github.com/codebysubhan/OOP_final_project.git"
   ],
   "id": "8debfae24211ea10",
   "outputs": [],
   "execution_count": 3
  },
  {
   "metadata": {
    "ExecuteTime": {
     "end_time": "2025-07-02T07:40:34.907988Z",
     "start_time": "2025-07-02T07:40:34.795671Z"
    }
   },
   "cell_type": "code",
   "source": [
    "# git add\n",
    "# usage: stage the current changes. Staging is a way to put all the changes into an area before commiting\n",
    "# git add <filename>\n",
    "# git add .   -- > complete working directory changes"
   ],
   "id": "699f9368dc088742",
   "outputs": [],
   "execution_count": 4
  },
  {
   "metadata": {
    "ExecuteTime": {
     "end_time": "2025-07-02T07:41:37.629201Z",
     "start_time": "2025-07-02T07:41:37.616339Z"
    }
   },
   "cell_type": "code",
   "source": [
    "# git commit\n",
    "# usage: used to commit the staged changes to the local repository\n",
    "# git commit -m \"my new commit\""
   ],
   "id": "de9cce70983db83e",
   "outputs": [],
   "execution_count": 5
  },
  {
   "metadata": {
    "ExecuteTime": {
     "end_time": "2025-07-02T07:41:37.718518Z",
     "start_time": "2025-07-02T07:41:37.706240Z"
    }
   },
   "cell_type": "code",
   "source": [
    "# git status\n",
    "# shows current state of the working directory with details like if the repo has uncommited cchanges and files are staged or not"
   ],
   "id": "dbfa8a035f742518",
   "outputs": [],
   "execution_count": 6
  },
  {
   "metadata": {
    "ExecuteTime": {
     "end_time": "2025-07-02T07:41:37.820987Z",
     "start_time": "2025-07-02T07:41:37.803652Z"
    }
   },
   "cell_type": "code",
   "source": [
    "# git diff\n",
    "# usage: shows the changes before and after staging\n",
    "# git diff --staged"
   ],
   "id": "3ab6644a069d7569",
   "outputs": [],
   "execution_count": 7
  },
  {
   "metadata": {
    "ExecuteTime": {
     "end_time": "2025-07-02T07:41:37.965124Z",
     "start_time": "2025-07-02T07:41:37.948041Z"
    }
   },
   "cell_type": "code",
   "source": [
    "# git branch\n",
    "# usage: list create or delete the branches inside the current project / repository\n",
    "# git branch\n",
    "# git branch <new_branch_name>"
   ],
   "id": "a8d8526abeb6a981",
   "outputs": [],
   "execution_count": 8
  },
  {
   "metadata": {
    "ExecuteTime": {
     "end_time": "2025-07-02T07:41:38.547311Z",
     "start_time": "2025-07-02T07:41:38.516619Z"
    }
   },
   "cell_type": "code",
   "source": [
    "# git checkout\n",
    "# usage: move from one branch to another one\n",
    "# if we want to create a new branch and move to it in one go then use:\n",
    "# git checkout -b <new_branch_naem>"
   ],
   "id": "9f1cce55184350e9",
   "outputs": [],
   "execution_count": 9
  },
  {
   "metadata": {
    "ExecuteTime": {
     "end_time": "2025-07-01T10:07:43.280631Z",
     "start_time": "2025-07-01T10:07:43.265118Z"
    }
   },
   "cell_type": "code",
   "source": [
    "# git merge\n",
    "# usage: it is used to merge all the commits of current branch with the specified one and make a new clean branch with parents as both previous branches\n",
    "# git merge <branch_name>"
   ],
   "id": "ed5dbeb5916c6cef",
   "outputs": [],
   "execution_count": 31
  },
  {
   "metadata": {
    "ExecuteTime": {
     "end_time": "2025-07-01T10:07:43.485624Z",
     "start_time": "2025-07-01T10:07:43.455429Z"
    }
   },
   "cell_type": "code",
   "source": [
    "# git rebase ??\n",
    "# usage: apply commits from one branch to other branch\n",
    "# git rebase main"
   ],
   "id": "3def32d035cedfb7",
   "outputs": [],
   "execution_count": 32
  },
  {
   "metadata": {
    "ExecuteTime": {
     "end_time": "2025-07-01T10:07:43.641591Z",
     "start_time": "2025-07-01T10:07:43.629625Z"
    }
   },
   "cell_type": "code",
   "source": [
    "# git remote ??\n",
    "# usage: show remote repository\n",
    "# git remote -v"
   ],
   "id": "c68ee61a8440a957",
   "outputs": [],
   "execution_count": 33
  },
  {
   "metadata": {
    "ExecuteTime": {
     "end_time": "2025-07-01T10:07:43.790498Z",
     "start_time": "2025-07-01T10:07:43.773717Z"
    }
   },
   "cell_type": "code",
   "source": [
    "# git push\n",
    "# usage: push all the changes to the remote repository\n",
    "# git push origin main --> push to the main branch"
   ],
   "id": "9b2748333609e1ff",
   "outputs": [],
   "execution_count": 34
  },
  {
   "metadata": {
    "ExecuteTime": {
     "end_time": "2025-07-01T10:07:44.015317Z",
     "start_time": "2025-07-01T10:07:43.971108Z"
    }
   },
   "cell_type": "code",
   "source": [
    "# git pull\n",
    "# usage: it fetch the changes from remote into staging area and then merges the changes\n",
    "# git pull origin dev"
   ],
   "id": "26709633fb99449a",
   "outputs": [],
   "execution_count": 35
  },
  {
   "metadata": {
    "ExecuteTime": {
     "end_time": "2025-07-01T10:07:44.178976Z",
     "start_time": "2025-07-01T10:07:44.126252Z"
    }
   },
   "cell_type": "code",
   "source": [
    "# git fetch\n",
    "# usage: it is used to just fetch the changes from remote but not merges the changes\n",
    "# git fetch origin dev"
   ],
   "id": "135b092d184f0080",
   "outputs": [],
   "execution_count": 36
  },
  {
   "metadata": {
    "ExecuteTime": {
     "end_time": "2025-07-01T10:07:59.976186Z",
     "start_time": "2025-07-01T10:07:59.959353Z"
    }
   },
   "cell_type": "code",
   "source": [
    "# git log\n",
    "# usage: to view the commit history"
   ],
   "id": "efd19cf89bafaf2c",
   "outputs": [],
   "execution_count": 40
  },
  {
   "metadata": {
    "ExecuteTime": {
     "end_time": "2025-07-01T10:08:00.972341Z",
     "start_time": "2025-07-01T10:08:00.952174Z"
    }
   },
   "cell_type": "code",
   "source": [
    "# git reset\n",
    "# usage: unstage the commits... the commits"
   ],
   "id": "4fadcd244d2e7845",
   "outputs": [],
   "execution_count": 41
  },
  {
   "metadata": {
    "ExecuteTime": {
     "end_time": "2025-07-01T10:08:11.653742Z",
     "start_time": "2025-07-01T10:08:11.631048Z"
    }
   },
   "cell_type": "code",
   "source": "",
   "id": "70585fe584f4413a",
   "outputs": [],
   "execution_count": null
  },
  {
   "metadata": {
    "ExecuteTime": {
     "end_time": "2025-07-01T10:08:18.257684Z",
     "start_time": "2025-07-01T10:08:18.235533Z"
    }
   },
   "cell_type": "code",
   "source": "",
   "id": "d052fae9eacdc7b6",
   "outputs": [],
   "execution_count": null
  },
  {
   "metadata": {
    "ExecuteTime": {
     "end_time": "2025-07-01T10:08:18.683038Z",
     "start_time": "2025-07-01T10:08:18.661122Z"
    }
   },
   "cell_type": "code",
   "source": "",
   "id": "3e41d3bfd2742bed",
   "outputs": [],
   "execution_count": null
  },
  {
   "metadata": {
    "ExecuteTime": {
     "end_time": "2025-07-01T10:08:19.104362Z",
     "start_time": "2025-07-01T10:08:19.084023Z"
    }
   },
   "cell_type": "code",
   "source": "",
   "id": "6b844f72759b0712",
   "outputs": [],
   "execution_count": null
  },
  {
   "metadata": {},
   "cell_type": "code",
   "outputs": [],
   "execution_count": null,
   "source": "",
   "id": "ce0e77dfc83ab7f6"
  }
 ],
 "metadata": {
  "kernelspec": {
   "display_name": "Python 3",
   "language": "python",
   "name": "python3"
  },
  "language_info": {
   "codemirror_mode": {
    "name": "ipython",
    "version": 2
   },
   "file_extension": ".py",
   "mimetype": "text/x-python",
   "name": "python",
   "nbconvert_exporter": "python",
   "pygments_lexer": "ipython2",
   "version": "2.7.6"
  }
 },
 "nbformat": 4,
 "nbformat_minor": 5
}
