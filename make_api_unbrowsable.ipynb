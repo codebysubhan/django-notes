{
 "cells": [
  {
   "cell_type": "markdown",
   "metadata": {},
   "source": [
    "# 🚫 Disable Browsable API in Django REST Framework\n",
    "This notebook explains how to **disable** the browsable API in DRF by modifying the `REST_FRAMEWORK` setting in `settings.py`."
   ]
  },
  {
   "cell_type": "code",
   "execution_count": null,
   "metadata": {
    "tags": []
   },
   "outputs": [],
   "source": [
    "# ✅ Method 1: Completely Disable Browsable API\n",
    "# This disables all renderer classes except JSONRenderer\n",
    "\n",
    "REST_FRAMEWORK = {\n",
    "    'DEFAULT_RENDERER_CLASSES': [\n",
    "        'rest_framework.renderers.JSONRenderer',\n",
    "    ]\n",
    "}\n",
    "\n",
    "# Add the above block in your Django project's settings.py file.\n",
    "# Result: Visiting any DRF API endpoint in browser returns raw JSON only."
   ]
  },
  {
   "cell_type": "markdown",
   "metadata": {},
   "source": [
    "## ⚙️ Optional: Enable Browsable API Only in Development\n",
    "This approach allows you to keep the browsable API in **DEBUG mode** only (typically development environment)."
   ]
  },
  {
   "cell_type": "code",
   "execution_count": null,
   "metadata": {},
   "outputs": [],
   "source": [
    "import os\n",
    "\n",
    "# This value should already be set somewhere in your settings.py\n",
    "DEBUG = True  # or False depending on environment\n",
    "\n",
    "if DEBUG:\n",
    "    REST_FRAMEWORK = {\n",
    "        'DEFAULT_RENDERER_CLASSES': [\n",
    "            'rest_framework.renderers.JSONRenderer',\n",
    "            'rest_framework.renderers.BrowsableAPIRenderer',\n",
    "        ]\n",
    "    }\n",
    "else:\n",
    "    REST_FRAMEWORK = {\n",
    "        'DEFAULT_RENDERER_CLASSES': [\n",
    "            'rest_framework.renderers.JSONRenderer',\n",
    "        ]\n",
    "    }\n",
    "\n",
    "# ✅ Result:\n",
    "# - In development: You get the browsable API UI\n",
    "# - In production: Only JSONRenderer is used"
   ]
  },
  {
   "cell_type": "markdown",
   "metadata": {},
   "source": [
    "## ✅ Final Notes\n",
    "- Without `BrowsableAPIRenderer`, Django REST Framework will not render an interactive UI.\n",
    "- This is a best practice in production for security and performance reasons.\n",
    "- Your API will still return JSON and be fully usable by clients like Postman, cURL, or JavaScript frontends."
   ]
  }
 ],
 "metadata": {
  "kernelspec": {
   "display_name": "Python 3",
   "language": "python",
   "name": "python3"
  },
  "language_info": {
   "name": "python",
   "version": ""
  }
 },
 "nbformat": 4,
 "nbformat_minor": 5
}

