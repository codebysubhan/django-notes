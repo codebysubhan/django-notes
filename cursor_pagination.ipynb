{
 "cells": [
  {
   "cell_type": "markdown",
   "metadata": {},
   "source": [
    "# 📘 DRF Cursor Pagination Demo\n",
    "\n",
    "**Cursor Pagination** is ideal for large or real-time datasets. It uses an encoded `cursor` instead of numeric pages or offsets to track the position.\n",
    "\n",
    "It provides stable ordering and performance for dynamic data."
   ]
  },
  {
   "cell_type": "markdown",
   "metadata": {},
   "source": [
    "## 🔹 Concept Overview\n",
    "- `cursor`: Encoded pointer to the last seen item\n",
    "- Cannot jump to arbitrary pages (no page numbers)\n",
    "- Highly stable and secure for big/real-time data\n",
    "\n",
    "**Sample API Calls:**\n",
    "```bash\n",
    "GET /api/students/                         # First page\n",
    "GET /api/students/?cursor=cD0yMA==         # Next page using encoded cursor\n",
    "```"
   ]
  },
  {
   "cell_type": "markdown",
   "metadata": {},
   "source": [
    "## ✅ Step 1: Define Custom Cursor Pagination"
   ]
  },
  {
   "cell_type": "code",
   "execution_count": null,
   "metadata": {},
   "outputs": [],
   "source": [
    "# pagination.py\n",
    "from rest_framework.pagination import CursorPagination\n",
    "\n",
    "class MyCursorPagination(CursorPagination):\n",
    "    page_size = 2  # Number of items per page\n",
    "    ordering = 'id'  # Must be unique and indexed field"
   ]
  },
  {
   "cell_type": "markdown",
   "metadata": {},
   "source": [
    "## ✅ Step 2: Define the Model (`NewStudent`)"
   ]
  },
  {
   "cell_type": "code",
   "execution_count": null,
   "metadata": {},
   "outputs": [],
   "source": [
    "# models.py\n",
    "from django.db import models\n",
    "\n",
    "class NewStudent(models.Model):\n",
    "    name = models.CharField(max_length=100)\n",
    "    age = models.IntegerField()\n",
    "\n",
    "    def __str__(self):\n",
    "        return self.name"
   ]
  },
  {
   "cell_type": "markdown",
   "metadata": {},
   "source": [
    "## ✅ Step 3: Create Serializer"
   ]
  },
  {
   "cell_type": "code",
   "execution_count": null,
   "metadata": {},
   "outputs": [],
   "source": [
    "# serializers.py\n",
    "from rest_framework import serializers\n",
    "from .models import NewStudent\n",
    "\n",
    "class NewStudentSerializer(serializers.ModelSerializer):\n",
    "    class Meta:\n",
    "        model = NewStudent\n",
    "        fields = '__all__'"
   ]
  },
  {
   "cell_type": "markdown",
   "metadata": {},
   "source": [
    "## ✅ Step 4: Use CursorPagination in the View"
   ]
  },
  {
   "cell_type": "code",
   "execution_count": null,
   "metadata": {},
   "outputs": [],
   "source": [
    "# views.py\n",
    "from rest_framework.generics import ListAPIView\n",
    "from .models import NewStudent\n",
    "from .serializers import NewStudentSerializer\n",
    "from .pagination import MyCursorPagination\n",
    "\n",
    "class StudentListCursor(ListAPIView):\n",
    "    queryset = NewStudent.objects.all()\n",
    "    serializer_class = NewStudentSerializer\n",
    "    pagination_class = MyCursorPagination"
   ]
  },
  {
   "cell_type": "markdown",
   "metadata": {},
   "source": [
    "## 🧪 Sample API Calls\n",
    "```bash\n",
    "GET /api/students/                     # First page\n",
    "GET /api/students/?cursor=cD0yMA==     # Next page using encoded cursor\n",
    "```"
   ]
  },
  {
   "cell_type": "markdown",
   "metadata": {},
   "source": [
    "## 🔄 Sample Response Format\n",
    "```json\n",
    "{\n",
    "  \"next\": \"http://localhost:8000/api/students/?cursor=cD0yMA==\",\n",
    "  \"previous\": null,\n",
    "  \"results\": [\n",
    "    {\"id\": 1, \"name\": \"Ali\", \"age\": 20},\n",
    "    {\"id\": 2, \"name\": \"Sara\", \"age\": 21}\n",
    "  ]\n",
    "}\n",
    "```"
   ]
  },
  {
   "cell_type": "markdown",
   "metadata": {},
   "source": [
    "## 📊 Pagination Types Comparison\n",
    "\n",
    "| Type                  | Class Name                | Query Params               | Best For                          |\n",
    "|-----------------------|---------------------------|----------------------------|------------------------------------|\n",
    "| Page number           | PageNumberPagination      | ?page=                     | Basic UI pagination               |\n",
    "| Limit-offset          | LimitOffsetPagination     | ?limit= & ?offset=         | Precise slicing                   |\n",
    "| Cursor-based          | CursorPagination          | ?cursor=                   | Realtime, large, secure datasets  |"
   ]
  },
  {
   "cell_type": "markdown",
   "metadata": {},
   "source": [
    "## ✅ Summary Table\n",
    "| Feature | Value |\n",
    "|--------|-------|\n",
    "| Cursor param | `?cursor=` |\n",
    "| Default page size | 2 |\n",
    "| Arbitrary jumping | ❌ Not supported |\n",
    "| Stable pagination | ✅ Yes |\n",
    "| Best suited for | Realtime, ordered, large datasets |"
   ]
  }
 ],
 "metadata": {
  "kernelspec": {
   "display_name": "Python 3",
   "language": "python",
   "name": "python3"
  },
  "language_info": {
   "name": "python",
   "version": ""
  }
 },
 "nbformat": 4,
 "nbformat_minor": 5
}

