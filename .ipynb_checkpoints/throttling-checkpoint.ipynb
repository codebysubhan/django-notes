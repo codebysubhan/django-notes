{
 "cells": [
  {
   "cell_type": "markdown",
   "id": "3ff601c3",
   "metadata": {},
   "source": [
    "# What is Throttling?\n",
    "\n",
    "Throttling is a mechanism to limit the number of requests a client can make to an API within a certain time frame, helping to:\n",
    "\n",
    "- Prevent abuse or denial-of-service attacks\n",
    "- Protect server resources\n",
    "- Ensure fair usage\n",
    "\n",
    "**It differs from authentication and permissions — it doesn't block access permanently, just temporarily slows or limits it.**"
   ]
  },
  {
   "cell_type": "markdown",
   "id": "a30fdfce",
   "metadata": {},
   "source": [
    "# How Throttling Works in DRF\n",
    "\n",
    "DRF includes built-in throttle classes that can be configured in your `settings.py` file:"
   ]
  },
  {
   "cell_type": "code",
   "execution_count": null,
   "id": "d620fbb1",
   "metadata": {},
   "outputs": [],
   "source": [
    "REST_FRAMEWORK = {\n",
    "    'DEFAULT_THROTTLE_CLASSES': [\n",
    "        'rest_framework.throttling.AnonRateThrottle',\n",
    "        'rest_framework.throttling.UserRateThrottle',\n",
    "    ],\n",
    "    'DEFAULT_THROTTLE_RATES': {\n",
    "        'anon': '100/day',\n",
    "        'user': '1000/day'\n",
    "    }\n",
    "}"
   ]
  },
  {
   "cell_type": "markdown",
   "id": "6957e4db",
   "metadata": {},
   "source": [
    "# 1. AnonRateThrottle\n",
    "\n",
    "**Purpose:**\n",
    "Limits unauthenticated users (guests) based on their IP address.\n",
    "\n",
    "**Configuration:**"
   ]
  },
  {
   "cell_type": "code",
   "execution_count": null,
   "id": "8ea46662",
   "metadata": {},
   "outputs": [],
   "source": [
    "REST_FRAMEWORK = {\n",
    "    'DEFAULT_THROTTLE_CLASSES': [\n",
    "        'rest_framework.throttling.AnonRateThrottle',\n",
    "    ],\n",
    "    'DEFAULT_THROTTLE_RATES': {\n",
    "        'anon': '10/minute',\n",
    "    }\n",
    "}"
   ]
  },
  {
   "cell_type": "markdown",
   "id": "47b6bfdd",
   "metadata": {},
   "source": [
    "**Example:** A guest can make only 10 requests per minute.\n",
    "\n",
    "**Throttle key:** IP address."
   ]
  },
  {
   "cell_type": "markdown",
   "id": "76d89db2",
   "metadata": {},
   "source": [
    "# 2. UserRateThrottle\n",
    "\n",
    "**Purpose:**\n",
    "Limits authenticated users based on their user account.\n",
    "\n",
    "**Configuration:**"
   ]
  },
  {
   "cell_type": "code",
   "execution_count": null,
   "id": "59e081ef",
   "metadata": {},
   "outputs": [],
   "source": [
    "REST_FRAMEWORK = {\n",
    "    'DEFAULT_THROTTLE_CLASSES': [\n",
    "        'rest_framework.throttling.UserRateThrottle',\n",
    "    ],\n",
    "    'DEFAULT_THROTTLE_RATES': {\n",
    "        'user': '1000/day',\n",
    "    }\n",
    "}"
   ]
  },
  {
   "cell_type": "markdown",
   "id": "69df12b3",
   "metadata": {},
   "source": [
    "**Example:** Authenticated users can make up to 1000 API calls per day.\n",
    "\n",
    "**Throttle key:** Username/User ID."
   ]
  },
  {
   "cell_type": "markdown",
   "id": "c4084c1a",
   "metadata": {},
   "source": [
    "# 3. ScopedRateThrottle\n",
    "\n",
    "**Purpose:**\n",
    "Allows different throttle rates for different parts of your API using custom scopes.\n",
    "\n",
    "**Configuration:**"
   ]
  },
  {
   "cell_type": "code",
   "execution_count": null,
   "id": "fac3f99c",
   "metadata": {},
   "outputs": [],
   "source": [
    "REST_FRAMEWORK = {\n",
    "    'DEFAULT_THROTTLE_CLASSES': [\n",
    "        'rest_framework.throttling.ScopedRateThrottle',\n",
    "    ],\n",
    "    'DEFAULT_THROTTLE_RATES': {\n",
    "        'low_request_scope': '10/day',\n",
    "        'high_request_scope': '1000/day',\n",
    "    }\n",
    "}"
   ]
  },
  {
   "cell_type": "markdown",
   "id": "0da81242",
   "metadata": {},
   "source": [
    "**Usage in a View:**"
   ]
  },
  {
   "cell_type": "code",
   "execution_count": null,
   "id": "70cf6801",
   "metadata": {},
   "outputs": [],
   "source": [
    "from rest_framework.views import APIView\n",
    "from rest_framework.throttling import ScopedRateThrottle\n",
    "\n",
    "class MyView(APIView):\n",
    "    throttle_classes = [ScopedRateThrottle]\n",
    "    throttle_scope = 'low_request_scope'\n",
    "    \n",
    "    def get(self, request):\n",
    "        return Response({\"message\": \"Throttled View\"})"
   ]
  },
  {
   "cell_type": "markdown",
   "id": "3b3a04f8",
   "metadata": {},
   "source": [
    "**Example:**\n",
    "- View A → `10/day`\n",
    "- View B → `1000/day`\n",
    "\n",
    "Even if the same user accesses both views, they are throttled separately per scope."
   ]
  }
 ],
 "metadata": {
  "kernelspec": {
   "display_name": "Python 3 (ipykernel)",
   "language": "python",
   "name": "python3"
  },
  "language_info": {
   "codemirror_mode": {
    "name": "ipython",
    "version": 3
   },
   "file_extension": ".py",
   "mimetype": "text/x-python",
   "name": "python",
   "nbconvert_exporter": "python",
   "pygments_lexer": "ipython3",
   "version": "3.13.5"
  }
 },
 "nbformat": 4,
 "nbformat_minor": 5
}
