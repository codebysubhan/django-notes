{
 "cells": [
  {
   "cell_type": "markdown",
   "id": "6debb171-54f9-4dd7-af07-27e89b38ef0f",
   "metadata": {},
   "source": [
    "### In DRF we have different methods of authenticating users, But if we want to have more control over the Authentication Process we can employ authentications like JWTAuthentication.\n",
    "---\n",
    "**Note**: It is a third party package and not DRF native. [Learn More](https://jwt.io)"
   ]
  },
  {
   "cell_type": "markdown",
   "id": "45b37e42-eb4e-441b-8e35-25aced5cdba1",
   "metadata": {},
   "source": [
    "Some third party packages include:\n",
    "- Django Auth ToolKit\n",
    "- JSON Web Token Authentication (**JWT**)\n",
    "- Hawk HTTP Authentication\n",
    "- HTTP signature Authentication\n",
    "- Djoser\n",
    "- django-rest-auth / dj-rest-auth\n",
    "- django-rest-framework-social-oauth2\n",
    "- django-rest-knox\n",
    "- drfpasswordless"
   ]
  },
  {
   "cell_type": "markdown",
   "id": "71f36b29-c8f0-4490-8c00-3d30aefe3f02",
   "metadata": {},
   "source": [
    "***Key features of JWT***:\n",
    "- It does not store the tokens in database.\n",
    "- It is fairly new technology for Token Based Authentication.\n",
    "- It doesn't need a database to validate the token."
   ]
  },
  {
   "cell_type": "markdown",
   "id": "bc7450f6-186a-4f8e-876e-2d0e67b1f31f",
   "metadata": {},
   "source": [
    "***Simple JWT***:\n",
    "Simple JWT provides JSON web token authentication backend for the Django Rest Framework. It covers the most common use cases of JWTs by offering a conservative set of default features. It also aims to be easily extensible in case a desired feature is not present. [Learn More](https://django-rest-framework-simplejwt-readthedocs.io/en/latest)"
   ]
  },
  {
   "cell_type": "markdown",
   "id": "16e13473-cc5d-4055-ac13-1c8409d4478c",
   "metadata": {},
   "source": [
    "### How to use?\n",
    "`pip install djangorestframework-simplejwt`"
   ]
  },
  {
   "cell_type": "markdown",
   "id": "14fbc44c-92c2-492d-bd50-a29cbd9638f7",
   "metadata": {},
   "source": [
    "To use we need to configure the `settings.py` for global configuration, but for local we can do that in `views.py`"
   ]
  },
  {
   "cell_type": "markdown",
   "id": "4e29f909-984c-4ca4-a1cc-ef114b70c785",
   "metadata": {},
   "source": [
    "```\n",
    "REST_FRAMEWORK = {\n",
    "    'DEFAULT_AUTHENTICATION_CLASSES':(\n",
    "        'rest_framework_simplejwt.authentication.JWTAuthentication',\n",
    ")}\n",
    "```"
   ]
  },
  {
   "cell_type": "markdown",
   "id": "54182d24-99de-4a90-b2ae-5fe868e78d8e",
   "metadata": {},
   "source": [
    "In `urls.py` we can use:"
   ]
  },
  {
   "cell_type": "markdown",
   "id": "77f6dc40-bf6a-46a9-a59a-1d0d516f4175",
   "metadata": {},
   "source": [
    "```\n",
    "from rest_framework_simplejwt.views import TokenObtainPairView, TokenRefreshView\n",
    "urlpatterns = [\n",
    "    path('gettoken/', TokenObtainPairView.as_view(), name='token_obtain_pair'),\n",
    "    path('refreshtoken/', TokenRefreshView.as_view(), name='token_refresh'),\n",
    "]    \n",
    "```"
   ]
  },
  {
   "cell_type": "markdown",
   "id": "fd69be5e-9966-48a2-852b-c8e3e446d5fa",
   "metadata": {},
   "source": [
    "for ***Token Verification***, we can use:\n",
    "```\n",
    "from rest_framework_simplejwt.views import TokenObtainPairView, TokenRefreshView, TokenVerifyView\n",
    "urlpatterns = [\n",
    "    path('gettoken/', TokenObtainPairView.as_view(), name='token_obtain_pair'),\n",
    "    path('refreshtoken/', TokenRefreshView.as_view(), name='token_refresh'),\n",
    "    path('verifytoken/', TokenVerifyView.as_view(), name='token_verify'),\n",
    "]    \n",
    "```"
   ]
  },
  {
   "cell_type": "code",
   "execution_count": null,
   "id": "2ac23be3-763a-4871-8612-f92e3043a35e",
   "metadata": {},
   "outputs": [],
   "source": []
  },
  {
   "cell_type": "code",
   "execution_count": null,
   "id": "04133544-d89e-4036-8fb9-c10e06c86539",
   "metadata": {},
   "outputs": [],
   "source": []
  }
 ],
 "metadata": {
  "kernelspec": {
   "display_name": "Python 3 (ipykernel)",
   "language": "python",
   "name": "python3"
  },
  "language_info": {
   "codemirror_mode": {
    "name": "ipython",
    "version": 3
   },
   "file_extension": ".py",
   "mimetype": "text/x-python",
   "name": "python",
   "nbconvert_exporter": "python",
   "pygments_lexer": "ipython3",
   "version": "3.13.5"
  }
 },
 "nbformat": 4,
 "nbformat_minor": 5
}
