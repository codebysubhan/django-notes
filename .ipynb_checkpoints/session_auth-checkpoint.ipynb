{
 "cells": [
  {
   "cell_type": "markdown",
   "id": "9e4ed76c",
   "metadata": {},
   "source": [
    "# Session Authentication (Default in DRF)\n",
    "\n",
    "- Uses Django’s built-in session framework (i.e., cookies).\n",
    "- Ideal for browser-based clients (e.g., via login sessions).\n",
    "- The user logs in via `/admin/` or `LoginView`, and DRF tracks their session using a session cookie."
   ]
  },
  {
   "cell_type": "markdown",
   "id": "577bab40",
   "metadata": {},
   "source": [
    "### In `settings.py`:\n",
    "```python\n",
    "REST_FRAMEWORK = {\n",
    "    'DEFAULT_AUTHENTICATION_CLASSES': [\n",
    "        'rest_framework.authentication.SessionAuthentication',\n",
    "    ]\n",
    "}\n",
    "```\n",
    "\n",
    "To use it:\n",
    "- User logs in → Django sets session cookie.\n",
    "- DRF uses that session to identify user for all future requests."
   ]
  },
  {
   "cell_type": "markdown",
   "id": "9c572af6",
   "metadata": {},
   "source": [
    "# Permission Classes\n",
    "\n",
    "Permission classes control what authenticated or anonymous users can do."
   ]
  },
  {
   "cell_type": "markdown",
   "id": "003eac7e",
   "metadata": {},
   "source": [
    "### Set Globally in `settings.py`:\n",
    "```python\n",
    "REST_FRAMEWORK = {\n",
    "    'DEFAULT_PERMISSION_CLASSES': [\n",
    "        'rest_framework.permissions.IsAuthenticated',\n",
    "    ]\n",
    "}\n",
    "```\n",
    "\n",
    "### Or set per view:\n",
    "```python\n",
    "from rest_framework.permissions import IsAuthenticated\n",
    "\n",
    "class MyView(APIView):\n",
    "    permission_classes = [IsAuthenticated]\n",
    "```"
   ]
  },
  {
   "cell_type": "markdown",
   "id": "6e5d0f9c",
   "metadata": {},
   "source": [
    "## 1. AllowAny\n",
    "- Gives access to everyone (authenticated or not).\n",
    "- Default in DRF if you don’t set anything.\n",
    "\n",
    "```python\n",
    "from rest_framework.permissions import AllowAny\n",
    "\n",
    "permission_classes = [AllowAny]\n",
    "```"
   ]
  },
  {
   "cell_type": "markdown",
   "id": "c39b0b81",
   "metadata": {},
   "source": [
    "## 2. IsAuthenticated\n",
    "- Only logged-in users (session, token, JWT) are allowed.\n",
    "- Unauthenticated users get 403 Forbidden.\n",
    "\n",
    "```python\n",
    "from rest_framework.permissions import IsAuthenticated\n",
    "\n",
    "permission_classes = [IsAuthenticated]\n",
    "```"
   ]
  },
  {
   "cell_type": "markdown",
   "id": "83bda95c",
   "metadata": {},
   "source": [
    "## 3. IsAdminUser\n",
    "- Only users with `is_staff=True` (admin panel access) can access.\n",
    "- Others get 403 Forbidden.\n",
    "\n",
    "```python\n",
    "from rest_framework.permissions import IsAdminUser\n",
    "\n",
    "permission_classes = [IsAdminUser]\n",
    "```"
   ]
  },
  {
   "cell_type": "markdown",
   "id": "c8a54ea6",
   "metadata": {},
   "source": [
    "## 4. IsAuthenticatedOrReadOnly\n",
    "- Authenticated users can do anything (GET, POST, PUT, DELETE).\n",
    "- Unauthenticated users can only do safe methods (GET, HEAD, OPTIONS).\n",
    "\n",
    "```python\n",
    "from rest_framework.permissions import IsAuthenticatedOrReadOnly\n",
    "\n",
    "permission_classes = [IsAuthenticatedOrReadOnly]\n",
    "```"
   ]
  },
  {
   "cell_type": "markdown",
   "id": "27edf3f2",
   "metadata": {},
   "source": [
    "## 5. DjangoModelPermissions\n",
    "- Uses Django model permissions like `add`, `change`, `delete`, `view`.\n",
    "- Works only for authenticated users.\n",
    "- Permissions are checked automatically on the request method.\n",
    "\n",
    "| Method      | Permission Required |\n",
    "|-------------|---------------------|\n",
    "| GET         | view_modelname      |\n",
    "| POST        | add_modelname       |\n",
    "| PUT/PATCH   | change_modelname    |\n",
    "| DELETE      | delete_modelname    |\n",
    "\n",
    "```python\n",
    "from rest_framework.permissions import DjangoModelPermissions\n",
    "\n",
    "permission_classes = [DjangoModelPermissions]\n",
    "```"
   ]
  },
  {
   "cell_type": "markdown",
   "id": "b13bc619",
   "metadata": {},
   "source": [
    "## 6. DjangoModelPermissionsOrAnonReadOnly\n",
    "- Same as above, but anonymous users can still read (GET).\n",
    "- Good for public APIs that support both viewing and modifying data (but only for logged-in users).\n",
    "\n",
    "```python\n",
    "from rest_framework.permissions import DjangoModelPermissionsOrAnonReadOnly\n",
    "\n",
    "permission_classes = [DjangoModelPermissionsOrAnonReadOnly]\n",
    "```"
   ]
  },
  {
   "cell_type": "markdown",
   "id": "a52f298f",
   "metadata": {},
   "source": [
    "## 7. DjangoObjectPermissions\n",
    "- Fine-grained permissions.\n",
    "- Requires you to define `has_object_permission()` in your view or serializer.\n",
    "- Checks object-level access like: Can user view/update/delete this specific object?\n",
    "\n",
    "```python\n",
    "from rest_framework.permissions import DjangoObjectPermissions\n",
    "\n",
    "permission_classes = [DjangoObjectPermissions]\n",
    "```"
   ]
  },
  {
   "cell_type": "markdown",
   "id": "6ab8e810",
   "metadata": {},
   "source": [
    "# 🔁 Summary Table\n",
    "\n",
    "| Permission Class                     | Auth Required | Read-Only for Unauth? | Uses Model Perms | Object-Level Perms |\n",
    "|-------------------------------------|----------------|------------------------|-------------------|---------------------|\n",
    "| AllowAny                            | ❌             | ✅                     | ❌                | ❌                  |\n",
    "| IsAuthenticated                     | ✅             | ❌                     | ❌                | ❌                  |\n",
    "| IsAdminUser                         | ✅ (staff)     | ❌                     | ❌                | ❌                  |\n",
    "| IsAuthenticatedOrReadOnly          | ✅             | ✅                     | ❌                | ❌                  |\n",
    "| DjangoModelPermissions              | ✅             | ❌                     | ✅                | ❌                  |\n",
    "| DjangoModelPermissionsOrAnonReadOnly| ✅             | ✅                     | ✅                | ❌                  |\n",
    "| DjangoObjectPermissions             | ✅             | ❌                     | ✅                | ✅                  |"
   ]
  }
 ],
 "metadata": {
  "kernelspec": {
   "display_name": "Python 3 (ipykernel)",
   "language": "python",
   "name": "python3"
  },
  "language_info": {
   "codemirror_mode": {
    "name": "ipython",
    "version": 3
   },
   "file_extension": ".py",
   "mimetype": "text/x-python",
   "name": "python",
   "nbconvert_exporter": "python",
   "pygments_lexer": "ipython3",
   "version": "3.13.5"
  }
 },
 "nbformat": 4,
 "nbformat_minor": 5
}
