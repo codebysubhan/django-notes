{
 "cells": [
  {
   "cell_type": "markdown",
   "metadata": {},
   "source": [
    "# Django ORM - Introduction"
   ]
  },
  {
   "cell_type": "markdown",
   "metadata": {},
   "source": [
    "## 🔹 What is ORM?\n",
    "ORM stands for Object-Relational Mapping. It's a programming technique that allows you to interact with a database using objects instead of raw SQL queries.\n",
    "\n",
    "Django's ORM allows you to:\n",
    "- Define database tables as Python classes (models.Model)\n",
    "- Query and manipulate the database using Python (QuerySet)\n",
    "- Avoid writing raw SQL for most operations"
   ]
  },
  {
   "cell_type": "markdown",
   "metadata": {},
   "source": [
    "## 🔹 Why Use ORM?\n",
    "\n",
    "| Feature | Benefit |\n",
    "|---------|---------|\n",
    "| Abstraction | No need to write raw SQL |\n",
    "| Code-first | Define models in Python, auto-generate DB tables |\n",
    "| Cross-DB Support | Works with PostgreSQL, MySQL, SQLite, etc. |\n",
    "| Safer Queries | Prevents SQL injection, handles escaping |\n",
    "| Maintainability | Cleaner, more readable code than SQL strings |"
   ]
  },
  {
   "cell_type": "markdown",
   "metadata": {},
   "source": [
    "## 🔹 Example\n",
    "\n",
    "```python\n",
    "# models.py\n",
    "from django.db import models\n",
    "\n",
    "class Author(models.Model):\n",
    "    name = models.CharField(max_length=100)\n",
    "    country = models.CharField(max_length=100)\n",
    "\n",
    "class Book(models.Model):\n",
    "    title = models.CharField(max_length=100)\n",
    "    author = models.ForeignKey(Author, on_delete=models.CASCADE)\n",
    "    published_year = models.IntegerField()\n",
    "```\n",
    "\n",
    "You can now use Python to query the database:\n",
    "\n",
    "```python\n",
    "# Fetch books published after 2020\n",
    "books = Book.objects.filter(published_year__gt=2020)\n",
    "\n",
    "# Fetch author's name for a specific book\n",
    "book = Book.objects.get(id=1)\n",
    "print(book.author.name)\n",
    "```\n",
    "\n",
    "Django ORM will automatically translate this into SQL behind the scenes."
   ]
  },
  {
   "cell_type": "markdown",
   "metadata": {},
   "source": [
    "# Model Manager - Detailed Explanation"
   ]
  },
  {
   "cell_type": "markdown",
   "metadata": {},
   "source": [
    "## 🔹 What is a Manager?\n",
    "Every model in Django has at least one Manager, which is the interface between your model and the database. The default is `objects`.\n",
    "\n",
    "```python\n",
    "Book.objects.all()  # 'objects' is the default Manager\n",
    "```"
   ]
  },
  {
   "cell_type": "markdown",
   "metadata": {},
   "source": [
    "## 🔹 Purpose of a Manager\n",
    "- It is the entry point for all database queries\n",
    "- It returns QuerySets\n",
    "- You can define custom methods to encapsulate common queries"
   ]
  },
  {
   "cell_type": "markdown",
   "metadata": {},
   "source": [
    "## 🔹 Built-in Manager: objects\n",
    "\n",
    "```python\n",
    "Book.objects.filter(published_year__gte=2020)\n",
    "Book.objects.get(id=1)\n",
    "Book.objects.create(title=\"New Book\", published_year=2024)\n",
    "```"
   ]
  },
  {
   "cell_type": "markdown",
   "metadata": {},
   "source": [
    "## 🔹 Custom Manager - When and Why?\n",
    "If your model has repetitive query logic, you can define a custom manager to keep your code DRY and clean.\n",
    "\n",
    "Example:\n",
    "\n",
    "```python\n",
    "from django.db import models\n",
    "\n",
    "class BookManager(models.Manager):\n",
    "    def recent(self):\n",
    "        return self.filter(published_year__gte=2020)\n",
    "\n",
    "    def by_author(self, author_name):\n",
    "        return self.filter(author__name=author_name)\n",
    "\n",
    "class Book(models.Model):\n",
    "    title = models.CharField(max_length=100)\n",
    "    published_year = models.IntegerField()\n",
    "    author = models.ForeignKey('Author', on_delete=models.CASCADE)\n",
    "\n",
    "    objects = BookManager()\n",
    "```\n",
    "\n",
    "Usage:\n",
    "\n",
    "```python\n",
    "Book.objects.recent()\n",
    "Book.objects.by_author(\"John Doe\")\n",
    "```\n",
    "\n",
    "This makes your view logic cleaner and pushes query logic into a reusable class."
   ]
  },
  {
   "cell_type": "markdown",
   "metadata": {},
   "source": [
    "## 🔹 Manager vs QuerySet\n",
    "\n",
    "| Feature | Manager | QuerySet |\n",
    "|---------|---------|----------|\n",
    "| Entry point | Book.objects | Result of a query: .filter() etc |\n",
    "| Returns | QuerySet, or object | QuerySet |\n",
    "| Extensible | Can define custom methods | Yes (via .as_manager()) |\n",
    "\n",
    "You can also define a custom QuerySet and attach it as a manager:\n",
    "\n",
    "```python\n",
    "class BookQuerySet(models.QuerySet):\n",
    "    def recent(self):\n",
    "        return self.filter(published_year__gte=2020)\n",
    "\n",
    "class Book(models.Model):\n",
    "    title = models.CharField(max_length=100)\n",
    "    published_year = models.IntegerField()\n",
    "\n",
    "    objects = BookQuerySet.as_manager()\n",
    "```\n",
    "\n",
    "Now, you can chain custom methods:\n",
    "\n",
    "```python\n",
    "Book.objects.recent().filter(title__icontains=\"django\")\n",
    "```"
   ]
  },
  {
   "cell_type": "markdown",
   "metadata": {},
   "source": [
    "## Summary\n",
    "\n",
    "| Concept | Description |\n",
    "|---------|-------------|\n",
    "| ORM | Lets you interact with the DB using Python classes instead of SQL |\n",
    "| Model | Represents a table; each attribute = a column |\n",
    "| Manager | Interface for database operations (objects) |\n",
    "| Custom Manager | Lets you add custom, reusable query methods |\n",
    "| QuerySet | A lazy collection of results from the DB |"
   ]
  },
  {
   "cell_type": "markdown",
   "metadata": {},
   "source": [
    "# QuerySet Basics"
   ]
  },
  {
   "cell_type": "markdown",
   "metadata": {},
   "source": [
    "## 1. What is a QuerySet?\n",
    "A QuerySet is a collection of database queries that represents a list of objects retrieved from your database. QuerySets in Django ORM are:\n",
    "- Lazy: They don't hit the database until actually evaluated.\n",
    "- Chainable: You can build complex queries step-by-step.\n",
    "- Iterable: They behave like Python lists in many ways."
   ]
  },
  {
   "cell_type": "markdown",
   "metadata": {},
   "source": [
    "## 2. How to Get a QuerySet\n",
    "You get a QuerySet by calling the model's manager, usually named `objects`.\n",
    "\n",
    "```python\n",
    "from myapp.models import Book\n",
    "\n",
    "qs = Book.objects.all()\n",
    "```"
   ]
  },
  {
   "cell_type": "markdown",
   "metadata": {},
   "source": [
    "## 3. Common QuerySet Methods (Play Around)"
   ]
  },
  {
   "cell_type": "markdown",
   "metadata": {},
   "source": [
    "### all()\n",
    "Returns all objects from the database.\n",
    "\n",
    "```python\n",
    "Book.objects.all()\n",
    "```"
   ]
  },
  {
   "cell_type": "markdown",
   "metadata": {},
   "source": [
    "### filter(**kwargs)\n",
    "Returns a new QuerySet containing objects that match the given lookup parameters.\n",
    "\n",
    "```python\n",
    "Book.objects.filter(published_year=2023)\n",
    "Book.objects.filter(title__icontains='django')  # Case-insensitive partial match\n",
    "```"
   ]
  },
  {
   "cell_type": "markdown",
   "metadata": {},
   "source": [
    "### exclude(**kwargs)\n",
    "Returns a QuerySet excluding the objects matching the given parameters.\n",
    "\n",
    "```python\n",
    "Book.objects.exclude(published_year=2023)\n",
    "```"
   ]
  },
  {
   "cell_type": "markdown",
   "metadata": {},
   "source": [
    "### order_by()\n",
    "Sorts the QuerySet by the given fields.\n",
    "\n",
    "```python\n",
    "Book.objects.order_by('title')          # Ascending\n",
    "Book.objects.order_by('-published_year')  # Descending\n",
    "```"
   ]
  },
  {
   "cell_type": "markdown",
   "metadata": {},
   "source": [
    "### values() and values_list()\n",
    "Returns dictionaries or tuples of selected field values instead of full model instances.\n",
    "\n",
    "```python\n",
    "Book.objects.values('title', 'published_year')\n",
    "Book.objects.values_list('title', flat=True)\n",
    "```"
   ]
  },
  {
   "cell_type": "markdown",
   "metadata": {},
   "source": [
    "### distinct()\n",
    "Removes duplicate results.\n",
    "\n",
    "```python\n",
    "Book.objects.values('author').distinct()\n",
    "```"
   ]
  },
  {
   "cell_type": "markdown",
   "metadata": {},
   "source": [
    "### count()\n",
    "Returns the number of records matching the query.\n",
    "\n",
    "```python\n",
    "Book.objects.filter(published_year=2024).count()\n",
    "```"
   ]
  },
  {
   "cell_type": "markdown",
   "metadata": {},
   "source": [
    "### first() and last()\n",
    "Returns the first or last object in the QuerySet, or None if empty.\n",
    "\n",
    "```python\n",
    "Book.objects.order_by('title').first()\n",
    "Book.objects.order_by('title').last()\n",
    "```"
   ]
  },
  {
   "cell_type": "markdown",
   "metadata": {},
   "source": [
    "### exists()\n",
    "Checks if any records match the query. Returns True or False.\n",
    "\n",
    "```python\n",
    "Book.objects.filter(title=\"Django\").exists()\n",
    "```"
   ]
  },
  {
   "cell_type": "markdown",
   "metadata": {},
   "source": [
    "### get()\n",
    "Returns exactly one object that matches the query. Raises DoesNotExist or MultipleObjectsReturned exceptions if not found or too many matches.\n",
    "\n",
    "```python\n",
    "Book.objects.get(id=1)\n",
    "```"
   ]
  },
  {
   "cell_type": "markdown",
   "metadata": {},
   "source": [
    "### reverse()\n",
    "Reverses the ordering of the QuerySet.\n",
    "\n",
    "```python\n",
    "Book.objects.all().order_by('title').reverse()\n",
    "```"
   ]
  },
  {
   "cell_type": "markdown",
   "metadata": {},
   "source": [
    "## Chaining Queries\n",
    "You can chain multiple QuerySet methods together to refine your query.\n",
    "\n",
    "```python\n",
    "Book.objects.filter(title__icontains=\"django\").order_by('-published_year').distinct()\n",
    "```"
   ]
  },
  {
   "cell_type": "markdown",
   "metadata": {},
   "source": [
    "## Slicing and Indexing\n",
    "QuerySets support Python slicing for limiting and paginating results.\n",
    "\n",
    "```python\n",
    "Book.objects.all()[:5]     # First 5 records\n",
    "Book.objects.all()[5:10]   # Next 5 records\n",
    "Book.objects.all()[0]      # First object\n",
    "```"
   ]
  },
  {
   "cell_type": "markdown",
   "metadata": {},
   "source": [
    "## 4. QuerySet Evaluation\n",
    "QuerySets are lazy and are not executed until you evaluate them. Evaluation happens when:\n",
    "- You iterate over them\n",
    "- You call list(), len(), bool(), first(), last(), etc.\n",
    "\n",
    "```python\n",
    "qs = Book.objects.filter(published_year=2024)  # No query executed yet\n",
    "list(qs)  # Triggers the actual query\n",
    "```"
   ]
  },
  {
   "cell_type": "markdown",
   "metadata": {},
   "source": [
    "## 5. Summary of Common QuerySet Methods\n",
    "\n",
    "| Method | Description |\n",
    "|--------|-------------|\n",
    "| all() | Returns all objects |\n",
    "| filter() | Filters objects based on conditions |\n",
    "| exclude() | Excludes objects matching conditions |\n",
    "| order_by() | Orders results by given field(s) |\n",
    "| get() | Gets one object, or raises error |\n",
    "| first() / last() | Gets first or last object |\n",
    "| values() | Returns dicts of selected fields |\n",
    "| values_list() | Returns tuples or flat lists of fields |\n",
    "| count() | Returns number of records |\n",
    "| exists() | Checks if any records exist |\n",
    "| distinct() | Removes duplicates |\n",
    "| reverse() | Reverses ordering |"
   ]
  },
  {
   "cell_type": "markdown",
   "metadata": {},
   "source": [
    "## Lazy vs Eager (for comparison)\n",
    "\n",
    "| Operation | Lazy or Eager | Notes |\n",
    "|-----------|--------------|-------|\n",
    "| Book.objects.all() | Lazy | Query not executed |\n",
    "| list(Book.objects.all()) | Eager | Query executed immediately |\n",
    "| Book.objects.all().filter(title__icontains='django') | Lazy | Chained, but still not executed |\n",
    "| Book.objects.all()[0] | Eager | Query executed for first record |"
   ]
  },
  {
   "cell_type": "markdown",
   "metadata": {},
   "source": [
    "# Advanced QuerySet Methods"
   ]
  },
  {
   "cell_type": "markdown",
   "metadata": {},
   "source": [
    "## 🔹 get()\n",
    "Fetch a single object matching the query; raises DoesNotExist if none, or MultipleObjectsReturned if many.\n",
    "\n",
    "```python\n",
    "book = Book.objects.get(id=1)\n",
    "```"
   ]
  },
  {
   "cell_type": "markdown",
   "metadata": {},
   "source": [
    "## 🔹 create()\n",
    "Creates and saves a new object in one step.\n",
    "\n",
    "```python\n",
    "Book.objects.create(title=\"New Book\", published_year=2023)\n",
    "```"
   ]
  },
  {
   "cell_type": "markdown",
   "metadata": {},
   "source": [
    "## 🔹 get_or_create()\n",
    "Gets the object if it exists, otherwise creates it.\n",
    "\n",
    "```python\n",
    "book, created = Book.objects.get_or_create(title=\"Python 101\", defaults={'published_year': 2020})\n",
    "```"
   ]
  },
  {
   "cell_type": "markdown",
   "metadata": {},
   "source": [
    "## 🔹 update_or_create()\n",
    "Gets and updates the object if it exists, or creates it.\n",
    "\n",
    "```python\n",
    "book, created = Book.objects.update_or_create(\n",
    "    title=\"Python 101\", defaults={'published_year': 2024}\n",
    ")\n",
    "```"
   ]
  },
  {
   "cell_type": "markdown",
   "metadata": {},
   "source": [
    "## 🔹 bulk_create()\n",
    "Creates many objects in a single query (efficient).\n",
    "\n",
    "```python\n",
    "Book.objects.bulk_create([\n",
    "    Book(title=\"A\", published_year=2019),\n",
    "    Book(title=\"B\", published_year=2020)\n",
    "])\n",
    "```"
   ]
  },
  {
   "cell_type": "markdown",
   "metadata": {},
   "source": [
    "## 🔹 bulk_update()\n",
    "Efficiently updates multiple objects.\n",
    "\n",
    "```python\n",
    "books = Book.objects.all()\n",
    "for book in books:\n",
    "    book.published_year += 1\n",
    "Book.objects.bulk_update(books, ['published_year'])\n",
    "```"
   ]
  },
  {
   "cell_type": "markdown",
   "metadata": {},
   "source": [
    "## 🔹 count()\n",
    "Returns number of records.\n",
    "\n",
    "```python\n",
    "Book.objects.filter(published_year=2020).count()\n",
    "```"
   ]
  },
  {
   "cell_type": "markdown",
   "metadata": {},
   "source": [
    "## 🔹 in_bulk()\n",
    "Returns a dictionary of objects keyed by their IDs.\n",
    "\n",
    "```python\n",
    "Book.objects.in_bulk([1, 2, 3])\n",
    "```"
   ]
  },
  {
   "cell_type": "markdown",
   "metadata": {},
   "source": [
    "## 🔹 iterator()\n",
    "Efficiently iterates large querysets without loading all into memory.\n",
    "\n",
    "```python\n",
    "for book in Book.objects.iterator():\n",
    "    print(book.title)\n",
    "```"
   ]
  },
  {
   "cell_type": "markdown",
   "metadata": {},
   "source": [
    "## 🔹 latest() / earliest()\n",
    "Get object with latest or earliest value based on a field.\n",
    "\n",
    "```python\n",
    "Book.objects.latest('published_year')\n",
    "Book.objects.earliest('published_year')\n",
    "```"
   ]
  },
  {
   "cell_type": "markdown",
   "metadata": {},
   "source": [
    "## 🔹 first() / last()\n",
    "Returns the first or last object in a queryset.\n",
    "\n",
    "```python\n",
    "Book.objects.order_by('title').first()\n",
    "Book.objects.order_by('title').last()\n",
    "```"
   ]
  },
  {
   "cell_type": "markdown",
   "metadata": {},
   "source": [
    "## 🔹 aggregate()\n",
    "Performs aggregation like Sum, Avg, Max, Min, Count.\n",
    "\n",
    "```python\n",
    "from django.db.models import Avg\n",
    "Book.objects.aggregate(Avg('published_year'))\n",
    "```"
   ]
  },
  {
   "cell_type": "markdown",
   "metadata": {},
   "source": [
    "## 🔹 exists()\n",
    "Checks if a queryset has any rows.\n",
    "\n",
    "```python\n",
    "Book.objects.filter(title=\"Django\").exists()\n",
    "```"
   ]
  },
  {
   "cell_type": "markdown",
   "metadata": {},
   "source": [
    "## 🔹 update()\n",
    "Bulk updates rows (doesn't call save()).\n",
    "\n",
    "```python\n",
    "Book.objects.filter(title=\"Old Title\").update(title=\"New Title\")\n",
    "```"
   ]
  },
  {
   "cell_type": "markdown",
   "metadata": {},
   "source": [
    "## 🔹 delete()\n",
    "Deletes all objects in queryset.\n",
    "\n",
    "```python\n",
    "Book.objects.filter(published_year=2010).delete()\n",
    "```"
   ]
  },
  {
   "cell_type": "markdown",
   "metadata": {},
   "source": [
    "## 🔹 as_manager()\n",
    "Allows using a custom QuerySet as a model manager.\n",
    "\n",
    "```python\n",
    "class BookQuerySet(models.QuerySet):\n",
    "    def recent(self):\n",
    "        return self.filter(published_year__gte=2020)\n",
    "\n",
    "class Book(models.Model):\n",
    "    title = models.CharField(max_length=100)\n",
    "    published_year = models.IntegerField()\n",
    "\n",
    "    objects = BookQuerySet.as_manager()\n",
    "```"
   ]
  },
  {
   "cell_type": "markdown",
   "metadata": {},
   "source": [
    "## 🔹 explain()\n",
    "Returns the SQL query execution plan (useful for optimization).\n",
    "\n",
    "```python\n",
    "Book.objects.filter(published_year=2020).explain()\n",
    "```"
   ]
  },
  {
   "cell_type": "code",
   "execution_count": null,
   "metadata": {},
   "outputs": [],
   "source": [
    "class QuerySetDemoView(APIView):\n",
    "    def get(self, request):\n",
    "        result = {}\n",
    "\n",
    "        # create()\n",
    "        author = Author.objects.create(name=\"George Orwell\")\n",
    "        book = Book.objects.create(title=\"1984\", published_year=1949, author=author)\n",
    "        result['create'] = BookSerializer(book).data\n",
    "\n",
    "        # get_or_create()\n",
    "        author, created = Author.objects.get_or_create(name=\"Aldous Huxley\")\n",
    "        result['get_or_create'] = AuthorSerializer(author).data\n",
    "\n",
    "        # update_or_create()\n",
    "        book, created = Book.objects.update_or_create(\n",
    "            title=\"Brave New World\",\n",
    "            defaults={\"published_year\": 1932, \"author\": author}\n",
    "        )\n",
    "        result['update_or_create'] = BookSerializer(book).data\n",
    "\n",
    "        # bulk_create()\n",
    "        books = [\n",
    "            Book(title=\"Book A\", published_year=2001, author=author),\n",
    "            Book(title=\"Book B\", published_year=2002, author=author),\n",
    "        ]\n",
    "        Book.objects.bulk_create(books)\n",
    "        result['bulk_create'] = '2 books created'\n",
    "\n",
    "        # bulk_update()\n",
    "        books = Book.objects.filter(author=author)\n",
    "        for b in books:\n",
    "            b.published_year += 1\n",
    "        Book.objects.bulk_update(books, ['published_year'])\n",
    "        result['bulk_update'] = 'published_year incremented'\n",
    "\n",
    "        # count()\n",
    "        result['count'] = Book.objects.count()\n",
    "\n",
    "        # in_bulk()\n",
    "        books_dict = Book.objects.in_bulk([1, 2])\n",
    "        result['in_bulk'] = list(books_dict.keys())\n",
    "\n",
    "        # latest() and earliest()\n",
    "        result['latest'] = Book.objects.latest('published_year').title\n",
    "        result['earliest'] = Book.objects.earliest('published_year').title\n",
    "\n",
    "        # first() and last()\n",
    "        result['first'] = Book.objects.order_by('title').first().title\n",
    "        result['last'] = Book.objects.order_by('title').last().title\n",
    "\n",
    "        # aggregate()\n",
    "        result['average_year'] = Book.objects.aggregate(Avg('published_year'))['published_year__avg']\n",
    "\n",
    "        # exists()\n",
    "        result['exists'] = Book.objects.filter(title=\"1984\").exists()\n",
    "\n",
    "        # update()\n",
    "        Book.objects.filter(title=\"Book A\").update(title=\"Book A - Updated\")\n",
    "        result['update'] = 'Book A updated'\n",
    "\n",
    "        # delete()\n",
    "        Book.objects.filter(title=\"Book B\").delete()\n",
    "        result['delete'] = 'Book B deleted'\n",
    "\n",
    "        # as_manager()\n",
    "        recent_books = Book.objects.recent()\n",
    "        result['recent_books'] = BookSerializer(recent_books, many=True).data\n",
    "\n",
    "        # explain()\n",
    "        explanation = Book.objects.filter(published_year__gte=2000).explain()\n",
    "        result['explain'] = explanation\n",
    "\n",
    "        return Response(result)"
   ]
  },
  {
   "cell_type": "markdown",
   "metadata": {},
   "source": [
    "# Django Relationships"
   ]
  },
  {
   "cell_type": "markdown",
   "metadata": {},
   "source": [
    "## 1. One-to-One Relationship\n",
    "Example in your code:\n",
    "\n",
    "```python\n",
    "class Profile(models.Model):\n",
    "    author = models.OneToOneField(Author, on_delete=models.CASCADE)\n",
    "    biography = models.TextField()\n",
    "```\n",
    "\n",
    "Explanation:\n",
    "A OneToOneField ensures that each Author has only one Profile, and vice versa. It is like extending the Author model with additional information.\n",
    "\n",
    "Use Case:\n",
    "Useful when you want to separate optional or sensitive data into another table, like user profile info, settings, or authentication tokens."
   ]
  },
  {
   "cell_type": "markdown",
   "metadata": {},
   "source": [
    "## 2. One-to-Many Relationship\n",
    "Example in your code:\n",
    "\n",
    "```python\n",
    "class Book(models.Model):\n",
    "    author = models.ForeignKey(Author, on_delete=models.CASCADE)\n",
    "```\n",
    "\n",
    "Explanation:\n",
    "A ForeignKey sets up a one-to-many relationship. This means:\n",
    "- One Author can have many Book records.\n",
    "- Each Book is linked to only one Author.\n",
    "\n",
    "Use Case:\n",
    "Ideal for parent-child relationships like a blog post and comments, or author and books."
   ]
  },
  {
   "cell_type": "markdown",
   "metadata": {},
   "source": [
    "## 3. Many-to-Many Relationship\n",
    "Example in your code:\n",
    "\n",
    "```python\n",
    "class Store(models.Model):\n",
    "    books = models.ManyToManyField(Book)\n",
    "```\n",
    "\n",
    "Explanation:\n",
    "A ManyToManyField allows:\n",
    "- One Store to have many Book instances.\n",
    "- One Book to appear in many Store entries.\n",
    "\n",
    "Use Case:\n",
    "Use when you need a bidirectional and flexible relationship such as tags on posts, students enrolled in courses, or books in multiple stores."
   ]
  },
  {
   "cell_type": "markdown",
   "metadata": {},
   "source": [
    "# Django ORM Cheat Sheet"
   ]
  },
  {
   "cell_type": "markdown",
   "metadata": {},
   "source": [
    "## 🔹 QuerySet Methods\n",
    "\n",
    "| Method | One-Liner Description |\n",
    "|--------|-----------------------|\n",
    "| filter() | Filters rows matching given conditions (AND logic by default). |\n",
    "| exclude() | Excludes rows matching given conditions. |\n",
    "| annotate() | Adds calculated fields (aggregates or expressions) per object. |\n",
    "| order_by() | Sorts the queryset by one or more fields. |\n",
    "| reverse() | Reverses the current ordering of the queryset. |\n",
    "| distinct() | Removes duplicate rows from the queryset. |\n",
    "| values() | Returns dictionaries of field values (not model instances). |\n",
    "| values_list() | Returns tuples or flat lists of field values. |\n",
    "| none() | Returns an empty queryset. |\n",
    "| all() | Returns all objects in the queryset (no filtering). |\n",
    "| union() | Combines two querysets and removes duplicates. |\n",
    "| intersection() | Returns only rows present in both querysets. |\n",
    "| difference() | Returns rows from the first queryset that are not in the second. |\n",
    "| select_related() | Performs SQL JOIN to fetch related foreign key data in one query (forward relation). |\n",
    "| prefetch_related() | Performs two queries and joins them in Python (useful for reverse or M2M). |\n",
    "| defer() | Defers loading of selected fields until they are accessed. |\n",
    "| only() | Loads only selected fields immediately; others deferred. |\n",
    "| using() | Runs the query using a specific database connection alias. |\n",
    "| select_for_update() | Locks rows during transaction to prevent concurrent updates. |\n",
    "| raw() | Executes raw SQL queries and returns model instances. |"
   ]
  },
  {
   "cell_type": "markdown",
   "metadata": {},
   "source": [
    "## 🔹 Expressions\n",
    "\n",
    "| Expression | One-Liner Description |\n",
    "|------------|-----------------------|\n",
    "| F() | Refers to model field values directly in queries for comparison or updates. |\n",
    "| Q() | Builds complex queries using OR, AND, and NOT logic. |\n",
    "| Func() | Represents a raw SQL function (e.g., Lower, Length). |\n",
    "| Value() | Wraps constant values for use in expressions. |\n",
    "| Aggregate() | Base class for aggregate operations (not used directly). |\n",
    "| ExpressionWrapper() | Wraps expressions (e.g., arithmetic on F() values) for annotations or filters. |\n",
    "| SubQuery() | Embeds a subquery in a filter, annotation, or expression. |"
   ]
  },
  {
   "cell_type": "markdown",
   "metadata": {},
   "source": [
    "## 🔹 Aggregate Functions\n",
    "\n",
    "| Function | One-Liner Description |\n",
    "|----------|-----------------------|\n",
    "| Avg | Calculates average of a field. |\n",
    "| Count | Counts rows or grouped records. |\n",
    "| Max | Returns the maximum value of a field. |\n",
    "| Min | Returns the minimum value of a field. |\n",
    "| StdDev | Calculates standard deviation of a numeric field. |\n",
    "| Sum | Calculates total sum of a field. |\n",
    "| Variance | Calculates statistical variance of a field. |"
   ]
  },
  {
   "cell_type": "markdown",
   "metadata": {},
   "source": [
    "## 🔹 Field Lookups\n",
    "\n",
    "| Lookup | One-Liner Description |\n",
    "|--------|-----------------------|\n",
    "| contains | Case-sensitive substring match. |\n",
    "| icontains | Case-insensitive substring match. |\n",
    "| date | Extracts and compares only the date part of DateTime. |\n",
    "| day | Matches day part of a date. |\n",
    "| endswith | Case-sensitive string suffix match. |\n",
    "| iendswith | Case-insensitive string suffix match. |\n",
    "| exact | Case-sensitive exact match. |\n",
    "| iexact | Case-insensitive exact match. |\n",
    "| in | Matches values in a list or iterable. |\n",
    "| isnull | Matches NULL or non-NULL values. |\n",
    "| gt | Greater than comparison. |\n",
    "| gte | Greater than or equal comparison. |\n",
    "| hour | Matches hour part of a time or datetime. |\n",
    "| lt | Less than comparison. |\n",
    "| lte | Less than or equal comparison. |\n",
    "| minute | Matches minute part of a time or datetime. |\n",
    "| month | Matches month part of a date. |\n",
    "| quarter | Matches quarter of the year (1 to 4). |\n",
    "| range | Matches if value falls within given range. |\n",
    "| regex | Case-sensitive regular expression match. |\n",
    "| iregex | Case-insensitive regular expression match. |\n",
    "| second | Matches seconds part of a time or datetime. |\n",
    "| startswith | Case-sensitive string prefix match. |\n",
    "| istartswith | Case-insensitive string prefix match. |\n",
    "| time | Matches time part of a DateTime field. |\n",
    "| week | Matches ISO calendar week number. |\n",
    "| week_day | Matches day of week (1=Sunday, 7=Saturday). |\n",
    "| iso_week_day | Matches ISO day of week (1=Monday, 7=Sunday). |\n",
    "| year | Matches year part of a date or datetime. |\n",
    "| iso_year | Matches ISO calendar year. |"
   ]
  },
  {
   "cell_type": "markdown",
   "metadata": {},
   "source": [
    "# ISO Calendar Explanation"
   ]
  },
  {
   "cell_type": "markdown",
   "metadata": {},
   "source": [
    "## What is the ISO Calendar?\n",
    "The ISO calendar refers to the ISO 8601 international standard for representing dates and times, maintained by the International Organization for Standardization (ISO). It standardizes how dates, weeks, and times are represented."
   ]
  },
  {
   "cell_type": "markdown",
   "metadata": {},
   "source": [
    "## 🔹 Key Concepts of the ISO Calendar (ISO 8601)\n",
    "\n",
    "| Concept | Description |\n",
    "|---------|-------------|\n",
    "| Week starts on | Monday (not Sunday) |\n",
    "| Week number | Weeks are numbered from 1 to 52/53 |\n",
    "| First week of year | The week with the first Thursday of the year (or the one containing January 4th) |\n",
    "| ISO year | May differ from the calendar year if the week spans across two years |"
   ]
  },
  {
   "cell_type": "markdown",
   "metadata": {},
   "source": [
    "## 🔹 Why it matters in Django\n",
    "When using Django's ORM field lookups like `iso_year`, `iso_week_day`, and `week`, Django follows the ISO calendar rules."
   ]
  },
  {
   "cell_type": "markdown",
   "metadata": {},
   "source": [
    "## 🔹 Example (ISO week vs calendar week)\n",
    "Consider the date:\n",
    "January 1, 2023 (Sunday)\n",
    "\n",
    "- `year`: 2023 — calendar year\n",
    "- `week_day`: 1 — Sunday (Django default, 1=Sunday)\n",
    "- `iso_week_day`: 7 — Sunday (ISO: 1=Monday, 7=Sunday)\n",
    "- `iso_year`: 2022 — because ISO week 1 of 2023 starts on Monday, Jan 2, 2023"
   ]
  },
  {
   "cell_type": "markdown",
   "metadata": {},
   "source": [
    "## 🔹 Field Lookups in Django (ISO Calendar Related)\n",
    "\n",
    "| Lookup | Description |\n",
    "|--------|-------------|\n",
    "| iso_year | ISO calendar year |\n",
    "| week | ISO week number (1–53) |\n",
    "| iso_week_day | ISO day of the week (Monday = 1, Sunday = 7) |"
   ]
  },
  {
   "cell_type": "markdown",
   "metadata": {},
   "source": [
    "## 🔹 When to Use ISO Calendar?\n",
    "- When dealing with week-based analytics or calendars (e.g., weekly reports)\n",
    "- To conform to international standards\n",
    "- When consistent weekday/week logic is needed regardless of locale"
   ]
  },
  {
   "cell_type": "markdown",
   "metadata": {},
   "source": [
    "# Django ORM Concepts"
   ]
  },
  {
   "cell_type": "markdown",
   "metadata": {},
   "source": [
    "## 🔹 Forward vs Reverse Relation in Django (Short Explanation)\n",
    "- **Forward Relation**: Access from the model that defines the relationship.\n",
    "  → Example: `student.classroom` (Student has FK to Classroom)\n",
    "  \n",
    "- **Reverse Relation**: Access from the related model back to the source.\n",
    "  → Example: `classroom.students.all()` (Classroom retrieves related Students via related_name or student_set)"
   ]
  },
  {
   "cell_type": "markdown",
   "metadata": {},
   "source": [
    "## 🔹 aggregate() vs annotate() (Short Explanation)\n",
    "- **aggregate()**: Computes a summary value for the entire queryset (e.g., total, average).\n",
    "  → Example: `Student.objects.aggregate(Avg('marks'))`\n",
    "  \n",
    "- **annotate()**: Computes and attaches values per object in the queryset.\n",
    "  → Example: `Classroom.objects.annotate(student_count=Count('students'))`"
   ]
  }
 ],
 "metadata": {
  "kernelspec": {
   "display_name": "Python 3 (ipykernel)",
   "language": "python",
   "name": "python3"
  },
  "language_info": {
   "codemirror_mode": {
    "name": "ipython",
    "version": 3
   },
   "file_extension": ".py",
   "mimetype": "text/x-python",
   "name": "python",
   "nbconvert_exporter": "python",
   "pygments_lexer": "ipython3",
   "version": "3.13.5"
  }
 },
 "nbformat": 4,
 "nbformat_minor": 4
}
