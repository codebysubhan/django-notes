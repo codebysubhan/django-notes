{
 "cells": [
  {
   "cell_type": "markdown",
   "id": "8449960f",
   "metadata": {},
   "source": [
    "# 1. Introduction to JSON Web Token (JWT)\n",
    "\n",
    "- JWT is an open standard (RFC 7519) for securely transmitting information between parties as a JSON object.\n",
    "- Commonly used for authentication and authorization.\n",
    "\n",
    "**A typical JWT has three parts:**\n",
    "- **Header**: contains metadata and the signing algorithm.\n",
    "- **Payload**: contains claims (user data).\n",
    "- **Signature**: verifies authenticity.\n",
    "\n",
    "✅ JWTs are **stateless**: once issued, the server doesn't need to store sessions."
   ]
  },
  {
   "cell_type": "markdown",
   "id": "7900c078",
   "metadata": {},
   "source": [
    "# 2. Introduction to Simple JWT\n",
    "\n",
    "- Simple JWT is a third-party package for Django REST Framework.\n",
    "- Provides JWT authentication support.\n",
    "\n",
    "**It generates two token types:**\n",
    "- **Access Token**: Short-lived, for authentication.\n",
    "- **Refresh Token**: Long-lived, used to obtain new access tokens without login.\n",
    "\n",
    "🔒 Ideal for stateless API authentication."
   ]
  },
  {
   "cell_type": "markdown",
   "id": "c74a939e",
   "metadata": {},
   "source": [
    "# 3. How to Install and Configure Simple JWT\n",
    "\n",
    "### Install:\n",
    "```bash\n",
    "pip install djangorestframework-simplejwt\n",
    "```\n",
    "\n",
    "### Update `settings.py`:\n",
    "```python\n",
    "REST_FRAMEWORK = {\n",
    "    'DEFAULT_AUTHENTICATION_CLASSES': (\n",
    "        'rest_framework_simplejwt.authentication.JWTAuthentication',\n",
    "    ),\n",
    "}\n",
    "```\n",
    "\n",
    "### Add JWT views to `urls.py`:\n",
    "```python\n",
    "from rest_framework_simplejwt.views import (\n",
    "    TokenObtainPairView,\n",
    "    TokenRefreshView,\n",
    "    TokenVerifyView,\n",
    ")\n",
    "\n",
    "urlpatterns = [\n",
    "    path('gettoken/', TokenObtainPairView.as_view(), name='token_obtain_pair'),\n",
    "    path('refreshtoken/', TokenRefreshView.as_view(), name='token_refresh'),\n",
    "    path('verifytoken/', TokenVerifyView.as_view(), name='token_verify'),\n",
    "]\n",
    "```"
   ]
  },
  {
   "cell_type": "markdown",
   "id": "ebe3fe95",
   "metadata": {},
   "source": [
    "# 4. JWT Default Settings\n",
    "\n",
    "By default:\n",
    "- `ACCESS_TOKEN_LIFETIME`: 5 minutes\n",
    "- `REFRESH_TOKEN_LIFETIME`: 1 day\n",
    "\n",
    "### Customize in `settings.py`:\n",
    "```python\n",
    "from datetime import timedelta\n",
    "\n",
    "SIMPLE_JWT = {\n",
    "    'ACCESS_TOKEN_LIFETIME': timedelta(minutes=10),\n",
    "    'REFRESH_TOKEN_LIFETIME': timedelta(days=1),\n",
    "    'ROTATE_REFRESH_TOKENS': False,\n",
    "    'BLACKLIST_AFTER_ROTATION': True,\n",
    "}\n",
    "```"
   ]
  },
  {
   "cell_type": "markdown",
   "id": "b07fdbca",
   "metadata": {},
   "source": [
    "# 5. ACCESS_TOKEN_LIFETIME and REFRESH_TOKEN_LIFETIME\n",
    "\n",
    "- `ACCESS_TOKEN_LIFETIME`: Duration for authenticating API requests. **Keep short** for better security.\n",
    "- `REFRESH_TOKEN_LIFETIME`: Duration during which new access tokens can be issued **without re-authentication**."
   ]
  },
  {
   "cell_type": "markdown",
   "id": "e1923568",
   "metadata": {},
   "source": [
    "# 6. How to Use Simple JWT\n",
    "\n",
    "1. Add `JWTAuthentication` in `DEFAULT_AUTHENTICATION_CLASSES`.\n",
    "2. Use `TokenObtainPairView` to get tokens.\n",
    "3. Send **access token** in `Authorization` header:\n",
    "\n",
    "```\n",
    "Authorization: Bearer <access_token>\n",
    "```"
   ]
  },
  {
   "cell_type": "markdown",
   "id": "4657c811",
   "metadata": {},
   "source": [
    "# 7. How to Get Token\n",
    "\n",
    "### Make POST request to `/gettoken/`:\n",
    "```http\n",
    "POST /gettoken/\n",
    "{\n",
    "    \"username\": \"yourusername\",\n",
    "    \"password\": \"yourpassword\"\n",
    "}\n",
    "```\n",
    "\n",
    "### Response:\n",
    "```json\n",
    "{\n",
    "    \"refresh\": \"your-refresh-token\",\n",
    "    \"access\": \"your-access-token\"\n",
    "}\n",
    "```"
   ]
  },
  {
   "cell_type": "markdown",
   "id": "e888b58d",
   "metadata": {},
   "source": [
    "# 8. How to Verify Token\n",
    "\n",
    "### POST request to `/verifytoken/`:\n",
    "```http\n",
    "POST /verifytoken/\n",
    "{\n",
    "    \"token\": \"your-access-token\"\n",
    "}\n",
    "```\n",
    "\n",
    "- If valid → **200 OK**\n",
    "- If invalid/expired → **Error response**"
   ]
  },
  {
   "cell_type": "markdown",
   "id": "00ef47b2",
   "metadata": {},
   "source": [
    "# 9. How to Refresh Token\n",
    "\n",
    "### POST request to `/refreshtoken/`:\n",
    "```http\n",
    "POST /refreshtoken/\n",
    "{\n",
    "    \"refresh\": \"your-refresh-token\"\n",
    "}\n",
    "```\n",
    "\n",
    "➡️ You’ll receive a **new access token** in the response."
   ]
  },
  {
   "cell_type": "markdown",
   "id": "178515d9",
   "metadata": {},
   "source": [
    "# 10. Permission Classes\n",
    "\n",
    "JWT handles **authentication**, and for **authorization** you use permission classes like:\n",
    "- `IsAuthenticated`\n",
    "- `IsAdminUser`\n",
    "- `IsAuthenticatedOrReadOnly`\n",
    "- `DjangoModelPermissions`\n",
    "\n",
    "### In your views:\n",
    "```python\n",
    "from rest_framework.permissions import IsAuthenticated\n",
    "\n",
    "class MyView(APIView):\n",
    "    permission_classes = [IsAuthenticated]\n",
    "```\n",
    "✅ This ensures **only authenticated users with a valid JWT** can access the view."
   ]
  }
 ],
 "metadata": {
  "kernelspec": {
   "display_name": "Python 3 (ipykernel)",
   "language": "python",
   "name": "python3"
  },
  "language_info": {
   "codemirror_mode": {
    "name": "ipython",
    "version": 3
   },
   "file_extension": ".py",
   "mimetype": "text/x-python",
   "name": "python",
   "nbconvert_exporter": "python",
   "pygments_lexer": "ipython3",
   "version": "3.13.5"
  }
 },
 "nbformat": 4,
 "nbformat_minor": 5
}
