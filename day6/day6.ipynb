{
 "cells": [
  {
   "metadata": {},
   "cell_type": "markdown",
   "source": "### abc",
   "id": "d7792d8d27a0cbf4"
  },
  {
   "metadata": {
    "ExecuteTime": {
     "end_time": "2025-06-30T07:53:31.060614Z",
     "start_time": "2025-06-30T07:53:31.019999Z"
    }
   },
   "cell_type": "code",
   "source": [
    "# python basics\n",
    "# python is general purpose object oriented language. The main purpose of python is often found in machine learning and artificial intelligence due to it's vast community support\n",
    "# python interpreter\n",
    "# python is not like C or C++ it is an interpreted language. The program is first written as .py script and then it is tokenized, parsed to interpreter, the byte code is created and executed line by line"
   ],
   "id": "7f83ed7a663dc8d7",
   "outputs": [],
   "execution_count": 100
  },
  {
   "metadata": {
    "ExecuteTime": {
     "end_time": "2025-06-30T07:53:33.627937Z",
     "start_time": "2025-06-30T07:53:33.586879Z"
    }
   },
   "cell_type": "code",
   "source": [
    "# python syntax:\n",
    "# python is very intuitive and a high level language.\n",
    "# python variables:\n",
    "# python store variables in memory with reference counting mechanism. When a new variable is created a new reference is created to the object in the memory, It is very different from C and C++.\n",
    "# When all references to a variable are deleted then grabage collector is invoked and object is deleting from memory autmatically, no need to manage memory manually"
   ],
   "id": "98128a8867b23868",
   "outputs": [],
   "execution_count": 101
  },
  {
   "metadata": {
    "ExecuteTime": {
     "end_time": "2025-06-30T07:53:34.407781Z",
     "start_time": "2025-06-30T07:53:34.365960Z"
    }
   },
   "cell_type": "code",
   "source": [
    "# Python Data Types:\n",
    "a = 10\n",
    "print(a, \"Dtype:\", type(a))\n",
    "b = 2.3\n",
    "print(b, \"Dtype:\", type(b))\n",
    "c = True\n",
    "print(c, \"Dtype:\", type(c))\n",
    "d = \"abc\"\n",
    "print(c, \"Dtype:\", type(d))\n",
    "e = 1 + 2j\n",
    "print(e, \"Dtype:\", type(e))\n",
    "f = [1, 2, 3]\n",
    "print(f, \"Dtype:\", type(f))\n",
    "g = (1, 2, 3)\n",
    "print(g, \"Dtype:\", type(g))\n",
    "h = range(1, 10, 2)\n",
    "print(h, \"Dtype:\", type(h))\n",
    "i = {1, 2, 3}\n",
    "print(i, \"Dtype:\", type(i))\n",
    "j = frozenset([1, 2, 3])\n",
    "print(j, \"Dtype:\", type(j))\n",
    "k = {'a':1, 'b':2, 'c':{1:2, 2:3}}\n",
    "print(k, \"Dtype:\", type(k))\n",
    "l = b'subhan ali'\n",
    "print(l, \"Dtype:\", type(l))\n",
    "m = bytearray([10, 20, 30])\n",
    "print(m, \"Dtype:\", type(m))\n",
    "n = memoryview(l)\n",
    "print(n, \"Dtype:\", type(n))\n",
    "o = None\n",
    "print(o, \"Dtype:\", type(o))"
   ],
   "id": "d883471caa52099c",
   "outputs": [
    {
     "name": "stdout",
     "output_type": "stream",
     "text": [
      "10 Dtype: <class 'int'>\n",
      "2.3 Dtype: <class 'float'>\n",
      "True Dtype: <class 'bool'>\n",
      "True Dtype: <class 'str'>\n",
      "(1+2j) Dtype: <class 'complex'>\n",
      "[1, 2, 3] Dtype: <class 'list'>\n",
      "(1, 2, 3) Dtype: <class 'tuple'>\n",
      "range(1, 10, 2) Dtype: <class 'range'>\n",
      "{1, 2, 3} Dtype: <class 'set'>\n",
      "frozenset({1, 2, 3}) Dtype: <class 'frozenset'>\n",
      "{'a': 1, 'b': 2, 'c': {1: 2, 2: 3}} Dtype: <class 'dict'>\n",
      "b'subhan ali' Dtype: <class 'bytes'>\n",
      "bytearray(b'\\n\\x14\\x1e') Dtype: <class 'bytearray'>\n",
      "<memory at 0x7fc5c53ed000> Dtype: <class 'memoryview'>\n",
      "None Dtype: <class 'NoneType'>\n"
     ]
    }
   ],
   "execution_count": 102
  },
  {
   "metadata": {
    "ExecuteTime": {
     "end_time": "2025-06-30T07:53:35.279213Z",
     "start_time": "2025-06-30T07:53:35.238479Z"
    }
   },
   "cell_type": "code",
   "source": [
    "# so data types are just classes in python\n",
    "# creating custom data type in python\n",
    "class my_data_type:\n",
    "    def __init__(self):\n",
    "        pass\n",
    "\n",
    "my_obj = my_data_type()\n",
    "type(my_obj)"
   ],
   "id": "4653be9002e987de",
   "outputs": [
    {
     "data": {
      "text/plain": [
       "__main__.my_data_type"
      ]
     },
     "execution_count": 103,
     "metadata": {},
     "output_type": "execute_result"
    }
   ],
   "execution_count": 103
  },
  {
   "metadata": {
    "ExecuteTime": {
     "end_time": "2025-06-30T07:53:38.792761Z",
     "start_time": "2025-06-30T07:53:38.773258Z"
    }
   },
   "cell_type": "code",
   "source": [
    "# what is __main__ ?\n",
    "# It is a python global variable which is built-in and created when executing a script.\n",
    "# The main purpose of this variable is to make sure that python script is being launched only when called directly not when imported into another package or project. it is used in the following pattern:\n",
    "# if __name__ == '__main__':\n",
    "#     main()"
   ],
   "id": "b8128f86a8519e79",
   "outputs": [],
   "execution_count": 105
  },
  {
   "metadata": {
    "ExecuteTime": {
     "end_time": "2025-06-30T07:53:45.561352Z",
     "start_time": "2025-06-30T07:53:45.532237Z"
    }
   },
   "cell_type": "code",
   "source": [
    "# python numbers\n",
    "# In python numbers are int, float and complex. They have no limit theoretically exept hardware limitations.\n",
    "# python castings:\n",
    "c1 = '1422'\n",
    "c2 = int(c1)\n",
    "print(f\"{c1}, {type(c1)}\\n{c2}, {type(c2)}\")\n",
    "d1 = 123.32\n",
    "d2 = int(d1)\n",
    "print(f\"{d1}, {type(d1)}\\n{d2}, {type(d2)}\")\n",
    "my_list = [1, 2, 3]\n",
    "my_tup = tuple(my_list)\n",
    "print(f\"{my_list}, {type(my_list)}\\n{my_tup}, {type(my_tup)}\")\n",
    "my_set = set(my_list)\n",
    "print(f\"{my_list}, {type(my_list)}\\n{my_set}, {type(my_set)}\")"
   ],
   "id": "7383bbfa96c565e7",
   "outputs": [
    {
     "name": "stdout",
     "output_type": "stream",
     "text": [
      "1422, <class 'str'>\n",
      "1422, <class 'int'>\n",
      "123.32, <class 'float'>\n",
      "123, <class 'int'>\n",
      "[1, 2, 3], <class 'list'>\n",
      "(1, 2, 3), <class 'tuple'>\n",
      "[1, 2, 3], <class 'list'>\n",
      "{1, 2, 3}, <class 'set'>\n"
     ]
    }
   ],
   "execution_count": 106
  },
  {
   "metadata": {
    "ExecuteTime": {
     "end_time": "2025-06-30T07:53:46.617835Z",
     "start_time": "2025-06-30T07:53:46.605833Z"
    }
   },
   "cell_type": "code",
   "source": [
    "# python strings:\n",
    "# python strings are immutable\n",
    "name = 'subhan ali'\n",
    "# name[0] = 'a' # will give error"
   ],
   "id": "536eb97f71fa0311",
   "outputs": [],
   "execution_count": 107
  },
  {
   "metadata": {
    "ExecuteTime": {
     "end_time": "2025-06-30T07:54:51.359486Z",
     "start_time": "2025-06-30T07:54:51.279318Z"
    }
   },
   "cell_type": "code",
   "source": [
    "# common methods\n",
    "my_string = 'Lorem ipsum dolor sit amet, consectetur adipiscing elit. Ut in elit eu sapien vehicula ultricies. Praesent sagittis libero a lectus venenatis, a maximus nunc ornare. Nam eget eros et neque lobortis hendrerit. Nullam leo leo, imperdiet at lectus sit amet, egestas posuere tellus. Nullam ex leo, molestie in ex vitae, aliquet mattis nisi. Vivamus euismod vulputate arcu ac rhoncus. Aenean laoreet leo arcu. In lacinia iaculis massa, sed porta magna maximus at. Sed sed ipsum enim. Donec in diam imperdiet, suscipit ante sed, vehicula est. Nullam placerat felis non elit fringilla, at rhoncus magna efficitur. Etiam nec leo aliquet, tempus enim vitae, dignissim lectus. Pellentesque at varius dui, sed maximus magna.'"
   ],
   "id": "e4e82b8bc7409c24",
   "outputs": [],
   "execution_count": 121
  },
  {
   "metadata": {
    "ExecuteTime": {
     "end_time": "2025-06-30T07:54:53.427500Z",
     "start_time": "2025-06-30T07:54:53.399603Z"
    }
   },
   "cell_type": "code",
   "source": "my_string.count('i')",
   "id": "c4d1c44a8c9cd747",
   "outputs": [
    {
     "data": {
      "text/plain": [
       "61"
      ]
     },
     "execution_count": 122,
     "metadata": {},
     "output_type": "execute_result"
    }
   ],
   "execution_count": 122
  },
  {
   "metadata": {
    "ExecuteTime": {
     "end_time": "2025-06-30T07:54:55.442773Z",
     "start_time": "2025-06-30T07:54:55.402843Z"
    }
   },
   "cell_type": "code",
   "source": "my_string.capitalize()",
   "id": "663bda53c8acdeb2",
   "outputs": [
    {
     "data": {
      "text/plain": [
       "'Lorem ipsum dolor sit amet, consectetur adipiscing elit. ut in elit eu sapien vehicula ultricies. praesent sagittis libero a lectus venenatis, a maximus nunc ornare. nam eget eros et neque lobortis hendrerit. nullam leo leo, imperdiet at lectus sit amet, egestas posuere tellus. nullam ex leo, molestie in ex vitae, aliquet mattis nisi. vivamus euismod vulputate arcu ac rhoncus. aenean laoreet leo arcu. in lacinia iaculis massa, sed porta magna maximus at. sed sed ipsum enim. donec in diam imperdiet, suscipit ante sed, vehicula est. nullam placerat felis non elit fringilla, at rhoncus magna efficitur. etiam nec leo aliquet, tempus enim vitae, dignissim lectus. pellentesque at varius dui, sed maximus magna.'"
      ]
     },
     "execution_count": 123,
     "metadata": {},
     "output_type": "execute_result"
    }
   ],
   "execution_count": 123
  },
  {
   "metadata": {
    "ExecuteTime": {
     "end_time": "2025-06-30T07:54:56.227783Z",
     "start_time": "2025-06-30T07:54:56.206398Z"
    }
   },
   "cell_type": "code",
   "source": "my_string.upper()",
   "id": "15bf6f7f559303f9",
   "outputs": [
    {
     "data": {
      "text/plain": [
       "'LOREM IPSUM DOLOR SIT AMET, CONSECTETUR ADIPISCING ELIT. UT IN ELIT EU SAPIEN VEHICULA ULTRICIES. PRAESENT SAGITTIS LIBERO A LECTUS VENENATIS, A MAXIMUS NUNC ORNARE. NAM EGET EROS ET NEQUE LOBORTIS HENDRERIT. NULLAM LEO LEO, IMPERDIET AT LECTUS SIT AMET, EGESTAS POSUERE TELLUS. NULLAM EX LEO, MOLESTIE IN EX VITAE, ALIQUET MATTIS NISI. VIVAMUS EUISMOD VULPUTATE ARCU AC RHONCUS. AENEAN LAOREET LEO ARCU. IN LACINIA IACULIS MASSA, SED PORTA MAGNA MAXIMUS AT. SED SED IPSUM ENIM. DONEC IN DIAM IMPERDIET, SUSCIPIT ANTE SED, VEHICULA EST. NULLAM PLACERAT FELIS NON ELIT FRINGILLA, AT RHONCUS MAGNA EFFICITUR. ETIAM NEC LEO ALIQUET, TEMPUS ENIM VITAE, DIGNISSIM LECTUS. PELLENTESQUE AT VARIUS DUI, SED MAXIMUS MAGNA.'"
      ]
     },
     "execution_count": 124,
     "metadata": {},
     "output_type": "execute_result"
    }
   ],
   "execution_count": 124
  },
  {
   "metadata": {
    "ExecuteTime": {
     "end_time": "2025-06-30T07:54:57.162131Z",
     "start_time": "2025-06-30T07:54:57.143566Z"
    }
   },
   "cell_type": "code",
   "source": "my_string.endswith('a.')",
   "id": "a3591635fc3af164",
   "outputs": [
    {
     "data": {
      "text/plain": [
       "True"
      ]
     },
     "execution_count": 125,
     "metadata": {},
     "output_type": "execute_result"
    }
   ],
   "execution_count": 125
  },
  {
   "metadata": {
    "ExecuteTime": {
     "end_time": "2025-06-30T07:54:57.915950Z",
     "start_time": "2025-06-30T07:54:57.895592Z"
    }
   },
   "cell_type": "code",
   "source": "my_string.find('dolor')",
   "id": "2364b42dea5d59e2",
   "outputs": [
    {
     "data": {
      "text/plain": [
       "12"
      ]
     },
     "execution_count": 126,
     "metadata": {},
     "output_type": "execute_result"
    }
   ],
   "execution_count": 126
  },
  {
   "metadata": {
    "ExecuteTime": {
     "end_time": "2025-06-30T07:54:58.760965Z",
     "start_time": "2025-06-30T07:54:58.738361Z"
    }
   },
   "cell_type": "code",
   "source": "my_string.isascii()",
   "id": "87c097b24ecfe935",
   "outputs": [
    {
     "data": {
      "text/plain": [
       "True"
      ]
     },
     "execution_count": 127,
     "metadata": {},
     "output_type": "execute_result"
    }
   ],
   "execution_count": 127
  },
  {
   "metadata": {
    "ExecuteTime": {
     "end_time": "2025-06-30T07:54:59.733283Z",
     "start_time": "2025-06-30T07:54:59.709542Z"
    }
   },
   "cell_type": "code",
   "source": "my_string.isalnum()",
   "id": "186eed095b851a92",
   "outputs": [
    {
     "data": {
      "text/plain": [
       "False"
      ]
     },
     "execution_count": 128,
     "metadata": {},
     "output_type": "execute_result"
    }
   ],
   "execution_count": 128
  },
  {
   "metadata": {
    "ExecuteTime": {
     "end_time": "2025-06-30T07:55:00.735872Z",
     "start_time": "2025-06-30T07:55:00.708288Z"
    }
   },
   "cell_type": "code",
   "source": "my_string.isalpha()",
   "id": "a386ced519777aa7",
   "outputs": [
    {
     "data": {
      "text/plain": [
       "False"
      ]
     },
     "execution_count": 129,
     "metadata": {},
     "output_type": "execute_result"
    }
   ],
   "execution_count": 129
  },
  {
   "metadata": {
    "ExecuteTime": {
     "end_time": "2025-06-30T07:55:01.832345Z",
     "start_time": "2025-06-30T07:55:01.806473Z"
    }
   },
   "cell_type": "code",
   "source": "my_string.isdecimal()",
   "id": "1c9073f4ba0ddfb2",
   "outputs": [
    {
     "data": {
      "text/plain": [
       "False"
      ]
     },
     "execution_count": 130,
     "metadata": {},
     "output_type": "execute_result"
    }
   ],
   "execution_count": 130
  },
  {
   "metadata": {
    "ExecuteTime": {
     "end_time": "2025-06-30T07:55:03.204900Z",
     "start_time": "2025-06-30T07:55:03.175353Z"
    }
   },
   "cell_type": "code",
   "source": "my_string.translate(str.maketrans({'a': '000'}))",
   "id": "af32697355c7296d",
   "outputs": [
    {
     "data": {
      "text/plain": [
       "'Lorem ipsum dolor sit 000met, consectetur 000dipiscing elit. Ut in elit eu s000pien vehicul000 ultricies. Pr000esent s000gittis libero 000 lectus venen000tis, 000 m000ximus nunc orn000re. N000m eget eros et neque lobortis hendrerit. Null000m leo leo, imperdiet 000t lectus sit 000met, egest000s posuere tellus. Null000m ex leo, molestie in ex vit000e, 000liquet m000ttis nisi. Viv000mus euismod vulput000te 000rcu 000c rhoncus. Aene000n l000oreet leo 000rcu. In l000cini000 i000culis m000ss000, sed port000 m000gn000 m000ximus 000t. Sed sed ipsum enim. Donec in di000m imperdiet, suscipit 000nte sed, vehicul000 est. Null000m pl000cer000t felis non elit fringill000, 000t rhoncus m000gn000 efficitur. Eti000m nec leo 000liquet, tempus enim vit000e, dignissim lectus. Pellentesque 000t v000rius dui, sed m000ximus m000gn000.'"
      ]
     },
     "execution_count": 131,
     "metadata": {},
     "output_type": "execute_result"
    }
   ],
   "execution_count": 131
  },
  {
   "metadata": {
    "ExecuteTime": {
     "end_time": "2025-06-30T07:55:04.280547Z",
     "start_time": "2025-06-30T07:55:04.249316Z"
    }
   },
   "cell_type": "code",
   "source": "my_string",
   "id": "acfd9d70f7085250",
   "outputs": [
    {
     "data": {
      "text/plain": [
       "'Lorem ipsum dolor sit amet, consectetur adipiscing elit. Ut in elit eu sapien vehicula ultricies. Praesent sagittis libero a lectus venenatis, a maximus nunc ornare. Nam eget eros et neque lobortis hendrerit. Nullam leo leo, imperdiet at lectus sit amet, egestas posuere tellus. Nullam ex leo, molestie in ex vitae, aliquet mattis nisi. Vivamus euismod vulputate arcu ac rhoncus. Aenean laoreet leo arcu. In lacinia iaculis massa, sed porta magna maximus at. Sed sed ipsum enim. Donec in diam imperdiet, suscipit ante sed, vehicula est. Nullam placerat felis non elit fringilla, at rhoncus magna efficitur. Etiam nec leo aliquet, tempus enim vitae, dignissim lectus. Pellentesque at varius dui, sed maximus magna.'"
      ]
     },
     "execution_count": 132,
     "metadata": {},
     "output_type": "execute_result"
    }
   ],
   "execution_count": 132
  },
  {
   "metadata": {
    "ExecuteTime": {
     "end_time": "2025-06-30T07:55:05.700319Z",
     "start_time": "2025-06-30T07:55:05.675569Z"
    }
   },
   "cell_type": "code",
   "source": "name",
   "id": "c9f1173b70b9b7e8",
   "outputs": [
    {
     "data": {
      "text/plain": [
       "'subhan ali'"
      ]
     },
     "execution_count": 133,
     "metadata": {},
     "output_type": "execute_result"
    }
   ],
   "execution_count": 133
  },
  {
   "metadata": {
    "ExecuteTime": {
     "end_time": "2025-06-30T07:55:06.838799Z",
     "start_time": "2025-06-30T07:55:06.812317Z"
    }
   },
   "cell_type": "code",
   "source": "name[:2]",
   "id": "125c7746f3753846",
   "outputs": [
    {
     "data": {
      "text/plain": [
       "'su'"
      ]
     },
     "execution_count": 134,
     "metadata": {},
     "output_type": "execute_result"
    }
   ],
   "execution_count": 134
  },
  {
   "metadata": {
    "ExecuteTime": {
     "end_time": "2025-06-30T07:55:07.889007Z",
     "start_time": "2025-06-30T07:55:07.867064Z"
    }
   },
   "cell_type": "code",
   "source": "name[::-1]",
   "id": "24b0bbc237131641",
   "outputs": [
    {
     "data": {
      "text/plain": [
       "'ila nahbus'"
      ]
     },
     "execution_count": 135,
     "metadata": {},
     "output_type": "execute_result"
    }
   ],
   "execution_count": 135
  },
  {
   "metadata": {
    "ExecuteTime": {
     "end_time": "2025-06-30T07:55:08.886304Z",
     "start_time": "2025-06-30T07:55:08.860394Z"
    }
   },
   "cell_type": "code",
   "source": "name[1:4:2]",
   "id": "27a448409ef786cf",
   "outputs": [
    {
     "data": {
      "text/plain": [
       "'uh'"
      ]
     },
     "execution_count": 136,
     "metadata": {},
     "output_type": "execute_result"
    }
   ],
   "execution_count": 136
  },
  {
   "metadata": {
    "ExecuteTime": {
     "end_time": "2025-06-30T07:55:09.952188Z",
     "start_time": "2025-06-30T07:55:09.916396Z"
    }
   },
   "cell_type": "code",
   "source": "name[4:1:-1]",
   "id": "7bf689f5687cdaed",
   "outputs": [
    {
     "data": {
      "text/plain": [
       "'ahb'"
      ]
     },
     "execution_count": 137,
     "metadata": {},
     "output_type": "execute_result"
    }
   ],
   "execution_count": 137
  },
  {
   "metadata": {
    "ExecuteTime": {
     "end_time": "2025-06-30T07:55:10.906917Z",
     "start_time": "2025-06-30T07:55:10.879143Z"
    }
   },
   "cell_type": "code",
   "source": [
    "# python arrays vs lists\n",
    "import array\n",
    "\n",
    "arr = array.array('i', [1, 2, 3])\n",
    "arr\n"
   ],
   "id": "499a0558cdbc36f9",
   "outputs": [
    {
     "data": {
      "text/plain": [
       "array('i', [1, 2, 3])"
      ]
     },
     "execution_count": 138,
     "metadata": {},
     "output_type": "execute_result"
    }
   ],
   "execution_count": 138
  },
  {
   "metadata": {
    "ExecuteTime": {
     "end_time": "2025-06-30T07:55:11.890500Z",
     "start_time": "2025-06-30T07:55:11.856894Z"
    }
   },
   "cell_type": "code",
   "source": [
    "arr.append(4)\n",
    "arr.extend([5, 6])\n",
    "arr.insert(0, 0)\n",
    "arr.remove(3)\n",
    "arr.pop()\n",
    "print(arr.index(2))\n",
    "print(arr.count(1))\n",
    "arr.reverse()\n",
    "print(arr.tolist())"
   ],
   "id": "f6af3ae6c1a35920",
   "outputs": [
    {
     "name": "stdout",
     "output_type": "stream",
     "text": [
      "2\n",
      "1\n",
      "[5, 4, 2, 1, 0]\n"
     ]
    }
   ],
   "execution_count": 139
  },
  {
   "metadata": {
    "ExecuteTime": {
     "end_time": "2025-06-30T07:59:17.260628Z",
     "start_time": "2025-06-30T07:59:17.202271Z"
    }
   },
   "cell_type": "code",
   "source": [
    "# sets and frozen sets\n",
    "my_set = set()\n",
    "# adding an element\n",
    "my_set.add(1)\n",
    "my_set.add(2)\n",
    "my_set.add(3)\n",
    "my_set.add(4)\n",
    "my_set.add(5)\n",
    "my_set"
   ],
   "id": "53b5b9ca63aacfea",
   "outputs": [
    {
     "data": {
      "text/plain": [
       "{1, 2, 3, 4, 5}"
      ]
     },
     "execution_count": 2,
     "metadata": {},
     "output_type": "execute_result"
    }
   ],
   "execution_count": 2
  },
  {
   "metadata": {
    "ExecuteTime": {
     "end_time": "2025-06-30T07:59:18.490736Z",
     "start_time": "2025-06-30T07:59:18.462498Z"
    }
   },
   "cell_type": "code",
   "source": [
    "# removing an element\n",
    "my_set.remove(3)\n",
    "my_set"
   ],
   "id": "2b0df066f45de8a",
   "outputs": [
    {
     "data": {
      "text/plain": [
       "{1, 2, 4, 5}"
      ]
     },
     "execution_count": 3,
     "metadata": {},
     "output_type": "execute_result"
    }
   ],
   "execution_count": 3
  },
  {
   "metadata": {
    "ExecuteTime": {
     "end_time": "2025-06-30T07:59:19.842321Z",
     "start_time": "2025-06-30T07:59:19.807366Z"
    }
   },
   "cell_type": "code",
   "source": [
    "# remove only if present?\n",
    "print(\"before: \", my_set)\n",
    "# my_set.remove(100) # will give error\n",
    "my_set.discard(100)\n",
    "print(\"after: \", my_set)"
   ],
   "id": "19e599de5d58cf6",
   "outputs": [
    {
     "name": "stdout",
     "output_type": "stream",
     "text": [
      "before:  {1, 2, 4, 5}\n",
      "after:  {1, 2, 4, 5}\n"
     ]
    }
   ],
   "execution_count": 4
  },
  {
   "metadata": {
    "ExecuteTime": {
     "end_time": "2025-06-30T07:59:21.868334Z",
     "start_time": "2025-06-30T07:59:21.832700Z"
    }
   },
   "cell_type": "code",
   "source": [
    "# remove any element from the set\n",
    "elem = True\n",
    "while elem:\n",
    "    try:\n",
    "        elem = my_set.pop()\n",
    "        print(elem)\n",
    "    except Exception as e:\n",
    "        print('This error occured: ', e)\n",
    "        break\n",
    "\n",
    "# remove until keyerror\n",
    "# .clear() does the same"
   ],
   "id": "fb923ecef5141155",
   "outputs": [
    {
     "name": "stdout",
     "output_type": "stream",
     "text": [
      "1\n",
      "2\n",
      "4\n",
      "5\n",
      "This error occured:  'pop from an empty set'\n"
     ]
    }
   ],
   "execution_count": 5
  },
  {
   "metadata": {
    "ExecuteTime": {
     "end_time": "2025-06-30T07:59:26.379241Z",
     "start_time": "2025-06-30T07:59:26.342815Z"
    }
   },
   "cell_type": "code",
   "source": [
    "my_set1 = {1, 2, 3, 4, 5}\n",
    "my_set2 = {6, 7, 8, 9, 10}\n",
    "my_set1.update(my_set2)\n",
    "my_set1"
   ],
   "id": "96b94fb75b65e7d",
   "outputs": [
    {
     "data": {
      "text/plain": [
       "{1, 2, 3, 4, 5, 6, 7, 8, 9, 10}"
      ]
     },
     "execution_count": 6,
     "metadata": {},
     "output_type": "execute_result"
    }
   ],
   "execution_count": 6
  },
  {
   "metadata": {
    "ExecuteTime": {
     "end_time": "2025-06-30T07:59:27.931663Z",
     "start_time": "2025-06-30T07:59:27.899840Z"
    }
   },
   "cell_type": "code",
   "source": "my_set1.issubset(my_set2)",
   "id": "21604971cd2a5fd2",
   "outputs": [
    {
     "data": {
      "text/plain": [
       "False"
      ]
     },
     "execution_count": 7,
     "metadata": {},
     "output_type": "execute_result"
    }
   ],
   "execution_count": 7
  },
  {
   "metadata": {
    "ExecuteTime": {
     "end_time": "2025-06-30T07:59:29.056691Z",
     "start_time": "2025-06-30T07:59:29.021852Z"
    }
   },
   "cell_type": "code",
   "source": "my_set1.issuperset(my_set2)",
   "id": "1ea724c4bd3b6908",
   "outputs": [
    {
     "data": {
      "text/plain": [
       "True"
      ]
     },
     "execution_count": 8,
     "metadata": {},
     "output_type": "execute_result"
    }
   ],
   "execution_count": 8
  },
  {
   "metadata": {
    "ExecuteTime": {
     "end_time": "2025-06-30T07:59:29.966718Z",
     "start_time": "2025-06-30T07:59:29.945451Z"
    }
   },
   "cell_type": "code",
   "source": [
    "my_set1 = {1, 2, 3, 4, 5}\n",
    "my_set2 = {6, 7, 8, 9, 10}\n",
    "my_set1, my_set2"
   ],
   "id": "8d7a9de1cbcb1908",
   "outputs": [
    {
     "data": {
      "text/plain": [
       "({1, 2, 3, 4, 5}, {6, 7, 8, 9, 10})"
      ]
     },
     "execution_count": 9,
     "metadata": {},
     "output_type": "execute_result"
    }
   ],
   "execution_count": 9
  },
  {
   "metadata": {
    "ExecuteTime": {
     "end_time": "2025-06-30T07:59:31.397499Z",
     "start_time": "2025-06-30T07:59:31.381130Z"
    }
   },
   "cell_type": "code",
   "source": [
    "my_set1.union(my_set2) # does not update but return\n",
    "# my_set1"
   ],
   "id": "a9770b05bcd35e84",
   "outputs": [
    {
     "data": {
      "text/plain": [
       "{1, 2, 3, 4, 5, 6, 7, 8, 9, 10}"
      ]
     },
     "execution_count": 10,
     "metadata": {},
     "output_type": "execute_result"
    }
   ],
   "execution_count": 10
  },
  {
   "metadata": {
    "ExecuteTime": {
     "end_time": "2025-06-30T07:59:32.919549Z",
     "start_time": "2025-06-30T07:59:32.875439Z"
    }
   },
   "cell_type": "code",
   "source": "my_set1.intersection(my_set2) # does not update but return",
   "id": "8bb28dc9d91132a6",
   "outputs": [
    {
     "data": {
      "text/plain": [
       "set()"
      ]
     },
     "execution_count": 11,
     "metadata": {},
     "output_type": "execute_result"
    }
   ],
   "execution_count": 11
  },
  {
   "metadata": {
    "ExecuteTime": {
     "end_time": "2025-06-30T07:59:35.221147Z",
     "start_time": "2025-06-30T07:59:35.173147Z"
    }
   },
   "cell_type": "code",
   "source": "my_set1.difference(my_set2) # does not update but return a new set",
   "id": "49d6c6727fcd7207",
   "outputs": [
    {
     "data": {
      "text/plain": [
       "{1, 2, 3, 4, 5}"
      ]
     },
     "execution_count": 12,
     "metadata": {},
     "output_type": "execute_result"
    }
   ],
   "execution_count": 12
  },
  {
   "metadata": {
    "ExecuteTime": {
     "end_time": "2025-06-30T07:59:37.217456Z",
     "start_time": "2025-06-30T07:59:37.188848Z"
    }
   },
   "cell_type": "code",
   "source": "my_set1.copy() # return a new copy",
   "id": "b12c8ed90daf3ade",
   "outputs": [
    {
     "data": {
      "text/plain": [
       "{1, 2, 3, 4, 5}"
      ]
     },
     "execution_count": 13,
     "metadata": {},
     "output_type": "execute_result"
    }
   ],
   "execution_count": 13
  },
  {
   "metadata": {
    "ExecuteTime": {
     "end_time": "2025-06-30T07:59:39.039605Z",
     "start_time": "2025-06-30T07:59:39.006416Z"
    }
   },
   "cell_type": "code",
   "source": [
    "# FROZEN SETS\n",
    "my_set1"
   ],
   "id": "969f9b92b5204ca2",
   "outputs": [
    {
     "data": {
      "text/plain": [
       "{1, 2, 3, 4, 5}"
      ]
     },
     "execution_count": 14,
     "metadata": {},
     "output_type": "execute_result"
    }
   ],
   "execution_count": 14
  },
  {
   "metadata": {
    "ExecuteTime": {
     "end_time": "2025-06-30T07:59:40.525023Z",
     "start_time": "2025-06-30T07:59:40.507185Z"
    }
   },
   "cell_type": "code",
   "source": "my_frozen_set1 = frozenset(my_set1)",
   "id": "74d93f8adfca22c0",
   "outputs": [],
   "execution_count": 15
  },
  {
   "metadata": {
    "ExecuteTime": {
     "end_time": "2025-06-30T07:59:41.660741Z",
     "start_time": "2025-06-30T07:59:41.641549Z"
    }
   },
   "cell_type": "code",
   "source": "my_frozen_set1",
   "id": "8841dc1ce0bb8381",
   "outputs": [
    {
     "data": {
      "text/plain": [
       "frozenset({1, 2, 3, 4, 5})"
      ]
     },
     "execution_count": 16,
     "metadata": {},
     "output_type": "execute_result"
    }
   ],
   "execution_count": 16
  },
  {
   "metadata": {
    "ExecuteTime": {
     "end_time": "2025-06-30T07:59:43.508967Z",
     "start_time": "2025-06-30T07:59:43.498391Z"
    }
   },
   "cell_type": "code",
   "source": "",
   "id": "2123bb5548f9dad9",
   "outputs": [],
   "execution_count": null
  },
  {
   "metadata": {
    "ExecuteTime": {
     "end_time": "2025-06-30T07:59:44.223700Z",
     "start_time": "2025-06-30T07:59:44.201134Z"
    }
   },
   "cell_type": "code",
   "source": "my_frozen_set1",
   "id": "c50419da1d3f35a0",
   "outputs": [
    {
     "data": {
      "text/plain": [
       "frozenset({1, 2, 3, 4, 5})"
      ]
     },
     "execution_count": 17,
     "metadata": {},
     "output_type": "execute_result"
    }
   ],
   "execution_count": 17
  },
  {
   "metadata": {
    "ExecuteTime": {
     "end_time": "2025-06-30T07:59:45.220411Z",
     "start_time": "2025-06-30T07:59:45.192087Z"
    }
   },
   "cell_type": "code",
   "source": "# my_frozen_set1.add(10) # will give error",
   "id": "9970257f22b651d",
   "outputs": [],
   "execution_count": 18
  },
  {
   "metadata": {
    "ExecuteTime": {
     "end_time": "2025-06-30T07:59:48.174751Z",
     "start_time": "2025-06-30T07:59:48.151214Z"
    }
   },
   "cell_type": "code",
   "source": "my_frozen_set1",
   "id": "1d119b21464c5f1a",
   "outputs": [
    {
     "data": {
      "text/plain": [
       "frozenset({1, 2, 3, 4, 5})"
      ]
     },
     "execution_count": 19,
     "metadata": {},
     "output_type": "execute_result"
    }
   ],
   "execution_count": 19
  },
  {
   "metadata": {
    "ExecuteTime": {
     "end_time": "2025-06-30T07:59:49.186157Z",
     "start_time": "2025-06-30T07:59:49.152042Z"
    }
   },
   "cell_type": "code",
   "source": [
    "# copying a frozen set\n",
    "new_frozen_set1 = my_frozen_set1.copy()\n",
    "new_frozen_set1"
   ],
   "id": "9faa78f6b7c9b3",
   "outputs": [
    {
     "data": {
      "text/plain": [
       "frozenset({1, 2, 3, 4, 5})"
      ]
     },
     "execution_count": 20,
     "metadata": {},
     "output_type": "execute_result"
    }
   ],
   "execution_count": 20
  },
  {
   "metadata": {
    "ExecuteTime": {
     "end_time": "2025-06-30T07:59:50.543528Z",
     "start_time": "2025-06-30T07:59:50.521230Z"
    }
   },
   "cell_type": "code",
   "source": [
    "new_frozen_set2 = frozenset([3, 6, 7, 8, 9])\n",
    "new_frozen_set2"
   ],
   "id": "9c131de5abec822d",
   "outputs": [
    {
     "data": {
      "text/plain": [
       "frozenset({3, 6, 7, 8, 9})"
      ]
     },
     "execution_count": 21,
     "metadata": {},
     "output_type": "execute_result"
    }
   ],
   "execution_count": 21
  },
  {
   "metadata": {
    "ExecuteTime": {
     "end_time": "2025-06-30T07:59:51.856096Z",
     "start_time": "2025-06-30T07:59:51.832623Z"
    }
   },
   "cell_type": "code",
   "source": "new_frozen_set1.union(my_set1), new_frozen_set1.union(new_frozen_set2)",
   "id": "1d99234a62126d2a",
   "outputs": [
    {
     "data": {
      "text/plain": [
       "(frozenset({1, 2, 3, 4, 5}), frozenset({1, 2, 3, 4, 5, 6, 7, 8, 9}))"
      ]
     },
     "execution_count": 22,
     "metadata": {},
     "output_type": "execute_result"
    }
   ],
   "execution_count": 22
  },
  {
   "metadata": {
    "ExecuteTime": {
     "end_time": "2025-06-30T07:59:53.518769Z",
     "start_time": "2025-06-30T07:59:53.495895Z"
    }
   },
   "cell_type": "code",
   "source": "new_frozen_set1.intersection(my_set1), new_frozen_set1.intersection(new_frozen_set2)",
   "id": "7cab92eed864c137",
   "outputs": [
    {
     "data": {
      "text/plain": [
       "(frozenset({1, 2, 3, 4, 5}), frozenset({3}))"
      ]
     },
     "execution_count": 23,
     "metadata": {},
     "output_type": "execute_result"
    }
   ],
   "execution_count": 23
  },
  {
   "metadata": {
    "ExecuteTime": {
     "end_time": "2025-06-30T07:59:54.590767Z",
     "start_time": "2025-06-30T07:59:54.571545Z"
    }
   },
   "cell_type": "code",
   "source": "new_frozen_set1.difference(my_set1), new_frozen_set1.difference(new_frozen_set2)",
   "id": "be82b050c48ebff4",
   "outputs": [
    {
     "data": {
      "text/plain": [
       "(frozenset(), frozenset({1, 2, 4, 5}))"
      ]
     },
     "execution_count": 24,
     "metadata": {},
     "output_type": "execute_result"
    }
   ],
   "execution_count": 24
  },
  {
   "metadata": {
    "ExecuteTime": {
     "end_time": "2025-06-30T07:59:55.736440Z",
     "start_time": "2025-06-30T07:59:55.712725Z"
    }
   },
   "cell_type": "code",
   "source": "new_frozen_set1.symmetric_difference(my_set1), new_frozen_set1.symmetric_difference(new_frozen_set2)",
   "id": "8fca4d1b4cc40258",
   "outputs": [
    {
     "data": {
      "text/plain": [
       "(frozenset(), frozenset({1, 2, 4, 5, 6, 7, 8, 9}))"
      ]
     },
     "execution_count": 25,
     "metadata": {},
     "output_type": "execute_result"
    }
   ],
   "execution_count": 25
  },
  {
   "metadata": {},
   "cell_type": "markdown",
   "source": "### Custom List Implementation",
   "id": "f2ba1cc32ec911e7"
  },
  {
   "metadata": {
    "ExecuteTime": {
     "end_time": "2025-06-30T07:59:56.888725Z",
     "start_time": "2025-06-30T07:59:56.842855Z"
    }
   },
   "cell_type": "code",
   "source": [
    "class my_custom_list:\n",
    "    def __init__(self, data=[]):\n",
    "        if data and isinstance(data, list):\n",
    "            self.__data = data\n",
    "        else:\n",
    "            self.__data = []\n",
    "\n",
    "    def __eq__(self, other):\n",
    "        return self.__data == other.__data\n",
    "\n",
    "    def __ne__(self, other):\n",
    "        return self.__data != other.__data\n",
    "\n",
    "    def __repr__(self):\n",
    "        return f\"class: my_custom_list\\nData: {self.__data}\"\n",
    "\n",
    "    def __str__(self):\n",
    "        return str(self.__data)\n",
    "\n",
    "    def __add__(self, num):\n",
    "        if isinstance(num, int) or isinstance(num, float):\n",
    "            return self.__data + num\n",
    "        return self.__data\n",
    "\n",
    "    def __sub__(self, num):\n",
    "        if isinstance(num, int) or isinstance(num, float):\n",
    "            return self.__data - num\n",
    "        return self.__data\n",
    "\n",
    "    def __mul__(self, num):\n",
    "        if isinstance(num, int) or isinstance(num, float):\n",
    "            return self.__data * num\n",
    "        return self.__data\n",
    "\n",
    "    def __len__(self):\n",
    "        return len(self.__data)\n",
    "\n",
    "    def __getitem__(self, key):\n",
    "        if not(key < len(self.__data)):\n",
    "            return False\n",
    "        return self.__data[key]\n",
    "\n",
    "    def __setitem__(self, key, value):\n",
    "        if not(key < len(self.__data)):\n",
    "            return False\n",
    "        self.__data[key] = value\n",
    "        return True\n",
    "\n",
    "    def __delitem__(self, key):\n",
    "        if not(key < len(self.__data)):\n",
    "            return False\n",
    "        del self.__data[key]\n",
    "        return True\n",
    "\n",
    "    def __iter__(self):\n",
    "        return iter(self.__data)\n",
    "\n",
    "    def __contains__(self, value):\n",
    "        return value in self.__data\n",
    "\n",
    "    def append(self, value):\n",
    "        self.__data.append(value)\n",
    "        return True"
   ],
   "id": "f18f921250233125",
   "outputs": [],
   "execution_count": 26
  },
  {
   "metadata": {
    "ExecuteTime": {
     "end_time": "2025-06-30T07:59:58.407107Z",
     "start_time": "2025-06-30T07:59:58.391125Z"
    }
   },
   "cell_type": "code",
   "source": "m_list1 = my_custom_list()",
   "id": "51f7f4ef9e7ef5b2",
   "outputs": [],
   "execution_count": 27
  },
  {
   "metadata": {
    "ExecuteTime": {
     "end_time": "2025-06-30T07:59:59.567011Z",
     "start_time": "2025-06-30T07:59:59.531782Z"
    }
   },
   "cell_type": "code",
   "source": [
    "m_list1.append(1)\n",
    "m_list1.append(2)\n",
    "m_list1.append(3)\n",
    "m_list1.append(4)\n",
    "m_list1.append(5)\n",
    "m_list1"
   ],
   "id": "11828c150ac86b5f",
   "outputs": [
    {
     "data": {
      "text/plain": [
       "class: my_custom_list\n",
       "Data: [1, 2, 3, 4, 5]"
      ]
     },
     "execution_count": 28,
     "metadata": {},
     "output_type": "execute_result"
    }
   ],
   "execution_count": 28
  },
  {
   "metadata": {
    "ExecuteTime": {
     "end_time": "2025-06-30T08:00:01.022682Z",
     "start_time": "2025-06-30T08:00:00.996687Z"
    }
   },
   "cell_type": "code",
   "source": "print(m_list1)",
   "id": "6bb3eaa3342beeea",
   "outputs": [
    {
     "name": "stdout",
     "output_type": "stream",
     "text": [
      "[1, 2, 3, 4, 5]\n"
     ]
    }
   ],
   "execution_count": 29
  },
  {
   "metadata": {
    "ExecuteTime": {
     "end_time": "2025-06-30T08:00:03.294753Z",
     "start_time": "2025-06-30T08:00:03.280793Z"
    }
   },
   "cell_type": "code",
   "source": "m_list2 = my_custom_list()",
   "id": "ef168bbfc6589531",
   "outputs": [],
   "execution_count": 30
  },
  {
   "metadata": {
    "ExecuteTime": {
     "end_time": "2025-06-30T08:00:04.058211Z",
     "start_time": "2025-06-30T08:00:04.018896Z"
    }
   },
   "cell_type": "code",
   "source": [
    "m_list2.append(1)\n",
    "m_list2.append(2)\n",
    "m_list2.append(3)\n",
    "m_list2.append(4)\n",
    "m_list2.append(5)\n",
    "m_list2"
   ],
   "id": "b0580744aa6f5b19",
   "outputs": [
    {
     "data": {
      "text/plain": [
       "class: my_custom_list\n",
       "Data: [1, 2, 3, 4, 5]"
      ]
     },
     "execution_count": 31,
     "metadata": {},
     "output_type": "execute_result"
    }
   ],
   "execution_count": 31
  },
  {
   "metadata": {
    "ExecuteTime": {
     "end_time": "2025-06-30T08:00:05.134289Z",
     "start_time": "2025-06-30T08:00:05.116077Z"
    }
   },
   "cell_type": "code",
   "source": "m_list1 == m_list2",
   "id": "a86212e2d1b86703",
   "outputs": [
    {
     "data": {
      "text/plain": [
       "True"
      ]
     },
     "execution_count": 32,
     "metadata": {},
     "output_type": "execute_result"
    }
   ],
   "execution_count": 32
  },
  {
   "metadata": {
    "ExecuteTime": {
     "end_time": "2025-06-30T08:00:06.522473Z",
     "start_time": "2025-06-30T08:00:06.510515Z"
    }
   },
   "cell_type": "code",
   "source": "del m_list2[1]",
   "id": "df50c08e4b298bba",
   "outputs": [],
   "execution_count": 33
  },
  {
   "metadata": {
    "ExecuteTime": {
     "end_time": "2025-06-30T08:00:07.683685Z",
     "start_time": "2025-06-30T08:00:07.666141Z"
    }
   },
   "cell_type": "code",
   "source": "m_list2",
   "id": "f0c9553541e3477a",
   "outputs": [
    {
     "data": {
      "text/plain": [
       "class: my_custom_list\n",
       "Data: [1, 3, 4, 5]"
      ]
     },
     "execution_count": 34,
     "metadata": {},
     "output_type": "execute_result"
    }
   ],
   "execution_count": 34
  },
  {
   "metadata": {
    "ExecuteTime": {
     "end_time": "2025-06-30T08:00:08.692450Z",
     "start_time": "2025-06-30T08:00:08.674385Z"
    }
   },
   "cell_type": "code",
   "source": "m_list1 == m_list2",
   "id": "222d2b5ee0470611",
   "outputs": [
    {
     "data": {
      "text/plain": [
       "False"
      ]
     },
     "execution_count": 35,
     "metadata": {},
     "output_type": "execute_result"
    }
   ],
   "execution_count": 35
  },
  {
   "metadata": {
    "ExecuteTime": {
     "end_time": "2025-06-30T08:00:09.855034Z",
     "start_time": "2025-06-30T08:00:09.835331Z"
    }
   },
   "cell_type": "code",
   "source": "m_list1 != m_list2",
   "id": "f3eb0da8b28b7f39",
   "outputs": [
    {
     "data": {
      "text/plain": [
       "True"
      ]
     },
     "execution_count": 36,
     "metadata": {},
     "output_type": "execute_result"
    }
   ],
   "execution_count": 36
  },
  {
   "metadata": {
    "ExecuteTime": {
     "end_time": "2025-06-30T08:00:11.006683Z",
     "start_time": "2025-06-30T08:00:10.984934Z"
    }
   },
   "cell_type": "code",
   "source": [
    "if 1 in m_list1:\n",
    "    print('yes')\n",
    "else:\n",
    "    print('no')"
   ],
   "id": "b5fb8b2ecbf4fdca",
   "outputs": [
    {
     "name": "stdout",
     "output_type": "stream",
     "text": [
      "yes\n"
     ]
    }
   ],
   "execution_count": 37
  },
  {
   "metadata": {
    "ExecuteTime": {
     "end_time": "2025-06-30T08:00:12.419041Z",
     "start_time": "2025-06-30T08:00:12.405807Z"
    }
   },
   "cell_type": "code",
   "source": [
    "for i in m_list1: # will work due to __iter__\n",
    "    print(i)\n"
   ],
   "id": "c929067994205b19",
   "outputs": [
    {
     "name": "stdout",
     "output_type": "stream",
     "text": [
      "1\n",
      "2\n",
      "3\n",
      "4\n",
      "5\n"
     ]
    }
   ],
   "execution_count": 38
  },
  {
   "metadata": {
    "ExecuteTime": {
     "end_time": "2025-06-30T08:00:14.626044Z",
     "start_time": "2025-06-30T08:00:14.615935Z"
    }
   },
   "cell_type": "code",
   "source": "",
   "id": "9d86820066b87b48",
   "outputs": [],
   "execution_count": null
  },
  {
   "metadata": {
    "ExecuteTime": {
     "end_time": "2025-06-30T08:00:15.344953Z",
     "start_time": "2025-06-30T08:00:15.327550Z"
    }
   },
   "cell_type": "code",
   "source": "",
   "id": "6b6ac4286c53d672",
   "outputs": [],
   "execution_count": null
  },
  {
   "metadata": {},
   "cell_type": "markdown",
   "source": "### Dictionnary - Implementation and Methods",
   "id": "61440799a4cf8792"
  },
  {
   "metadata": {
    "ExecuteTime": {
     "end_time": "2025-06-30T08:00:16.014222Z",
     "start_time": "2025-06-30T08:00:15.985484Z"
    }
   },
   "cell_type": "code",
   "source": "my_dict = dict()",
   "id": "a0f6b17bd3bb1eff",
   "outputs": [],
   "execution_count": 39
  },
  {
   "metadata": {
    "ExecuteTime": {
     "end_time": "2025-06-30T08:00:17.177429Z",
     "start_time": "2025-06-30T08:00:17.142500Z"
    }
   },
   "cell_type": "code",
   "source": [
    "my_dict['a'] = 1\n",
    "my_dict['b'] = 2\n",
    "my_dict['c'] = 3\n",
    "my_dict"
   ],
   "id": "3c4cc16983a221d0",
   "outputs": [
    {
     "data": {
      "text/plain": [
       "{'a': 1, 'b': 2, 'c': 3}"
      ]
     },
     "execution_count": 40,
     "metadata": {},
     "output_type": "execute_result"
    }
   ],
   "execution_count": 40
  },
  {
   "metadata": {
    "ExecuteTime": {
     "end_time": "2025-06-30T08:00:18.673617Z",
     "start_time": "2025-06-30T08:00:18.638975Z"
    }
   },
   "cell_type": "code",
   "source": "my_dict.clear()",
   "id": "7c63d6c30be30fc3",
   "outputs": [],
   "execution_count": 41
  },
  {
   "metadata": {
    "ExecuteTime": {
     "end_time": "2025-06-30T08:00:19.617699Z",
     "start_time": "2025-06-30T08:00:19.590925Z"
    }
   },
   "cell_type": "code",
   "source": "my_dict",
   "id": "166a766fd4ec93a2",
   "outputs": [
    {
     "data": {
      "text/plain": [
       "{}"
      ]
     },
     "execution_count": 42,
     "metadata": {},
     "output_type": "execute_result"
    }
   ],
   "execution_count": 42
  },
  {
   "metadata": {
    "ExecuteTime": {
     "end_time": "2025-06-30T08:00:21.054924Z",
     "start_time": "2025-06-30T08:00:21.042086Z"
    }
   },
   "cell_type": "code",
   "source": "my_dict.get('a')",
   "id": "5145a0e9989c2398",
   "outputs": [],
   "execution_count": 43
  },
  {
   "metadata": {
    "ExecuteTime": {
     "end_time": "2025-06-30T08:00:22.390245Z",
     "start_time": "2025-06-30T08:00:22.364941Z"
    }
   },
   "cell_type": "code",
   "source": [
    "my_dict['a'] = 1\n",
    "my_dict.get('a')"
   ],
   "id": "470e4faf35243968",
   "outputs": [
    {
     "data": {
      "text/plain": [
       "1"
      ]
     },
     "execution_count": 44,
     "metadata": {},
     "output_type": "execute_result"
    }
   ],
   "execution_count": 44
  },
  {
   "metadata": {
    "ExecuteTime": {
     "end_time": "2025-06-30T08:00:23.738377Z",
     "start_time": "2025-06-30T08:00:23.721466Z"
    }
   },
   "cell_type": "code",
   "source": [
    "keys = ['a', 'b', 'c', 'd']\n",
    "my_dict = my_dict.fromkeys(keys)"
   ],
   "id": "c1a42e2b9841478d",
   "outputs": [],
   "execution_count": 45
  },
  {
   "metadata": {
    "ExecuteTime": {
     "end_time": "2025-06-30T08:00:24.613814Z",
     "start_time": "2025-06-30T08:00:24.592949Z"
    }
   },
   "cell_type": "code",
   "source": "my_dict",
   "id": "d4278109ea462007",
   "outputs": [
    {
     "data": {
      "text/plain": [
       "{'a': None, 'b': None, 'c': None, 'd': None}"
      ]
     },
     "execution_count": 46,
     "metadata": {},
     "output_type": "execute_result"
    }
   ],
   "execution_count": 46
  },
  {
   "metadata": {
    "ExecuteTime": {
     "end_time": "2025-06-30T08:00:25.902831Z",
     "start_time": "2025-06-30T08:00:25.886871Z"
    }
   },
   "cell_type": "code",
   "source": "my_dict['a'] = ['test']",
   "id": "46bed57c031a092b",
   "outputs": [],
   "execution_count": 47
  },
  {
   "metadata": {
    "ExecuteTime": {
     "end_time": "2025-06-30T08:00:26.948583Z",
     "start_time": "2025-06-30T08:00:26.919035Z"
    }
   },
   "cell_type": "code",
   "source": "my_dict",
   "id": "e343a9c5590fcad9",
   "outputs": [
    {
     "data": {
      "text/plain": [
       "{'a': ['test'], 'b': None, 'c': None, 'd': None}"
      ]
     },
     "execution_count": 48,
     "metadata": {},
     "output_type": "execute_result"
    }
   ],
   "execution_count": 48
  },
  {
   "metadata": {
    "ExecuteTime": {
     "end_time": "2025-06-30T08:00:28.037481Z",
     "start_time": "2025-06-30T08:00:28.014756Z"
    }
   },
   "cell_type": "code",
   "source": [
    "my_dict2 = dict()\n",
    "my_dict2 = my_dict2.fromkeys(keys, [])"
   ],
   "id": "46fb120e60bf0b31",
   "outputs": [],
   "execution_count": 49
  },
  {
   "metadata": {
    "ExecuteTime": {
     "end_time": "2025-06-30T08:00:29.119160Z",
     "start_time": "2025-06-30T08:00:29.102387Z"
    }
   },
   "cell_type": "code",
   "source": "my_dict2",
   "id": "3580722422da4d2d",
   "outputs": [
    {
     "data": {
      "text/plain": [
       "{'a': [], 'b': [], 'c': [], 'd': []}"
      ]
     },
     "execution_count": 50,
     "metadata": {},
     "output_type": "execute_result"
    }
   ],
   "execution_count": 50
  },
  {
   "metadata": {
    "ExecuteTime": {
     "end_time": "2025-06-30T08:00:30.482660Z",
     "start_time": "2025-06-30T08:00:30.435591Z"
    }
   },
   "cell_type": "code",
   "source": "my_dict2['a'].append(1)",
   "id": "a7a3527036120153",
   "outputs": [],
   "execution_count": 51
  },
  {
   "metadata": {
    "ExecuteTime": {
     "end_time": "2025-06-30T08:00:31.760321Z",
     "start_time": "2025-06-30T08:00:31.676152Z"
    }
   },
   "cell_type": "code",
   "source": "my_dict2 # this is due to shallow copy",
   "id": "599cfbbadd3e06da",
   "outputs": [
    {
     "data": {
      "text/plain": [
       "{'a': [1], 'b': [1], 'c': [1], 'd': [1]}"
      ]
     },
     "execution_count": 52,
     "metadata": {},
     "output_type": "execute_result"
    }
   ],
   "execution_count": 52
  },
  {
   "metadata": {
    "ExecuteTime": {
     "end_time": "2025-06-30T08:00:34.028618Z",
     "start_time": "2025-06-30T08:00:33.999847Z"
    }
   },
   "cell_type": "code",
   "source": [
    "# to fix we must use dictionary comprehension\n",
    "my_dict3 = {key : [] for key in keys}\n",
    "my_dict3"
   ],
   "id": "c71267ef97b90f4b",
   "outputs": [
    {
     "data": {
      "text/plain": [
       "{'a': [], 'b': [], 'c': [], 'd': []}"
      ]
     },
     "execution_count": 53,
     "metadata": {},
     "output_type": "execute_result"
    }
   ],
   "execution_count": 53
  },
  {
   "metadata": {
    "ExecuteTime": {
     "end_time": "2025-06-30T08:00:35.872511Z",
     "start_time": "2025-06-30T08:00:35.842916Z"
    }
   },
   "cell_type": "code",
   "source": "my_dict3['a'].append(1)",
   "id": "314a13e0ba9005d7",
   "outputs": [],
   "execution_count": 54
  },
  {
   "metadata": {
    "ExecuteTime": {
     "end_time": "2025-06-30T08:00:37.200883Z",
     "start_time": "2025-06-30T08:00:37.147825Z"
    }
   },
   "cell_type": "code",
   "source": "my_dict3 # now it's fixed",
   "id": "c1babd9bb2cb875b",
   "outputs": [
    {
     "data": {
      "text/plain": [
       "{'a': [1], 'b': [], 'c': [], 'd': []}"
      ]
     },
     "execution_count": 55,
     "metadata": {},
     "output_type": "execute_result"
    }
   ],
   "execution_count": 55
  },
  {
   "metadata": {},
   "cell_type": "markdown",
   "source": "### Shallow vs Deep copy",
   "id": "27df104589f1be51"
  },
  {
   "metadata": {
    "ExecuteTime": {
     "end_time": "2025-06-30T08:00:39.823132Z",
     "start_time": "2025-06-30T08:00:39.792154Z"
    }
   },
   "cell_type": "code",
   "source": [
    "# shallow copy\n",
    "my_list1 = [[1, 2], [3, 4], [5, 6]]\n",
    "my_list1"
   ],
   "id": "f91f456f91cbe78a",
   "outputs": [
    {
     "data": {
      "text/plain": [
       "[[1, 2], [3, 4], [5, 6]]"
      ]
     },
     "execution_count": 56,
     "metadata": {},
     "output_type": "execute_result"
    }
   ],
   "execution_count": 56
  },
  {
   "metadata": {
    "ExecuteTime": {
     "end_time": "2025-06-30T08:00:41.244887Z",
     "start_time": "2025-06-30T08:00:41.223624Z"
    }
   },
   "cell_type": "code",
   "source": "my_list2 = my_list1.copy()",
   "id": "c2fe2dff3b488a3e",
   "outputs": [],
   "execution_count": 57
  },
  {
   "metadata": {
    "ExecuteTime": {
     "end_time": "2025-06-30T08:00:42.835491Z",
     "start_time": "2025-06-30T08:00:42.811507Z"
    }
   },
   "cell_type": "code",
   "source": "my_list2",
   "id": "e943af08c9243469",
   "outputs": [
    {
     "data": {
      "text/plain": [
       "[[1, 2], [3, 4], [5, 6]]"
      ]
     },
     "execution_count": 58,
     "metadata": {},
     "output_type": "execute_result"
    }
   ],
   "execution_count": 58
  },
  {
   "metadata": {
    "ExecuteTime": {
     "end_time": "2025-06-30T08:00:44.856404Z",
     "start_time": "2025-06-30T08:00:44.828908Z"
    }
   },
   "cell_type": "code",
   "source": "my_list1[0][0] = 100",
   "id": "eb5af04ad32778cb",
   "outputs": [],
   "execution_count": 59
  },
  {
   "metadata": {
    "ExecuteTime": {
     "end_time": "2025-06-30T08:00:46.024009Z",
     "start_time": "2025-06-30T08:00:46.000518Z"
    }
   },
   "cell_type": "code",
   "source": "my_list1",
   "id": "d9a520b4cc47a7e",
   "outputs": [
    {
     "data": {
      "text/plain": [
       "[[100, 2], [3, 4], [5, 6]]"
      ]
     },
     "execution_count": 60,
     "metadata": {},
     "output_type": "execute_result"
    }
   ],
   "execution_count": 60
  },
  {
   "metadata": {
    "ExecuteTime": {
     "end_time": "2025-06-30T08:00:47.418211Z",
     "start_time": "2025-06-30T08:00:47.397086Z"
    }
   },
   "cell_type": "code",
   "source": "my_list2",
   "id": "1b674ce86bc91dc0",
   "outputs": [
    {
     "data": {
      "text/plain": [
       "[[100, 2], [3, 4], [5, 6]]"
      ]
     },
     "execution_count": 61,
     "metadata": {},
     "output_type": "execute_result"
    }
   ],
   "execution_count": 61
  },
  {
   "metadata": {
    "ExecuteTime": {
     "end_time": "2025-06-30T08:00:49.034473Z",
     "start_time": "2025-06-30T08:00:49.016730Z"
    }
   },
   "cell_type": "code",
   "source": "",
   "id": "4267e4a0d6f02bcd",
   "outputs": [],
   "execution_count": null
  },
  {
   "metadata": {
    "ExecuteTime": {
     "end_time": "2025-06-30T08:00:49.770714Z",
     "start_time": "2025-06-30T08:00:49.740095Z"
    }
   },
   "cell_type": "code",
   "source": [
    "# deep copy\n",
    "my_list1, my_list2"
   ],
   "id": "50ec2ccbd8fb2f3b",
   "outputs": [
    {
     "data": {
      "text/plain": [
       "([[100, 2], [3, 4], [5, 6]], [[100, 2], [3, 4], [5, 6]])"
      ]
     },
     "execution_count": 62,
     "metadata": {},
     "output_type": "execute_result"
    }
   ],
   "execution_count": 62
  },
  {
   "metadata": {
    "ExecuteTime": {
     "end_time": "2025-06-30T08:00:51.274397Z",
     "start_time": "2025-06-30T08:00:51.257983Z"
    }
   },
   "cell_type": "code",
   "source": "import copy",
   "id": "c3f2ed49a4ac79f4",
   "outputs": [],
   "execution_count": 63
  },
  {
   "metadata": {
    "ExecuteTime": {
     "end_time": "2025-06-30T08:00:52.346882Z",
     "start_time": "2025-06-30T08:00:52.327449Z"
    }
   },
   "cell_type": "code",
   "source": "my_list3 = copy.deepcopy(my_list2)",
   "id": "e62b0267c4418597",
   "outputs": [],
   "execution_count": 64
  },
  {
   "metadata": {
    "ExecuteTime": {
     "end_time": "2025-06-30T08:00:53.989694Z",
     "start_time": "2025-06-30T08:00:53.963601Z"
    }
   },
   "cell_type": "code",
   "source": "my_list3, my_list2",
   "id": "f940e030bef3bdf7",
   "outputs": [
    {
     "data": {
      "text/plain": [
       "([[100, 2], [3, 4], [5, 6]], [[100, 2], [3, 4], [5, 6]])"
      ]
     },
     "execution_count": 65,
     "metadata": {},
     "output_type": "execute_result"
    }
   ],
   "execution_count": 65
  },
  {
   "metadata": {
    "ExecuteTime": {
     "end_time": "2025-06-30T08:00:55.196438Z",
     "start_time": "2025-06-30T08:00:55.162579Z"
    }
   },
   "cell_type": "code",
   "source": "my_list3[0][0] = -99",
   "id": "1765c87870d0fae4",
   "outputs": [],
   "execution_count": 66
  },
  {
   "metadata": {
    "ExecuteTime": {
     "end_time": "2025-06-30T08:00:56.624706Z",
     "start_time": "2025-06-30T08:00:56.599448Z"
    }
   },
   "cell_type": "code",
   "source": "my_list3, my_list2",
   "id": "5a5a971abf5c74df",
   "outputs": [
    {
     "data": {
      "text/plain": [
       "([[-99, 2], [3, 4], [5, 6]], [[100, 2], [3, 4], [5, 6]])"
      ]
     },
     "execution_count": 67,
     "metadata": {},
     "output_type": "execute_result"
    }
   ],
   "execution_count": 67
  },
  {
   "metadata": {
    "ExecuteTime": {
     "end_time": "2025-06-30T08:00:58.228191Z",
     "start_time": "2025-06-30T08:00:58.211549Z"
    }
   },
   "cell_type": "code",
   "source": "",
   "id": "f721c1a4563a3e16",
   "outputs": [],
   "execution_count": null
  },
  {
   "metadata": {
    "ExecuteTime": {
     "end_time": "2025-06-30T08:00:59.372358Z",
     "start_time": "2025-06-30T08:00:59.343061Z"
    }
   },
   "cell_type": "code",
   "source": "",
   "id": "c254ed93027903e3",
   "outputs": [],
   "execution_count": null
  },
  {
   "metadata": {
    "ExecuteTime": {
     "end_time": "2025-06-30T08:01:00.470444Z",
     "start_time": "2025-06-30T08:01:00.448177Z"
    }
   },
   "cell_type": "code",
   "source": "",
   "id": "e7e7fed73d916b59",
   "outputs": [],
   "execution_count": null
  },
  {
   "metadata": {
    "ExecuteTime": {
     "end_time": "2025-06-30T08:01:01.302859Z",
     "start_time": "2025-06-30T08:01:01.283955Z"
    }
   },
   "cell_type": "code",
   "source": "",
   "id": "6a4b69e0fffbb3d8",
   "outputs": [],
   "execution_count": null
  },
  {
   "metadata": {
    "ExecuteTime": {
     "end_time": "2025-06-30T08:01:01.743871Z",
     "start_time": "2025-06-30T08:01:01.718932Z"
    }
   },
   "cell_type": "code",
   "source": "",
   "id": "49cbbba69b73d6b6",
   "outputs": [],
   "execution_count": null
  },
  {
   "metadata": {
    "ExecuteTime": {
     "end_time": "2025-06-30T08:01:02.193775Z",
     "start_time": "2025-06-30T08:01:02.163738Z"
    }
   },
   "cell_type": "code",
   "source": [
    "# bytearray\n",
    "b_array = bytearray(b\"subhan Ali\")\n",
    "print('before: ', b_array)\n",
    "b_array[0] = ord('S')\n",
    "b_array, b_array.decode()"
   ],
   "id": "49a7150de1cfcc45",
   "outputs": [
    {
     "name": "stdout",
     "output_type": "stream",
     "text": [
      "before:  bytearray(b'subhan Ali')\n"
     ]
    },
    {
     "data": {
      "text/plain": [
       "(bytearray(b'Subhan Ali'), 'Subhan Ali')"
      ]
     },
     "execution_count": 68,
     "metadata": {},
     "output_type": "execute_result"
    }
   ],
   "execution_count": 68
  },
  {
   "metadata": {
    "ExecuteTime": {
     "end_time": "2025-06-30T08:01:03.651778Z",
     "start_time": "2025-06-30T08:01:03.616243Z"
    }
   },
   "cell_type": "code",
   "source": [
    "b_array.append(96)\n",
    "b_array"
   ],
   "id": "ef35da0765966735",
   "outputs": [
    {
     "data": {
      "text/plain": [
       "bytearray(b'Subhan Ali`')"
      ]
     },
     "execution_count": 69,
     "metadata": {},
     "output_type": "execute_result"
    }
   ],
   "execution_count": 69
  },
  {
   "metadata": {
    "ExecuteTime": {
     "end_time": "2025-06-30T08:01:05.137076Z",
     "start_time": "2025-06-30T08:01:05.114683Z"
    }
   },
   "cell_type": "code",
   "source": [
    "b_array.extend(b'new content')\n",
    "b_array"
   ],
   "id": "a1313761b2427959",
   "outputs": [
    {
     "data": {
      "text/plain": [
       "bytearray(b'Subhan Ali`new content')"
      ]
     },
     "execution_count": 70,
     "metadata": {},
     "output_type": "execute_result"
    }
   ],
   "execution_count": 70
  },
  {
   "metadata": {
    "ExecuteTime": {
     "end_time": "2025-06-30T08:01:06.764943Z",
     "start_time": "2025-06-30T08:01:06.742614Z"
    }
   },
   "cell_type": "code",
   "source": [
    "b_array.insert(8, ord('t'))\n",
    "b_array"
   ],
   "id": "dea803a6f0f94601",
   "outputs": [
    {
     "data": {
      "text/plain": [
       "bytearray(b'Subhan Atli`new content')"
      ]
     },
     "execution_count": 71,
     "metadata": {},
     "output_type": "execute_result"
    }
   ],
   "execution_count": 71
  },
  {
   "metadata": {
    "ExecuteTime": {
     "end_time": "2025-06-30T08:01:07.965332Z",
     "start_time": "2025-06-30T08:01:07.945925Z"
    }
   },
   "cell_type": "code",
   "source": "chr(b_array.pop())",
   "id": "5c91c5a6f3c7efc5",
   "outputs": [
    {
     "data": {
      "text/plain": [
       "'t'"
      ]
     },
     "execution_count": 72,
     "metadata": {},
     "output_type": "execute_result"
    }
   ],
   "execution_count": 72
  },
  {
   "metadata": {
    "ExecuteTime": {
     "end_time": "2025-06-30T08:01:09.337946Z",
     "start_time": "2025-06-30T08:01:09.323914Z"
    }
   },
   "cell_type": "code",
   "source": "b_array.reverse()",
   "id": "93f56bbb7bf4e06e",
   "outputs": [],
   "execution_count": 73
  },
  {
   "metadata": {
    "ExecuteTime": {
     "end_time": "2025-06-30T08:01:11.536740Z",
     "start_time": "2025-06-30T08:01:11.510Z"
    }
   },
   "cell_type": "code",
   "source": "b_array",
   "id": "2715d39fa92ca9ce",
   "outputs": [
    {
     "data": {
      "text/plain": [
       "bytearray(b'netnoc wen`iltA nahbuS')"
      ]
     },
     "execution_count": 74,
     "metadata": {},
     "output_type": "execute_result"
    }
   ],
   "execution_count": 74
  },
  {
   "metadata": {
    "ExecuteTime": {
     "end_time": "2025-06-30T08:01:12.748913Z",
     "start_time": "2025-06-30T08:01:12.731464Z"
    }
   },
   "cell_type": "code",
   "source": "b_array.count(b'a')",
   "id": "446997d349cc3fa",
   "outputs": [
    {
     "data": {
      "text/plain": [
       "1"
      ]
     },
     "execution_count": 75,
     "metadata": {},
     "output_type": "execute_result"
    }
   ],
   "execution_count": 75
  },
  {
   "metadata": {
    "ExecuteTime": {
     "end_time": "2025-06-30T08:01:13.739540Z",
     "start_time": "2025-06-30T08:01:13.728893Z"
    }
   },
   "cell_type": "code",
   "source": "# MRO",
   "id": "fe8e7c3df61430af",
   "outputs": [],
   "execution_count": 76
  },
  {
   "metadata": {
    "ExecuteTime": {
     "end_time": "2025-06-30T08:01:14.279193Z",
     "start_time": "2025-06-30T08:01:14.245192Z"
    }
   },
   "cell_type": "code",
   "source": [
    "class A:\n",
    "    def __init__(self):\n",
    "        pass\n",
    "    def do_something(self):\n",
    "        print('hi from class A')\n",
    "\n",
    "class B(A):\n",
    "    def __init__(self):\n",
    "        pass\n",
    "    def do_something(self):\n",
    "        print('hi from class B')\n",
    "\n",
    "class C(A):\n",
    "    def __init__(self):\n",
    "        pass\n",
    "    def do_something(self):\n",
    "        print('hi from class C')\n",
    "\n",
    "class D(B, C):\n",
    "    def __init__(self):\n",
    "        pass\n",
    "    # def do_something(self):\n",
    "    #     pass\n"
   ],
   "id": "d3e921a27914865b",
   "outputs": [],
   "execution_count": 77
  },
  {
   "metadata": {
    "ExecuteTime": {
     "end_time": "2025-06-30T08:01:14.922928Z",
     "start_time": "2025-06-30T08:01:14.908450Z"
    }
   },
   "cell_type": "code",
   "source": [
    "my_obj = D()\n",
    "my_obj.do_something()"
   ],
   "id": "8758590a45797ffa",
   "outputs": [
    {
     "name": "stdout",
     "output_type": "stream",
     "text": [
      "hi from class B\n"
     ]
    }
   ],
   "execution_count": 78
  },
  {
   "metadata": {
    "ExecuteTime": {
     "end_time": "2025-06-30T08:01:15.784697Z",
     "start_time": "2025-06-30T08:01:15.763182Z"
    }
   },
   "cell_type": "code",
   "source": "D.mro()",
   "id": "70cb550beefcd946",
   "outputs": [
    {
     "data": {
      "text/plain": [
       "[__main__.D, __main__.B, __main__.C, __main__.A, object]"
      ]
     },
     "execution_count": 79,
     "metadata": {},
     "output_type": "execute_result"
    }
   ],
   "execution_count": 79
  },
  {
   "metadata": {
    "ExecuteTime": {
     "end_time": "2025-06-30T08:01:16.727986Z",
     "start_time": "2025-06-30T08:01:16.702231Z"
    }
   },
   "cell_type": "code",
   "source": [
    "# python program execution\n",
    "# .py file\n",
    "#  ↓\n",
    "# CPython interpreter\n",
    "#  ↓\n",
    "# Compilation to bytecode (.pyc)\n",
    "#  ↓\n",
    "# Python Virtual Machine (PVM)\n",
    "#  ↓\n",
    "# Runtime Execution"
   ],
   "id": "d940420c5a01044a",
   "outputs": [],
   "execution_count": 80
  },
  {
   "metadata": {
    "ExecuteTime": {
     "end_time": "2025-06-30T08:01:17.373771Z",
     "start_time": "2025-06-30T08:01:17.358221Z"
    }
   },
   "cell_type": "code",
   "source": "# compile time and run time polymorphism",
   "id": "ba7d6a99bca3453a",
   "outputs": [],
   "execution_count": 81
  },
  {
   "metadata": {
    "ExecuteTime": {
     "end_time": "2025-06-30T08:01:18.110273Z",
     "start_time": "2025-06-30T08:01:18.098814Z"
    }
   },
   "cell_type": "code",
   "source": [
    "# class MathOperations {\n",
    "#     int add(int a, int b) {\n",
    "#         return a + b;\n",
    "#     }\n",
    "#\n",
    "#     double add(double a, double b) {\n",
    "#         return a + b;\n",
    "#     }\n",
    "#\n",
    "#     int add(int a, int b, int c) {\n",
    "#         return a + b + c;\n",
    "#     }\n",
    "# }\n",
    "#\n",
    "# class Main {\n",
    "#     public static void main(String[] args) {\n",
    "#         MathOperations m = new MathOperations();\n",
    "#         System.out.println(m.add(2, 3));       // int version\n",
    "#         System.out.println(m.add(2.5, 3.5));   // double version\n",
    "#         System.out.println(m.add(1, 2, 3));    // 3-argument version\n",
    "#     }\n",
    "# }\n"
   ],
   "id": "6df6e8c16c63cad",
   "outputs": [],
   "execution_count": 82
  },
  {
   "metadata": {
    "ExecuteTime": {
     "end_time": "2025-06-30T08:01:18.864853Z",
     "start_time": "2025-06-30T08:01:18.828839Z"
    }
   },
   "cell_type": "code",
   "source": [
    "# class Animal {\n",
    "#     void makeSound() {\n",
    "#         System.out.println(\"Animal sound\");\n",
    "#     }\n",
    "# }\n",
    "#\n",
    "# class Dog extends Animal {\n",
    "#     void makeSound() {\n",
    "#         System.out.println(\"Bark\");\n",
    "#     }\n",
    "# }\n",
    "#\n",
    "# class Cat extends Animal {\n",
    "#     void makeSound() {\n",
    "#         System.out.println(\"Meow\");\n",
    "#     }\n",
    "# }\n",
    "#\n",
    "# class Main {\n",
    "#     public static void main(String[] args) {\n",
    "#         Animal a1 = new Dog();  // polymorphic reference\n",
    "#         Animal a2 = new Cat();\n",
    "#\n",
    "#         a1.makeSound();  // Bark\n",
    "#         a2.makeSound();  // Meow\n",
    "#     }\n",
    "# }\n"
   ],
   "id": "e0fe1f594ceeae56",
   "outputs": [],
   "execution_count": 83
  },
  {
   "metadata": {
    "ExecuteTime": {
     "end_time": "2025-06-30T08:01:19.909211Z",
     "start_time": "2025-06-30T08:01:19.875304Z"
    }
   },
   "cell_type": "code",
   "source": [
    "# runtime polymorphism works natively due to its dynamic nature\n",
    "class Animal:\n",
    "    def speak(self):\n",
    "        print(\"Animal speaks\")\n",
    "\n",
    "class Dog(Animal):\n",
    "    def speak(self):\n",
    "        print(\"Dog barks\")\n",
    "\n",
    "class Cat(Animal):\n",
    "    def speak(self):\n",
    "        print(\"Cat meows\")\n",
    "\n",
    "def animal_sound(animal):\n",
    "    animal.speak()\n",
    "\n",
    "a1 = Dog()\n",
    "a2 = Cat()\n",
    "\n",
    "animal_sound(a1)\n",
    "animal_sound(a2)\n",
    "\n"
   ],
   "id": "2e7d4e3c359552e5",
   "outputs": [
    {
     "name": "stdout",
     "output_type": "stream",
     "text": [
      "Dog barks\n",
      "Cat meows\n"
     ]
    }
   ],
   "execution_count": 84
  },
  {
   "metadata": {
    "ExecuteTime": {
     "end_time": "2025-06-30T08:01:20.867403Z",
     "start_time": "2025-06-30T08:01:20.843080Z"
    }
   },
   "cell_type": "code",
   "source": [
    "# Abstraction\n",
    "from abc import ABC, abstractmethod\n",
    "\n",
    "class Vehicle(ABC):\n",
    "    def __init__(self, brand, model):\n",
    "        self.brand = brand\n",
    "        self.model = model\n",
    "\n",
    "    @abstractmethod\n",
    "    def start_engine(self):\n",
    "        pass\n"
   ],
   "id": "8622928335252276",
   "outputs": [],
   "execution_count": 85
  },
  {
   "metadata": {
    "ExecuteTime": {
     "end_time": "2025-06-30T08:01:22.217305Z",
     "start_time": "2025-06-30T08:01:22.183461Z"
    }
   },
   "cell_type": "code",
   "source": [
    "# Encapsulation\n",
    "class Engine:\n",
    "    def __init__(self):\n",
    "        self.__status = \"off\"  # private attribute\n",
    "\n",
    "    def start(self):\n",
    "        self.__status = \"on\"\n",
    "\n",
    "    def stop(self):\n",
    "        self.__status = \"off\"\n",
    "\n",
    "    def get_status(self):\n",
    "        return self.__status\n"
   ],
   "id": "30755c4d852e1107",
   "outputs": [],
   "execution_count": 86
  },
  {
   "metadata": {
    "ExecuteTime": {
     "end_time": "2025-06-30T08:01:23.203204Z",
     "start_time": "2025-06-30T08:01:23.175857Z"
    }
   },
   "cell_type": "code",
   "source": [
    "# Inheritance\n",
    "class Car(Vehicle):\n",
    "    def __init__(self, brand, model, doors):\n",
    "        super().__init__(brand, model)\n",
    "        self.doors = doors\n",
    "        self.engine = Engine()\n",
    "\n",
    "    def start_engine(self):\n",
    "        self.engine.start()\n",
    "        print(f\"{self.brand} {self.model}'s engine started.\")\n"
   ],
   "id": "502aea392d5b0e1a",
   "outputs": [],
   "execution_count": 87
  },
  {
   "metadata": {
    "ExecuteTime": {
     "end_time": "2025-06-30T08:01:24.406420Z",
     "start_time": "2025-06-30T08:01:24.376710Z"
    }
   },
   "cell_type": "code",
   "source": [
    "# Polymorphism\n",
    "class Motorcycle(Vehicle):\n",
    "    def start_engine(self):\n",
    "        print(f\"{self.brand} {self.model}'s motorcycle engine started.\")\n",
    "\n",
    "def test_start(vehicle: Vehicle):\n",
    "    vehicle.start_engine()\n",
    "\n",
    "# Polymorphic behavior\n",
    "test_start(Car(\"Toyota\", \"Corolla\", 4))\n",
    "test_start(Motorcycle(\"Yamaha\", \"R1\"))\n"
   ],
   "id": "2a5c1114605a862b",
   "outputs": [
    {
     "name": "stdout",
     "output_type": "stream",
     "text": [
      "Toyota Corolla's engine started.\n",
      "Yamaha R1's motorcycle engine started.\n"
     ]
    }
   ],
   "execution_count": 88
  },
  {
   "metadata": {
    "ExecuteTime": {
     "end_time": "2025-06-30T08:01:25.774053Z",
     "start_time": "2025-06-30T08:01:25.741513Z"
    }
   },
   "cell_type": "code",
   "source": [
    "# static methods\n",
    "class VehicleUtils:\n",
    "    vehicle_count = 0\n",
    "\n",
    "    def __init__(self):\n",
    "        VehicleUtils.vehicle_count += 1\n",
    "\n",
    "    @classmethod\n",
    "    def get_vehicle_count(cls):\n",
    "        return cls.vehicle_count\n",
    "\n",
    "    @staticmethod\n",
    "    def convert_mph_to_kph(mph):\n",
    "        return mph * 1.60934\n"
   ],
   "id": "75967e49d6c9335b",
   "outputs": [],
   "execution_count": 89
  },
  {
   "metadata": {
    "ExecuteTime": {
     "end_time": "2025-06-30T08:04:40.536569Z",
     "start_time": "2025-06-30T08:04:40.489311Z"
    }
   },
   "cell_type": "code",
   "source": [
    "# setter using property\n",
    "class FuelTank:\n",
    "    def __init__(self, capacity):\n",
    "        self._capacity = capacity\n",
    "        self._level = 0\n",
    "\n",
    "    @property\n",
    "    def level(self):\n",
    "        return self._level\n",
    "\n",
    "    @level.setter\n",
    "    def level(self, value):\n",
    "        if 0 <= value <= self._capacity:\n",
    "            self._level = value\n",
    "        else:\n",
    "            raise ValueError(\"Invalid fuel level\")\n",
    "\n",
    "tank = FuelTank(100)\n",
    "print(tank.level)\n",
    "tank.level =50\n",
    "print(tank.level)"
   ],
   "id": "3e7939d4d7083248",
   "outputs": [
    {
     "name": "stdout",
     "output_type": "stream",
     "text": [
      "0\n",
      "50\n"
     ]
    }
   ],
   "execution_count": 97
  },
  {
   "metadata": {
    "ExecuteTime": {
     "end_time": "2025-06-30T08:04:41.854968Z",
     "start_time": "2025-06-30T08:04:41.822754Z"
    }
   },
   "cell_type": "code",
   "source": [
    "# Dunder methods\n",
    "class Car(Vehicle):\n",
    "    def __init__(self, brand, model, doors):\n",
    "        super().__init__(brand, model)\n",
    "        self.doors = doors\n",
    "\n",
    "    def __str__(self):\n",
    "        return f\"{self.brand} {self.model} with {self.doors} doors\"\n",
    "\n",
    "    def __eq__(self, other):\n",
    "        return self.brand == other.brand and self.model == other.model\n"
   ],
   "id": "7372543bf801d5a",
   "outputs": [],
   "execution_count": 98
  },
  {
   "metadata": {
    "ExecuteTime": {
     "end_time": "2025-06-30T08:04:44.333988Z",
     "start_time": "2025-06-30T08:04:44.310260Z"
    }
   },
   "cell_type": "code",
   "source": [
    "# composition - strong relationship\n",
    "class Dashboard:\n",
    "    def display_speed(self):\n",
    "        print(\"Speed is 60km/h\")\n",
    "\n",
    "class Truck(Vehicle):\n",
    "    def __init__(self, brand, model):\n",
    "        super().__init__(brand, model)\n",
    "        self.dashboard = Dashboard()\n",
    "\n",
    "    def start_engine(self):\n",
    "        print(f\"{self.brand} {self.model}'s engine started.\")\n",
    "        self.dashboard.display_speed()\n"
   ],
   "id": "32a10c5d3fcb4007",
   "outputs": [],
   "execution_count": 99
  },
  {
   "metadata": {
    "ExecuteTime": {
     "end_time": "2025-06-30T08:04:45.534312Z",
     "start_time": "2025-06-30T08:04:45.507909Z"
    }
   },
   "cell_type": "code",
   "source": [
    "# aggregation - weak relationship\n",
    "class Student:\n",
    "    def __init__(self, name):\n",
    "        self.name = name\n",
    "\n",
    "class School:\n",
    "    def __init__(self):\n",
    "        self.students = []  # Aggregation\n",
    "\n",
    "    def add_student(self, student):\n",
    "        self.students.append(student)\n"
   ],
   "id": "c64e4c5ab28c9223",
   "outputs": [],
   "execution_count": 100
  },
  {
   "metadata": {
    "ExecuteTime": {
     "end_time": "2025-06-30T08:05:06.125037Z",
     "start_time": "2025-06-30T08:05:06.086881Z"
    }
   },
   "cell_type": "code",
   "source": [
    "# abs()\n",
    "print(\"abs():\")\n",
    "print(abs(-5))\n",
    "print(abs(3.14))\n",
    "print(abs(0))\n",
    "print(\"-\" * 20)\n"
   ],
   "id": "56c135b611bc3d4b",
   "outputs": [
    {
     "name": "stdout",
     "output_type": "stream",
     "text": [
      "abs():\n",
      "5\n",
      "3.14\n",
      "0\n",
      "--------------------\n"
     ]
    }
   ],
   "execution_count": 104
  },
  {
   "metadata": {
    "ExecuteTime": {
     "end_time": "2025-06-30T08:05:37.096993Z",
     "start_time": "2025-06-30T08:05:37.062850Z"
    }
   },
   "cell_type": "code",
   "source": [
    "# all()\n",
    "print(\"all():\")\n",
    "print(all([True, True, False]))\n",
    "print(all([1, 2, 3]))\n",
    "print(all([]))"
   ],
   "id": "7a642f0baa1e9e5e",
   "outputs": [
    {
     "name": "stdout",
     "output_type": "stream",
     "text": [
      "all():\n",
      "False\n",
      "True\n",
      "True\n"
     ]
    }
   ],
   "execution_count": 108
  },
  {
   "metadata": {
    "ExecuteTime": {
     "end_time": "2025-06-30T08:05:39.826740Z",
     "start_time": "2025-06-30T08:05:39.793781Z"
    }
   },
   "cell_type": "code",
   "source": [
    "# any()\n",
    "print(\"any():\")\n",
    "print(any([True, False, False]))\n",
    "print(any([0, '', []]))\n",
    "print(any([]))\n"
   ],
   "id": "d98db8a2da3d128b",
   "outputs": [
    {
     "name": "stdout",
     "output_type": "stream",
     "text": [
      "any():\n",
      "True\n",
      "False\n",
      "False\n"
     ]
    }
   ],
   "execution_count": 109
  },
  {
   "metadata": {
    "ExecuteTime": {
     "end_time": "2025-06-30T08:05:41.419078Z",
     "start_time": "2025-06-30T08:05:41.398081Z"
    }
   },
   "cell_type": "code",
   "source": [
    "# ascii()\n",
    "print(\"ascii():\")\n",
    "print(ascii('hello'))\n"
   ],
   "id": "894e1538537f8b8d",
   "outputs": [
    {
     "name": "stdout",
     "output_type": "stream",
     "text": [
      "ascii():\n",
      "'hello'\n"
     ]
    }
   ],
   "execution_count": 110
  },
  {
   "metadata": {
    "ExecuteTime": {
     "end_time": "2025-06-30T08:05:59.899417Z",
     "start_time": "2025-06-30T08:05:59.882004Z"
    }
   },
   "cell_type": "code",
   "source": [
    "# bin()\n",
    "print(\"bin():\")\n",
    "print(bin(10))\n",
    "print(bin(0))"
   ],
   "id": "438c3a703ae72aa5",
   "outputs": [
    {
     "name": "stdout",
     "output_type": "stream",
     "text": [
      "bin():\n",
      "0b1010\n",
      "0b0\n"
     ]
    }
   ],
   "execution_count": 113
  },
  {
   "metadata": {
    "ExecuteTime": {
     "end_time": "2025-06-30T08:06:01.070501Z",
     "start_time": "2025-06-30T08:06:01.044696Z"
    }
   },
   "cell_type": "code",
   "source": [
    "# bool()\n",
    "print(\"bool():\")\n",
    "print(bool(1))\n",
    "print(bool(0))\n",
    "print(bool(\"\"))\n",
    "print(bool(\"hello\"))"
   ],
   "id": "7342410098e3c762",
   "outputs": [
    {
     "name": "stdout",
     "output_type": "stream",
     "text": [
      "bool():\n",
      "True\n",
      "False\n",
      "False\n",
      "True\n"
     ]
    }
   ],
   "execution_count": 114
  },
  {
   "metadata": {
    "ExecuteTime": {
     "end_time": "2025-06-30T08:06:16.353039Z",
     "start_time": "2025-06-30T08:06:15.575446Z"
    }
   },
   "cell_type": "code",
   "source": [
    "breakpoint()\n",
    "print(\"breakpoint(): (Requires running in a debugger to see its effect)\")"
   ],
   "id": "2c852efce4a1bec6",
   "outputs": [
    {
     "name": "stdout",
     "output_type": "stream",
     "text": [
      "breakpoint(): (Requires running in a debugger to see its effect)\n"
     ]
    }
   ],
   "execution_count": 115
  },
  {
   "metadata": {
    "ExecuteTime": {
     "end_time": "2025-06-30T08:06:30.885163Z",
     "start_time": "2025-06-30T08:06:30.852957Z"
    }
   },
   "cell_type": "code",
   "source": [
    "# bytearray()\n",
    "print(\"bytearray():\")\n",
    "arr = bytearray(5)\n",
    "print(arr)\n",
    "arr[0] = 65\n",
    "print(arr)\n",
    "print(bytearray(b'hello'))"
   ],
   "id": "13c12fe802ff3cee",
   "outputs": [
    {
     "name": "stdout",
     "output_type": "stream",
     "text": [
      "bytearray():\n",
      "bytearray(b'\\x00\\x00\\x00\\x00\\x00')\n",
      "bytearray(b'A\\x00\\x00\\x00\\x00')\n",
      "bytearray(b'hello')\n"
     ]
    }
   ],
   "execution_count": 116
  },
  {
   "metadata": {
    "ExecuteTime": {
     "end_time": "2025-06-30T08:06:38.824812Z",
     "start_time": "2025-06-30T08:06:38.802249Z"
    }
   },
   "cell_type": "code",
   "source": [
    "# bytes()\n",
    "print(\"bytes():\")\n",
    "b = bytes([72, 101, 108, 108, 111])\n",
    "print(b)\n",
    "print(bytes(\"world\", \"utf-8\"))"
   ],
   "id": "ef8d5c450db7eb1",
   "outputs": [
    {
     "name": "stdout",
     "output_type": "stream",
     "text": [
      "bytes():\n",
      "b'Hello'\n",
      "b'world'\n"
     ]
    }
   ],
   "execution_count": 117
  },
  {
   "metadata": {
    "ExecuteTime": {
     "end_time": "2025-06-30T08:06:49.542517Z",
     "start_time": "2025-06-30T08:06:49.495517Z"
    }
   },
   "cell_type": "code",
   "source": [
    "# callable()\n",
    "print(\"callable():\")\n",
    "def my_func():\n",
    "    pass\n",
    "print(callable(my_func))\n",
    "print(callable(10))"
   ],
   "id": "79bf6ad6f4155c7e",
   "outputs": [
    {
     "name": "stdout",
     "output_type": "stream",
     "text": [
      "callable():\n",
      "True\n",
      "False\n"
     ]
    }
   ],
   "execution_count": 118
  },
  {
   "metadata": {
    "ExecuteTime": {
     "end_time": "2025-06-30T08:07:13.356148Z",
     "start_time": "2025-06-30T08:07:13.329698Z"
    }
   },
   "cell_type": "code",
   "source": [
    "# chr()\n",
    "print(\"chr():\")\n",
    "print(chr(97))\n",
    "print(chr(65))"
   ],
   "id": "8dfe09cb4952c70",
   "outputs": [
    {
     "name": "stdout",
     "output_type": "stream",
     "text": [
      "chr():\n",
      "a\n",
      "A\n"
     ]
    }
   ],
   "execution_count": 121
  },
  {
   "metadata": {
    "ExecuteTime": {
     "end_time": "2025-06-30T08:08:44.321444Z",
     "start_time": "2025-06-30T08:08:44.297555Z"
    }
   },
   "cell_type": "code",
   "source": [
    "# classmethod()\n",
    "print(\"classmethod():\")\n",
    "class MyClass:\n",
    "    @classmethod\n",
    "    def class_method(cls):\n",
    "        return f\"This is a class method of {cls.__name__}\"\n",
    "my_obj = MyClass()\n",
    "my_obj.class_method(), MyClass.class_method()"
   ],
   "id": "d6b1bd97100e1574",
   "outputs": [
    {
     "name": "stdout",
     "output_type": "stream",
     "text": [
      "classmethod():\n"
     ]
    },
    {
     "data": {
      "text/plain": [
       "('This is a class method of MyClass', 'This is a class method of MyClass')"
      ]
     },
     "execution_count": 124,
     "metadata": {},
     "output_type": "execute_result"
    }
   ],
   "execution_count": 124
  },
  {
   "metadata": {
    "ExecuteTime": {
     "end_time": "2025-06-30T08:12:10.357767Z",
     "start_time": "2025-06-30T08:12:10.325961Z"
    }
   },
   "cell_type": "code",
   "source": [
    "# compile()\n",
    "print(\"compile():\")\n",
    "code_str = 'x = 10\\nprint(x)'\n",
    "code_obj = compile(code_str, '<string>', 'exec')\n",
    "print(code_obj)\n",
    "exec(code_obj)"
   ],
   "id": "1cbe86e3fc9254f4",
   "outputs": [
    {
     "name": "stdout",
     "output_type": "stream",
     "text": [
      "compile():\n",
      "<code object <module> at 0x7f1a10247210, file \"<string>\", line 1>\n",
      "10\n"
     ]
    }
   ],
   "execution_count": 137
  },
  {
   "metadata": {
    "ExecuteTime": {
     "end_time": "2025-06-30T08:12:23.042801Z",
     "start_time": "2025-06-30T08:12:23.016124Z"
    }
   },
   "cell_type": "code",
   "source": [
    "# complex()\n",
    "print(\"complex():\")\n",
    "print(complex(2, 3))\n",
    "print(complex('1+2j'))"
   ],
   "id": "2aa636745de3b7b0",
   "outputs": [
    {
     "name": "stdout",
     "output_type": "stream",
     "text": [
      "complex():\n",
      "(2+3j)\n",
      "(1+2j)\n"
     ]
    }
   ],
   "execution_count": 138
  },
  {
   "metadata": {
    "ExecuteTime": {
     "end_time": "2025-06-30T08:12:24.289777Z",
     "start_time": "2025-06-30T08:12:24.234353Z"
    }
   },
   "cell_type": "code",
   "source": [
    "# delattr()\n",
    "print(\"delattr():\")\n",
    "class MyObject:\n",
    "    def __init__(self):\n",
    "        self.a = 1\n",
    "obj = MyObject()\n",
    "print(obj.a)\n",
    "delattr(obj, 'a')\n",
    "try:\n",
    "    print(obj.a)\n",
    "except AttributeError as e:\n",
    "    print(f\"Error: {e}\")"
   ],
   "id": "6ef36563a6a027b1",
   "outputs": [
    {
     "name": "stdout",
     "output_type": "stream",
     "text": [
      "delattr():\n",
      "1\n",
      "Error: 'MyObject' object has no attribute 'a'\n"
     ]
    }
   ],
   "execution_count": 139
  },
  {
   "metadata": {
    "ExecuteTime": {
     "end_time": "2025-06-30T08:12:25.920861Z",
     "start_time": "2025-06-30T08:12:25.886776Z"
    }
   },
   "cell_type": "code",
   "source": [
    "# dict()\n",
    "print(\"dict():\")\n",
    "d1 = dict(name=\"Alice\", age=30)\n",
    "print(d1)\n",
    "d2 = dict([('a', 1), ('b', 2)])\n",
    "print(d2)"
   ],
   "id": "bb021b2cb704cae5",
   "outputs": [
    {
     "name": "stdout",
     "output_type": "stream",
     "text": [
      "dict():\n",
      "{'name': 'Alice', 'age': 30}\n",
      "{'a': 1, 'b': 2}\n"
     ]
    }
   ],
   "execution_count": 140
  },
  {
   "metadata": {
    "ExecuteTime": {
     "end_time": "2025-06-30T08:12:27.551733Z",
     "start_time": "2025-06-30T08:12:27.513750Z"
    }
   },
   "cell_type": "code",
   "source": [
    "# dir()\n",
    "print(\"dir():\")\n",
    "my_list = [1, 2, 3]\n",
    "print(dir(my_list))"
   ],
   "id": "89f40eb8f455ff2d",
   "outputs": [
    {
     "name": "stdout",
     "output_type": "stream",
     "text": [
      "dir():\n",
      "['__add__', '__class__', '__class_getitem__', '__contains__', '__delattr__', '__delitem__', '__dir__', '__doc__', '__eq__', '__format__', '__ge__', '__getattribute__', '__getitem__', '__getstate__', '__gt__', '__hash__', '__iadd__', '__imul__', '__init__', '__init_subclass__', '__iter__', '__le__', '__len__', '__lt__', '__mul__', '__ne__', '__new__', '__reduce__', '__reduce_ex__', '__repr__', '__reversed__', '__rmul__', '__setattr__', '__setitem__', '__sizeof__', '__str__', '__subclasshook__', 'append', 'clear', 'copy', 'count', 'extend', 'index', 'insert', 'pop', 'remove', 'reverse', 'sort']\n"
     ]
    }
   ],
   "execution_count": 141
  },
  {
   "metadata": {
    "ExecuteTime": {
     "end_time": "2025-06-30T08:12:29.777570Z",
     "start_time": "2025-06-30T08:12:29.751132Z"
    }
   },
   "cell_type": "code",
   "source": [
    "# divmod()\n",
    "print(\"divmod():\")\n",
    "print(divmod(10, 3))\n",
    "print(divmod(7.5, 2))"
   ],
   "id": "459cdd7fe118cfd2",
   "outputs": [
    {
     "name": "stdout",
     "output_type": "stream",
     "text": [
      "divmod():\n",
      "(3, 1)\n",
      "(3.0, 1.5)\n"
     ]
    }
   ],
   "execution_count": 142
  },
  {
   "metadata": {
    "ExecuteTime": {
     "end_time": "2025-06-30T08:12:30.974803Z",
     "start_time": "2025-06-30T08:12:30.930883Z"
    }
   },
   "cell_type": "code",
   "source": [
    "# enumerate()\n",
    "print(\"enumerate():\")\n",
    "fruits = ['apple', 'banana', 'cherry']\n",
    "for index, fruit in enumerate(fruits):\n",
    "    print(f\"{index}: {fruit}\")"
   ],
   "id": "35ef1b247cdbb50d",
   "outputs": [
    {
     "name": "stdout",
     "output_type": "stream",
     "text": [
      "enumerate():\n",
      "0: apple\n",
      "1: banana\n",
      "2: cherry\n"
     ]
    }
   ],
   "execution_count": 143
  },
  {
   "metadata": {
    "ExecuteTime": {
     "end_time": "2025-06-30T08:12:32.054273Z",
     "start_time": "2025-06-30T08:12:32.027870Z"
    }
   },
   "cell_type": "code",
   "source": [
    "# eval()\n",
    "print(\"eval():\")\n",
    "x = 10\n",
    "print(eval('x + 5'))\n",
    "print(eval('2 * 3 + 1'))"
   ],
   "id": "3d6685d70adc6734",
   "outputs": [
    {
     "name": "stdout",
     "output_type": "stream",
     "text": [
      "eval():\n",
      "15\n",
      "7\n"
     ]
    }
   ],
   "execution_count": 144
  },
  {
   "metadata": {
    "ExecuteTime": {
     "end_time": "2025-06-30T08:12:33.176589Z",
     "start_time": "2025-06-30T08:12:33.160612Z"
    }
   },
   "cell_type": "code",
   "source": [
    "# exec()\n",
    "print(\"exec():\")\n",
    "program = \"\"\"\n",
    "def greet(name):\n",
    "    print(f\"Hello, {name}!\")\n",
    "greet(\"World\")\n",
    "\"\"\"\n",
    "exec(program)"
   ],
   "id": "468f88d73063e400",
   "outputs": [
    {
     "name": "stdout",
     "output_type": "stream",
     "text": [
      "exec():\n",
      "Hello, World!\n"
     ]
    }
   ],
   "execution_count": 145
  },
  {
   "metadata": {
    "ExecuteTime": {
     "end_time": "2025-06-30T08:12:37.825216Z",
     "start_time": "2025-06-30T08:12:37.793209Z"
    }
   },
   "cell_type": "code",
   "source": [
    "# filter()\n",
    "print(\"filter():\")\n",
    "numbers = [1, 2, 3, 4, 5, 6]\n",
    "even_numbers = list(filter(lambda x: x % 2 == 0, numbers))\n",
    "print(even_numbers)"
   ],
   "id": "a2eb9e23100a742c",
   "outputs": [
    {
     "name": "stdout",
     "output_type": "stream",
     "text": [
      "filter():\n",
      "[2, 4, 6]\n"
     ]
    }
   ],
   "execution_count": 147
  },
  {
   "metadata": {
    "ExecuteTime": {
     "end_time": "2025-06-30T08:12:42.563957Z",
     "start_time": "2025-06-30T08:12:42.538089Z"
    }
   },
   "cell_type": "code",
   "source": [
    "# float()\n",
    "print(\"float():\")\n",
    "print(float(10))\n",
    "print(float(\"3.14\"))"
   ],
   "id": "22230b1341b1c17a",
   "outputs": [
    {
     "name": "stdout",
     "output_type": "stream",
     "text": [
      "float():\n",
      "10.0\n",
      "3.14\n"
     ]
    }
   ],
   "execution_count": 148
  },
  {
   "metadata": {
    "ExecuteTime": {
     "end_time": "2025-06-30T08:12:47.025459Z",
     "start_time": "2025-06-30T08:12:47.004878Z"
    }
   },
   "cell_type": "code",
   "source": [
    "# format()\n",
    "print(\"format():\")\n",
    "print(\"Hello, {}!\".format(\"Alice\"))\n",
    "print(\"The answer is {:f}\".format(42))"
   ],
   "id": "71554e8536977c3f",
   "outputs": [
    {
     "name": "stdout",
     "output_type": "stream",
     "text": [
      "format():\n",
      "Hello, Alice!\n",
      "The answer is 42.000000\n"
     ]
    }
   ],
   "execution_count": 149
  },
  {
   "metadata": {
    "ExecuteTime": {
     "end_time": "2025-06-30T08:12:51.099988Z",
     "start_time": "2025-06-30T08:12:51.067589Z"
    }
   },
   "cell_type": "code",
   "source": [
    "# frozenset()\n",
    "print(\"frozenset():\")\n",
    "fs = frozenset([1, 2, 3, 2])\n",
    "print(fs)\n"
   ],
   "id": "55bbccc784c66fde",
   "outputs": [
    {
     "name": "stdout",
     "output_type": "stream",
     "text": [
      "frozenset():\n",
      "frozenset({1, 2, 3})\n"
     ]
    }
   ],
   "execution_count": 150
  },
  {
   "metadata": {
    "ExecuteTime": {
     "end_time": "2025-06-30T08:13:13.407984Z",
     "start_time": "2025-06-30T08:13:13.375591Z"
    }
   },
   "cell_type": "code",
   "source": [
    "# getattr()\n",
    "print(\"getattr():\")\n",
    "class Person:\n",
    "    def __init__(self, name):\n",
    "        self.name = name\n",
    "p = Person(\"Bob\")\n",
    "print(getattr(p, 'name'))\n",
    "print(getattr(p, 'age', None))"
   ],
   "id": "a9247c4b906b499b",
   "outputs": [
    {
     "name": "stdout",
     "output_type": "stream",
     "text": [
      "getattr():\n",
      "Bob\n",
      "None\n"
     ]
    }
   ],
   "execution_count": 152
  },
  {
   "metadata": {
    "ExecuteTime": {
     "end_time": "2025-06-30T08:13:24.677342Z",
     "start_time": "2025-06-30T08:13:24.654174Z"
    }
   },
   "cell_type": "code",
   "source": [
    "# globals()\n",
    "print(\"globals():\")\n",
    "global_var = 100\n",
    "def show_globals():\n",
    "    print('global_var' in globals())\n",
    "show_globals()"
   ],
   "id": "924ea8d699617f9",
   "outputs": [
    {
     "name": "stdout",
     "output_type": "stream",
     "text": [
      "globals():\n",
      "True\n"
     ]
    }
   ],
   "execution_count": 153
  },
  {
   "metadata": {
    "ExecuteTime": {
     "end_time": "2025-06-30T08:13:51.359150Z",
     "start_time": "2025-06-30T08:13:51.330890Z"
    }
   },
   "cell_type": "code",
   "source": [
    "# hasattr()\n",
    "print(\"hasattr():\")\n",
    "class Car:\n",
    "    def __init__(self, make):\n",
    "        self.make = make\n",
    "my_car = Car(\"Toyota\")\n",
    "print(hasattr(my_car, 'make'))\n",
    "print(hasattr(my_car, 'model'))"
   ],
   "id": "72da321b89d6ec1d",
   "outputs": [
    {
     "name": "stdout",
     "output_type": "stream",
     "text": [
      "hasattr():\n",
      "True\n",
      "False\n"
     ]
    }
   ],
   "execution_count": 154
  },
  {
   "metadata": {
    "ExecuteTime": {
     "end_time": "2025-06-30T08:13:56.295443Z",
     "start_time": "2025-06-30T08:13:56.259083Z"
    }
   },
   "cell_type": "code",
   "source": [
    "# hash()\n",
    "print(\"hash():\")\n",
    "print(hash(10))\n",
    "print(hash(\"hello\"))\n"
   ],
   "id": "2976a73b5bae5eff",
   "outputs": [
    {
     "name": "stdout",
     "output_type": "stream",
     "text": [
      "hash():\n",
      "10\n",
      "-3206831017568535195\n"
     ]
    }
   ],
   "execution_count": 155
  },
  {
   "metadata": {
    "ExecuteTime": {
     "end_time": "2025-06-30T08:15:26.286619Z",
     "start_time": "2025-06-30T08:15:26.214023Z"
    }
   },
   "cell_type": "code",
   "source": [
    "# help()\n",
    "print(\"help():\")\n",
    "help(print)"
   ],
   "id": "6ced117e95666b18",
   "outputs": [
    {
     "name": "stdout",
     "output_type": "stream",
     "text": [
      "help():\n",
      "Help on built-in function print in module builtins:\n",
      "\n",
      "print(*args, sep=' ', end='\\n', file=None, flush=False)\n",
      "    Prints the values to a stream, or to sys.stdout by default.\n",
      "\n",
      "    sep\n",
      "      string inserted between values, default a space.\n",
      "    end\n",
      "      string appended after the last value, default a newline.\n",
      "    file\n",
      "      a file-like object (stream); defaults to the current sys.stdout.\n",
      "    flush\n",
      "      whether to forcibly flush the stream.\n",
      "\n"
     ]
    }
   ],
   "execution_count": 157
  },
  {
   "metadata": {
    "ExecuteTime": {
     "end_time": "2025-06-30T08:15:45.206118Z",
     "start_time": "2025-06-30T08:15:45.178299Z"
    }
   },
   "cell_type": "code",
   "source": [
    "# hex()\n",
    "print(\"hex():\")\n",
    "print(hex(255))\n",
    "print(hex(10))"
   ],
   "id": "2647d4e17505c89d",
   "outputs": [
    {
     "name": "stdout",
     "output_type": "stream",
     "text": [
      "hex():\n",
      "0xff\n",
      "0xa\n"
     ]
    }
   ],
   "execution_count": 158
  },
  {
   "metadata": {
    "ExecuteTime": {
     "end_time": "2025-06-30T08:15:53.726248Z",
     "start_time": "2025-06-30T08:15:53.663303Z"
    }
   },
   "cell_type": "code",
   "source": [
    "# id()\n",
    "print(\"id():\")\n",
    "a = 10\n",
    "b = 10\n",
    "c = 20\n",
    "print(id(a))\n",
    "print(id(b))\n",
    "print(id(c))"
   ],
   "id": "6aa5ea9ca09d47bf",
   "outputs": [
    {
     "name": "stdout",
     "output_type": "stream",
     "text": [
      "id():\n",
      "139750368370384\n",
      "139750368370384\n",
      "139750368370704\n"
     ]
    }
   ],
   "execution_count": 159
  },
  {
   "metadata": {
    "ExecuteTime": {
     "end_time": "2025-06-30T08:16:51.557893Z",
     "start_time": "2025-06-30T08:16:51.528794Z"
    }
   },
   "cell_type": "code",
   "source": [
    "# input()\n",
    "print(\"input(): used to take input from user as string\")\n",
    "# s = input()"
   ],
   "id": "c799559e05daaace",
   "outputs": [
    {
     "name": "stdout",
     "output_type": "stream",
     "text": [
      "input(): used to take input from user as string\n"
     ]
    }
   ],
   "execution_count": 160
  },
  {
   "metadata": {
    "ExecuteTime": {
     "end_time": "2025-06-30T08:17:04.176736Z",
     "start_time": "2025-06-30T08:17:04.138558Z"
    }
   },
   "cell_type": "code",
   "source": [
    "# int()\n",
    "print(\"int():\")\n",
    "print(int(3.14))\n",
    "print(int(\"123\"))\n",
    "print(int(\"101\", 2))"
   ],
   "id": "c95e156413b29f4a",
   "outputs": [
    {
     "name": "stdout",
     "output_type": "stream",
     "text": [
      "int():\n",
      "3\n",
      "123\n",
      "5\n"
     ]
    }
   ],
   "execution_count": 161
  },
  {
   "metadata": {
    "ExecuteTime": {
     "end_time": "2025-06-30T08:17:15.635953Z",
     "start_time": "2025-06-30T08:17:15.608714Z"
    }
   },
   "cell_type": "code",
   "source": [
    "# isinstance()\n",
    "print(\"isinstance():\")\n",
    "print(isinstance(10, int))\n",
    "print(isinstance(\"hello\", str))\n",
    "print(isinstance([], list))\n",
    "print(isinstance(10, float))"
   ],
   "id": "85bcd8c8bd66fa68",
   "outputs": [
    {
     "name": "stdout",
     "output_type": "stream",
     "text": [
      "isinstance():\n",
      "True\n",
      "True\n",
      "True\n",
      "False\n"
     ]
    }
   ],
   "execution_count": 162
  },
  {
   "metadata": {
    "ExecuteTime": {
     "end_time": "2025-06-30T08:17:24.161405Z",
     "start_time": "2025-06-30T08:17:24.137882Z"
    }
   },
   "cell_type": "code",
   "source": [
    "# issubclass()\n",
    "print(\"issubclass():\")\n",
    "class Animal: pass\n",
    "class Dog(Animal): pass\n",
    "print(issubclass(Dog, Animal))\n",
    "print(issubclass(Animal, Dog))\n",
    "print(issubclass(Dog, object))"
   ],
   "id": "5cc1423af698dba0",
   "outputs": [
    {
     "name": "stdout",
     "output_type": "stream",
     "text": [
      "issubclass():\n",
      "True\n",
      "False\n",
      "True\n"
     ]
    }
   ],
   "execution_count": 163
  },
  {
   "metadata": {
    "ExecuteTime": {
     "end_time": "2025-06-30T08:17:35.095958Z",
     "start_time": "2025-06-30T08:17:35.075612Z"
    }
   },
   "cell_type": "code",
   "source": [
    "# iter()\n",
    "print(\"iter():\")\n",
    "my_list = [1, 2, 3]\n",
    "my_iter = iter(my_list)\n",
    "print(next(my_iter))\n",
    "print(next(my_iter))\n",
    "try:\n",
    "    print(next(my_iter))\n",
    "    print(next(my_iter))\n",
    "except StopIteration:\n",
    "    print(\"StopIteration caught as expected.\")"
   ],
   "id": "a530e5339d02224a",
   "outputs": [
    {
     "name": "stdout",
     "output_type": "stream",
     "text": [
      "iter():\n",
      "1\n",
      "2\n",
      "3\n",
      "StopIteration caught as expected.\n"
     ]
    }
   ],
   "execution_count": 164
  },
  {
   "metadata": {
    "ExecuteTime": {
     "end_time": "2025-06-30T08:17:57.448201Z",
     "start_time": "2025-06-30T08:17:57.426148Z"
    }
   },
   "cell_type": "code",
   "source": [
    "# len()\n",
    "print(\"len():\")\n",
    "print(len(\"hello\"))\n",
    "print(len([1, 2, 3]))\n",
    "print(len({\"a\": 1}))"
   ],
   "id": "4fec66701c6ee6d",
   "outputs": [
    {
     "name": "stdout",
     "output_type": "stream",
     "text": [
      "len():\n",
      "5\n",
      "3\n",
      "1\n"
     ]
    }
   ],
   "execution_count": 165
  },
  {
   "metadata": {
    "ExecuteTime": {
     "end_time": "2025-06-30T08:18:03.442623Z",
     "start_time": "2025-06-30T08:18:03.400475Z"
    }
   },
   "cell_type": "code",
   "source": [
    "# list()\n",
    "print(\"list():\")\n",
    "my_tuple = (1, 2, 3)\n",
    "my_list = list(my_tuple)\n",
    "print(my_list)\n",
    "my_string = \"abc\"\n",
    "my_list_from_string = list(my_string)\n",
    "print(my_list_from_string)"
   ],
   "id": "70acc6ff98c05282",
   "outputs": [
    {
     "name": "stdout",
     "output_type": "stream",
     "text": [
      "list():\n",
      "[1, 2, 3]\n",
      "['a', 'b', 'c']\n"
     ]
    }
   ],
   "execution_count": 166
  },
  {
   "metadata": {
    "ExecuteTime": {
     "end_time": "2025-06-30T08:18:11.024122Z",
     "start_time": "2025-06-30T08:18:11.005798Z"
    }
   },
   "cell_type": "code",
   "source": [
    "# locals()\n",
    "print(\"locals():\")\n",
    "def my_function():\n",
    "    local_var = 50\n",
    "    print('local_var' in locals())\n",
    "my_function()"
   ],
   "id": "385ffd9d7c3cefc1",
   "outputs": [
    {
     "name": "stdout",
     "output_type": "stream",
     "text": [
      "locals():\n",
      "True\n"
     ]
    }
   ],
   "execution_count": 167
  },
  {
   "metadata": {
    "ExecuteTime": {
     "end_time": "2025-06-30T08:18:16.142368Z",
     "start_time": "2025-06-30T08:18:16.107710Z"
    }
   },
   "cell_type": "code",
   "source": [
    "# map()\n",
    "print(\"map():\")\n",
    "numbers = [1, 2, 3, 4]\n",
    "squared_numbers = list(map(lambda x: x * x, numbers))\n",
    "print(squared_numbers)"
   ],
   "id": "d0ad2fe937032da5",
   "outputs": [
    {
     "name": "stdout",
     "output_type": "stream",
     "text": [
      "map():\n",
      "[1, 4, 9, 16]\n"
     ]
    }
   ],
   "execution_count": 168
  },
  {
   "metadata": {
    "ExecuteTime": {
     "end_time": "2025-06-30T08:18:22.173363Z",
     "start_time": "2025-06-30T08:18:22.136213Z"
    }
   },
   "cell_type": "code",
   "source": [
    "# max()\n",
    "print(\"max():\")\n",
    "print(max(1, 5, 2))\n",
    "print(max([10, 20, 5]))\n",
    "print(max(\"apple\", \"banana\"))"
   ],
   "id": "5efcb7a9cc844870",
   "outputs": [
    {
     "name": "stdout",
     "output_type": "stream",
     "text": [
      "max():\n",
      "5\n",
      "20\n",
      "banana\n"
     ]
    }
   ],
   "execution_count": 169
  },
  {
   "metadata": {
    "ExecuteTime": {
     "end_time": "2025-06-30T08:18:37.212702Z",
     "start_time": "2025-06-30T08:18:37.190044Z"
    }
   },
   "cell_type": "code",
   "source": [
    "# memoryview()\n",
    "print(\"memoryview():\")\n",
    "data = bytearray(b'hello')\n",
    "mv = memoryview(data)\n",
    "print(mv[0])\n",
    "print(mv[1:3])\n",
    "print(mv.tobytes())"
   ],
   "id": "b6a04ba375472c67",
   "outputs": [
    {
     "name": "stdout",
     "output_type": "stream",
     "text": [
      "memoryview():\n",
      "104\n",
      "<memory at 0x7f1a100fe5c0>\n",
      "b'hello'\n"
     ]
    }
   ],
   "execution_count": 170
  },
  {
   "metadata": {
    "ExecuteTime": {
     "end_time": "2025-06-30T08:18:46.109562Z",
     "start_time": "2025-06-30T08:18:46.077883Z"
    }
   },
   "cell_type": "code",
   "source": [
    "# min()\n",
    "print(\"min():\")\n",
    "print(min(1, 5, 2))\n",
    "print(min([10, 20, 5]))\n",
    "print(min(\"apple\", \"banana\"))"
   ],
   "id": "3fb3bced2c2f6cdc",
   "outputs": [
    {
     "name": "stdout",
     "output_type": "stream",
     "text": [
      "min():\n",
      "1\n",
      "5\n",
      "apple\n"
     ]
    }
   ],
   "execution_count": 171
  },
  {
   "metadata": {
    "ExecuteTime": {
     "end_time": "2025-06-30T08:18:54.025471Z",
     "start_time": "2025-06-30T08:18:54.010496Z"
    }
   },
   "cell_type": "code",
   "source": [
    "# next()\n",
    "print(\"next():\")\n",
    "my_iter = iter([10, 20, 30])\n",
    "print(next(my_iter))\n",
    "print(next(my_iter))\n",
    "try:\n",
    "    print(next(my_iter))\n",
    "    print(next(my_iter))\n",
    "except StopIteration:\n",
    "    print(\"StopIteration caught as expected.\")"
   ],
   "id": "1ca5f01fa339e822",
   "outputs": [
    {
     "name": "stdout",
     "output_type": "stream",
     "text": [
      "next():\n",
      "10\n",
      "20\n",
      "30\n",
      "StopIteration caught as expected.\n"
     ]
    }
   ],
   "execution_count": 172
  },
  {
   "metadata": {
    "ExecuteTime": {
     "end_time": "2025-06-30T08:19:00.497760Z",
     "start_time": "2025-06-30T08:19:00.480045Z"
    }
   },
   "cell_type": "code",
   "source": [
    "# object()\n",
    "print(\"object():\")\n",
    "obj = object()\n",
    "print(type(obj))"
   ],
   "id": "ff63835f446511d9",
   "outputs": [
    {
     "name": "stdout",
     "output_type": "stream",
     "text": [
      "object():\n",
      "<class 'object'>\n"
     ]
    }
   ],
   "execution_count": 173
  },
  {
   "metadata": {
    "ExecuteTime": {
     "end_time": "2025-06-30T08:19:09.411186Z",
     "start_time": "2025-06-30T08:19:09.382284Z"
    }
   },
   "cell_type": "code",
   "source": [
    "# oct()\n",
    "print(\"oct():\")\n",
    "print(oct(8))\n",
    "print(oct(15))"
   ],
   "id": "1f222cc85f836e84",
   "outputs": [
    {
     "name": "stdout",
     "output_type": "stream",
     "text": [
      "oct():\n",
      "0o10\n",
      "0o17\n"
     ]
    }
   ],
   "execution_count": 174
  },
  {
   "metadata": {
    "ExecuteTime": {
     "end_time": "2025-06-30T08:19:23.783521Z",
     "start_time": "2025-06-30T08:19:23.742815Z"
    }
   },
   "cell_type": "code",
   "source": [
    "# open()\n",
    "print(\"open():\")\n",
    "with open(\"my_file.txt\", \"w\") as f:\n",
    "    f.write(\"Hello, world!\\n\")\n",
    "    f.write(\"This is a test.\")\n",
    "\n",
    "with open(\"my_file.txt\", \"r\") as f:\n",
    "    content = f.read()\n",
    "    print(content)\n",
    "import os\n",
    "os.remove(\"my_file.txt\")"
   ],
   "id": "2c7a5946d2ed2891",
   "outputs": [
    {
     "name": "stdout",
     "output_type": "stream",
     "text": [
      "open():\n",
      "Hello, world!\n",
      "This is a test.\n"
     ]
    }
   ],
   "execution_count": 175
  },
  {
   "metadata": {
    "ExecuteTime": {
     "end_time": "2025-06-30T08:19:33.353885Z",
     "start_time": "2025-06-30T08:19:33.327043Z"
    }
   },
   "cell_type": "code",
   "source": [
    "# ord()\n",
    "print(\"ord():\")\n",
    "print(ord('A'))\n",
    "print(ord('z'))"
   ],
   "id": "526a3872d3ff389f",
   "outputs": [
    {
     "name": "stdout",
     "output_type": "stream",
     "text": [
      "ord():\n",
      "65\n",
      "122\n"
     ]
    }
   ],
   "execution_count": 176
  },
  {
   "metadata": {
    "ExecuteTime": {
     "end_time": "2025-06-30T08:20:56.488298Z",
     "start_time": "2025-06-30T08:20:56.468874Z"
    }
   },
   "cell_type": "code",
   "source": [
    "# pow()\n",
    "print(\"pow():\")\n",
    "print(pow(2, 3))\n",
    "print(pow(2, 3, 3)) # same as (2**3)%3"
   ],
   "id": "a7ab2a48e72a552b",
   "outputs": [
    {
     "name": "stdout",
     "output_type": "stream",
     "text": [
      "pow():\n",
      "8\n",
      "2\n"
     ]
    }
   ],
   "execution_count": 178
  },
  {
   "metadata": {
    "ExecuteTime": {
     "end_time": "2025-06-30T08:21:07.110535Z",
     "start_time": "2025-06-30T08:21:07.088863Z"
    }
   },
   "cell_type": "code",
   "source": [
    "# print()\n",
    "print(\"print():\")\n",
    "print(\"Hello\", \"Python\")\n",
    "print(1, 2, 3, sep='-')\n",
    "print(\"Done\", end='!\\n')"
   ],
   "id": "70910748d26843f3",
   "outputs": [
    {
     "name": "stdout",
     "output_type": "stream",
     "text": [
      "print():\n",
      "Hello Python\n",
      "1-2-3\n",
      "Done!\n"
     ]
    }
   ],
   "execution_count": 179
  },
  {
   "metadata": {
    "ExecuteTime": {
     "end_time": "2025-06-30T08:21:23.097096Z",
     "start_time": "2025-06-30T08:21:23.045828Z"
    }
   },
   "cell_type": "code",
   "source": [
    "# property()\n",
    "print(\"property():\")\n",
    "class Circle:\n",
    "    def __init__(self, radius):\n",
    "        self._radius = radius\n",
    "\n",
    "    def get_radius(self):\n",
    "        return self._radius\n",
    "\n",
    "    def set_radius(self, value):\n",
    "        if value < 0:\n",
    "            raise ValueError(\"Radius cannot be negative\")\n",
    "        self._radius = value\n",
    "\n",
    "    radius = property(get_radius, set_radius)\n",
    "\n",
    "c = Circle(5)\n",
    "print(c.radius)\n",
    "c.radius = 10\n",
    "print(c.radius)\n",
    "try:\n",
    "    c.radius = -1\n",
    "except ValueError as e:\n",
    "    print(f\"Error: {e}\")"
   ],
   "id": "8c0eb0fcfb8532e2",
   "outputs": [
    {
     "name": "stdout",
     "output_type": "stream",
     "text": [
      "property():\n",
      "5\n",
      "10\n",
      "Error: Radius cannot be negative\n"
     ]
    }
   ],
   "execution_count": 181
  },
  {
   "metadata": {
    "ExecuteTime": {
     "end_time": "2025-06-30T08:21:32.223757Z",
     "start_time": "2025-06-30T08:21:32.202677Z"
    }
   },
   "cell_type": "code",
   "source": [
    "# range()\n",
    "print(\"range():\")\n",
    "for i in range(3):\n",
    "    print(i, end=' ')\n",
    "print()\n",
    "print(list(range(2, 7)))\n",
    "print(list(range(10, 0, -2)))"
   ],
   "id": "fa0812682b098c43",
   "outputs": [
    {
     "name": "stdout",
     "output_type": "stream",
     "text": [
      "range():\n",
      "0 1 2 \n",
      "[2, 3, 4, 5, 6]\n",
      "[10, 8, 6, 4, 2]\n"
     ]
    }
   ],
   "execution_count": 182
  },
  {
   "metadata": {
    "ExecuteTime": {
     "end_time": "2025-06-30T08:21:37.459234Z",
     "start_time": "2025-06-30T08:21:37.433710Z"
    }
   },
   "cell_type": "code",
   "source": [
    "# repr()\n",
    "print(\"repr():\")\n",
    "my_list = [1, 2, 'hello']\n",
    "print(repr(my_list))"
   ],
   "id": "8e3a727308093b9c",
   "outputs": [
    {
     "name": "stdout",
     "output_type": "stream",
     "text": [
      "repr():\n",
      "[1, 2, 'hello']\n"
     ]
    }
   ],
   "execution_count": 183
  },
  {
   "metadata": {
    "ExecuteTime": {
     "end_time": "2025-06-30T08:22:02.855095Z",
     "start_time": "2025-06-30T08:22:02.816081Z"
    }
   },
   "cell_type": "code",
   "source": [
    "# reversed()\n",
    "print(\"reversed():\")\n",
    "my_string = \"python\"\n",
    "reversed_string = ''.join(reversed(my_string))\n",
    "print(reversed_string)\n",
    "my_list = [1, 2, 3]\n",
    "print(list(reversed(my_list)))"
   ],
   "id": "aa9a18b70814d0ca",
   "outputs": [
    {
     "name": "stdout",
     "output_type": "stream",
     "text": [
      "reversed():\n",
      "nohtyp\n",
      "[3, 2, 1]\n"
     ]
    }
   ],
   "execution_count": 185
  },
  {
   "metadata": {
    "ExecuteTime": {
     "end_time": "2025-06-30T08:22:25.541019Z",
     "start_time": "2025-06-30T08:22:25.513465Z"
    }
   },
   "cell_type": "code",
   "source": [
    "# round()\n",
    "print(\"round():\")\n",
    "print(round(3.14159))\n",
    "print(round(3.14159, 2))\n",
    "print(round(2.5))\n",
    "print(round(3.5))"
   ],
   "id": "21af7488d76a93a7",
   "outputs": [
    {
     "name": "stdout",
     "output_type": "stream",
     "text": [
      "round():\n",
      "3\n",
      "3.14\n",
      "2\n",
      "4\n"
     ]
    }
   ],
   "execution_count": 186
  },
  {
   "metadata": {
    "ExecuteTime": {
     "end_time": "2025-06-30T08:22:38.298038Z",
     "start_time": "2025-06-30T08:22:38.274260Z"
    }
   },
   "cell_type": "code",
   "source": [
    "# set()\n",
    "print(\"set():\")\n",
    "s1 = set([1, 2, 3, 2])\n",
    "print(s1)\n",
    "s2 = {3, 4, 5}\n",
    "print(s1.union(s2))"
   ],
   "id": "ec01eab476465842",
   "outputs": [
    {
     "name": "stdout",
     "output_type": "stream",
     "text": [
      "set():\n",
      "{1, 2, 3}\n",
      "{1, 2, 3, 4, 5}\n"
     ]
    }
   ],
   "execution_count": 188
  },
  {
   "metadata": {
    "ExecuteTime": {
     "end_time": "2025-06-30T08:22:46.239683Z",
     "start_time": "2025-06-30T08:22:46.195316Z"
    }
   },
   "cell_type": "code",
   "source": [
    "# setattr()\n",
    "print(\"setattr():\")\n",
    "class Dog:\n",
    "    def __init__(self, name):\n",
    "        self.name = name\n",
    "my_dog = Dog(\"Buddy\")\n",
    "print(my_dog.name)\n",
    "setattr(my_dog, 'age', 5)\n",
    "print(my_dog.age)"
   ],
   "id": "8e0914b7a08ac1e",
   "outputs": [
    {
     "name": "stdout",
     "output_type": "stream",
     "text": [
      "setattr():\n",
      "Buddy\n",
      "5\n"
     ]
    }
   ],
   "execution_count": 189
  },
  {
   "metadata": {
    "ExecuteTime": {
     "end_time": "2025-06-30T08:23:07.083576Z",
     "start_time": "2025-06-30T08:23:07.046400Z"
    }
   },
   "cell_type": "code",
   "source": [
    "# slice()\n",
    "print(\"slice():\")\n",
    "my_list = [0, 1, 2, 3, 4, 5, 6, 7, 8, 9]\n",
    "s = slice(2, 7, 2)\n",
    "print(my_list[s])\n",
    "print(my_list[slice(5)])"
   ],
   "id": "7109e1fb0427731b",
   "outputs": [
    {
     "name": "stdout",
     "output_type": "stream",
     "text": [
      "slice():\n",
      "[2, 4, 6]\n",
      "[0, 1, 2, 3, 4]\n"
     ]
    }
   ],
   "execution_count": 191
  },
  {
   "metadata": {
    "ExecuteTime": {
     "end_time": "2025-06-30T08:23:15.116434Z",
     "start_time": "2025-06-30T08:23:15.083164Z"
    }
   },
   "cell_type": "code",
   "source": [
    "# slice()\n",
    "print(\"slice():\")\n",
    "my_list = [0, 1, 2, 3, 4, 5, 6, 7, 8, 9]\n",
    "s = slice(2, 7, 2)\n",
    "print(my_list[s])\n",
    "print(my_list[slice(5)])"
   ],
   "id": "42f36538cb4d0177",
   "outputs": [
    {
     "name": "stdout",
     "output_type": "stream",
     "text": [
      "slice():\n",
      "[2, 4, 6]\n",
      "[0, 1, 2, 3, 4]\n"
     ]
    }
   ],
   "execution_count": 192
  },
  {
   "metadata": {
    "ExecuteTime": {
     "end_time": "2025-06-30T08:23:32.644816Z",
     "start_time": "2025-06-30T08:23:32.610937Z"
    }
   },
   "cell_type": "code",
   "source": [
    "# sorted()\n",
    "print(\"sorted():\")\n",
    "numbers = [3, 1, 4, 1, 5, 9, 2]\n",
    "print(sorted(numbers))\n",
    "print(sorted(numbers, reverse=True))\n",
    "words = [\"banana\", \"apple\", \"cherry\"]\n",
    "print(sorted(words, key=len))"
   ],
   "id": "5302252f5de0ffab",
   "outputs": [
    {
     "name": "stdout",
     "output_type": "stream",
     "text": [
      "sorted():\n",
      "[1, 1, 2, 3, 4, 5, 9]\n",
      "[9, 5, 4, 3, 2, 1, 1]\n",
      "['apple', 'banana', 'cherry']\n"
     ]
    }
   ],
   "execution_count": 193
  },
  {
   "metadata": {
    "ExecuteTime": {
     "end_time": "2025-06-30T08:23:39.171214Z",
     "start_time": "2025-06-30T08:23:39.138582Z"
    }
   },
   "cell_type": "code",
   "source": [
    "# staticmethod()\n",
    "print(\"staticmethod():\")\n",
    "class MathOperations:\n",
    "    @staticmethod\n",
    "    def add(a, b):\n",
    "        return a + b\n",
    "\n",
    "print(MathOperations.add(5, 3))"
   ],
   "id": "b85aca5638b9ac10",
   "outputs": [
    {
     "name": "stdout",
     "output_type": "stream",
     "text": [
      "staticmethod():\n",
      "8\n"
     ]
    }
   ],
   "execution_count": 194
  },
  {
   "metadata": {
    "ExecuteTime": {
     "end_time": "2025-06-30T08:23:45.782402Z",
     "start_time": "2025-06-30T08:23:45.760301Z"
    }
   },
   "cell_type": "code",
   "source": [
    "# str()\n",
    "print(\"str():\")\n",
    "print(str(123))\n",
    "print(str(3.14))\n",
    "print(str([1, 2]))"
   ],
   "id": "64814dc23e48d5f2",
   "outputs": [
    {
     "name": "stdout",
     "output_type": "stream",
     "text": [
      "str():\n",
      "123\n",
      "3.14\n",
      "[1, 2]\n"
     ]
    }
   ],
   "execution_count": 195
  },
  {
   "metadata": {
    "ExecuteTime": {
     "end_time": "2025-06-30T08:25:41.371298Z",
     "start_time": "2025-06-30T08:25:41.348294Z"
    }
   },
   "cell_type": "code",
   "source": [
    "# sum()\n",
    "print(\"sum():\")\n",
    "print(sum([1, 2, 3, 4]))\n",
    "print(sum([10, 20], 5))"
   ],
   "id": "a9994df3d54f57a",
   "outputs": [
    {
     "name": "stdout",
     "output_type": "stream",
     "text": [
      "sum():\n",
      "10\n",
      "35\n"
     ]
    }
   ],
   "execution_count": 196
  },
  {
   "metadata": {
    "ExecuteTime": {
     "end_time": "2025-06-30T08:26:00.663044Z",
     "start_time": "2025-06-30T08:26:00.644265Z"
    }
   },
   "cell_type": "code",
   "source": [
    "# super()\n",
    "print(\"super():\")\n",
    "class Parent:\n",
    "    def greet(self):\n",
    "        print(\"Hello from Parent\")\n",
    "\n",
    "class Child(Parent):\n",
    "    def greet(self):\n",
    "        super().greet()\n",
    "        print(\"Hello from Child\")\n",
    "\n",
    "c = Child()\n",
    "c.greet()"
   ],
   "id": "1e6e8d3dce9e3669",
   "outputs": [
    {
     "name": "stdout",
     "output_type": "stream",
     "text": [
      "super():\n",
      "Hello from Parent\n",
      "Hello from Child\n"
     ]
    }
   ],
   "execution_count": 197
  },
  {
   "metadata": {
    "ExecuteTime": {
     "end_time": "2025-06-30T08:26:10.396160Z",
     "start_time": "2025-06-30T08:26:10.367176Z"
    }
   },
   "cell_type": "code",
   "source": [
    "# tuple()\n",
    "print(\"tuple():\")\n",
    "my_list = [1, 2, 3]\n",
    "my_tuple = tuple(my_list)\n",
    "print(my_tuple)\n",
    "my_string = \"hello\"\n",
    "my_tuple_from_string = tuple(my_string)\n",
    "print(my_tuple_from_string)"
   ],
   "id": "e5eb6cbcce725508",
   "outputs": [
    {
     "name": "stdout",
     "output_type": "stream",
     "text": [
      "tuple():\n",
      "(1, 2, 3)\n",
      "('h', 'e', 'l', 'l', 'o')\n"
     ]
    }
   ],
   "execution_count": 198
  },
  {
   "metadata": {
    "ExecuteTime": {
     "end_time": "2025-06-30T08:26:14.891130Z",
     "start_time": "2025-06-30T08:26:14.852144Z"
    }
   },
   "cell_type": "code",
   "source": [
    "# type()\n",
    "print(\"type():\")\n",
    "print(type(10))\n",
    "print(type(\"abc\"))\n",
    "print(type([]))"
   ],
   "id": "6441a47bfe3224d2",
   "outputs": [
    {
     "name": "stdout",
     "output_type": "stream",
     "text": [
      "type():\n",
      "<class 'int'>\n",
      "<class 'str'>\n",
      "<class 'list'>\n"
     ]
    }
   ],
   "execution_count": 199
  },
  {
   "metadata": {
    "ExecuteTime": {
     "end_time": "2025-06-30T08:26:29.902402Z",
     "start_time": "2025-06-30T08:26:29.854342Z"
    }
   },
   "cell_type": "code",
   "source": [
    "# vars()\n",
    "print(\"vars():\")\n",
    "class MyClassVars:\n",
    "    def __init__(self, x, y):\n",
    "        self.x = x\n",
    "        self.y = y\n",
    "obj = MyClassVars(10, 20)\n",
    "print(vars(obj))"
   ],
   "id": "5ce845e98b1b4942",
   "outputs": [
    {
     "name": "stdout",
     "output_type": "stream",
     "text": [
      "vars():\n",
      "{'x': 10, 'y': 20}\n"
     ]
    }
   ],
   "execution_count": 200
  },
  {
   "metadata": {
    "ExecuteTime": {
     "end_time": "2025-06-30T08:27:14.451015Z",
     "start_time": "2025-06-30T08:27:14.407947Z"
    }
   },
   "cell_type": "code",
   "source": [
    "# zip()\n",
    "print(\"zip():\")\n",
    "names = [\"Alice\", \"Bob\", \"Charlie\"]\n",
    "ages = [25, 30, 35]\n",
    "zipped_data = list(zip(names, ages))\n",
    "print(zipped_data)\n",
    "\n",
    "numbers = [1, 2, 3]\n",
    "letters = ['a', 'b', 'c', 'd']\n",
    "zipped_short = list(zip(numbers, letters))\n",
    "print(zipped_short)"
   ],
   "id": "be61752ceae7030a",
   "outputs": [
    {
     "name": "stdout",
     "output_type": "stream",
     "text": [
      "zip():\n",
      "[('Alice', 25), ('Bob', 30), ('Charlie', 35)]\n",
      "[(1, 'a'), (2, 'b'), (3, 'c')]\n"
     ]
    }
   ],
   "execution_count": 203
  },
  {
   "metadata": {
    "ExecuteTime": {
     "end_time": "2025-06-30T08:27:23.014916Z",
     "start_time": "2025-06-30T08:27:22.986578Z"
    }
   },
   "cell_type": "code",
   "source": [
    "# __import__()\n",
    "print(\"__import__():\")\n",
    "try:\n",
    "    math_module = __import__('math')\n",
    "    print(math_module.sqrt(16))\n",
    "except ImportError as e:\n",
    "    print(f\"Error importing module: {e}\")"
   ],
   "id": "894f545ed0463b86",
   "outputs": [
    {
     "name": "stdout",
     "output_type": "stream",
     "text": [
      "__import__():\n",
      "4.0\n"
     ]
    }
   ],
   "execution_count": 204
  },
  {
   "metadata": {
    "ExecuteTime": {
     "end_time": "2025-06-30T08:27:28.104806Z",
     "start_time": "2025-06-30T08:27:28.089899Z"
    }
   },
   "cell_type": "code",
   "source": "",
   "id": "fc969582d23e87fc",
   "outputs": [],
   "execution_count": null
  },
  {
   "metadata": {
    "ExecuteTime": {
     "end_time": "2025-06-30T08:27:29.451326Z",
     "start_time": "2025-06-30T08:27:29.424255Z"
    }
   },
   "cell_type": "code",
   "source": "",
   "id": "f8603a04fb2c2cc3",
   "outputs": [],
   "execution_count": null
  },
  {
   "metadata": {},
   "cell_type": "code",
   "outputs": [],
   "execution_count": null,
   "source": "",
   "id": "3c12730348b99678"
  }
 ],
 "metadata": {
  "kernelspec": {
   "display_name": "Python 3",
   "language": "python",
   "name": "python3"
  },
  "language_info": {
   "codemirror_mode": {
    "name": "ipython",
    "version": 2
   },
   "file_extension": ".py",
   "mimetype": "text/x-python",
   "name": "python",
   "nbconvert_exporter": "python",
   "pygments_lexer": "ipython2",
   "version": "2.7.6"
  }
 },
 "nbformat": 4,
 "nbformat_minor": 5
}
