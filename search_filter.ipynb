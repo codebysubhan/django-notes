{
 "cells": [
  {
   "cell_type": "markdown",
   "metadata": {},
   "source": [
    "# 🔍 SearchFilter in Django REST Framework (DRF)\n",
    "\n",
    "`SearchFilter` is a built-in filter backend in DRF that allows you to perform simple text-based searches using a query parameter like:\n",
    "\n",
    "```bash\n",
    "/api/students/?search=John\n",
    "```"
   ]
  },
  {
   "cell_type": "markdown",
   "metadata": {},
   "source": [
    "## ⚙️ How SearchFilter Works\n",
    "\n",
    "- It searches across the fields defined in the `search_fields` list.\n",
    "- The query string parameter is always `?search=...`.\n",
    "- It's **case-insensitive** and supports **partial matches**.\n",
    "- You can match substrings like `\"Joh\"` which will match `\"John\"`."
   ]
  },
  {
   "cell_type": "markdown",
   "metadata": {},
   "source": [
    "## 🔧 How to Use SearchFilter in a ViewSet\n",
    "\n",
    "### Step 1: Import and apply it"
   ]
  },
  {
   "cell_type": "code",
   "execution_count": null,
   "metadata": {},
   "outputs": [],
   "source": [
    "from rest_framework.filters import SearchFilter"
   ]
  },
  {
   "cell_type": "markdown",
   "metadata": {},
   "source": [
    "### Step 2: Configure it in your ViewSet"
   ]
  },
  {
   "cell_type": "code",
   "execution_count": null,
   "metadata": {},
   "outputs": [],
   "source": [
    "from rest_framework import viewsets\n",
    "from .models import Student\n",
    "from .serializers import StudentSerializer\n",
    "from rest_framework.filters import SearchFilter\n",
    "\n",
    "class StudentViewSet(viewsets.ModelViewSet):\n",
    "    queryset = Student.objects.all()\n",
    "    serializer_class = StudentSerializer\n",
    "    filter_backends = [SearchFilter]\n",
    "    search_fields = ['name', 'grade']  # fields to search in"
   ]
  },
  {
   "cell_type": "markdown",
   "metadata": {},
   "source": [
    "## 🧪 Example API URLs\n",
    "\n",
    "| URL | Result |\n",
    "|-----|--------|\n",
    "| `/api/students/?search=John` | All students with name John |\n",
    "| `/api/students/?search=10` | Students with grade 10 (if text) |\n",
    "| `/api/students/?search=jo` | Matches names like John, Joey |"
   ]
  },
  {
   "cell_type": "markdown",
   "metadata": {},
   "source": [
    "## 💡 Notes on Prefixes\n",
    "\n",
    "You can use `^` and `=` prefixes in `search_fields`:\n",
    "\n",
    "```python\n",
    "search_fields = ['^name']  # startswith\n",
    "search_fields = ['=name']  # exact match\n",
    "```"
   ]
  },
  {
   "cell_type": "markdown",
   "metadata": {},
   "source": [
    "## 🔀 Combining with OrderingFilter\n",
    "\n",
    "```python\n",
    "from rest_framework.filters import OrderingFilter\n",
    "\n",
    "filter_backends = [SearchFilter, OrderingFilter]\n",
    "```"
   ]
  },
  {
   "cell_type": "markdown",
   "metadata": {},
   "source": [
    "## ⚙️ DRF settings.py configuration (optional customization)\n",
    "\n",
    "```python\n",
    "REST_FRAMEWORK = {\n",
    "    'SEARCH_PARAM': 'q'  # changes ?search= to ?q=\n",
    "}\n",
    "```"
   ]
  },
  {
   "cell_type": "markdown",
   "metadata": {},
   "source": [
    "## ✅ Summary\n",
    "\n",
    "| Feature            | SearchFilter       |\n",
    "|--------------------|--------------------|\n",
    "| Query param        | `?search=keyword`  |\n",
    "| Lookup             | Partial match (case-insensitive) |\n",
    "| Configuration      | `filter_backends`, `search_fields` |\n",
    "| Works on fields    | `CharField`, `TextField` or casted text |"
   ]
  }
 ],
 "metadata": {
  "kernelspec": {
   "display_name": "Python 3",
   "language": "python",
   "name": "python3"
  },
  "language_info": {
   "name": "python",
   "version": ""
  }
 },
 "nbformat": 4,
 "nbformat_minor": 5
}

