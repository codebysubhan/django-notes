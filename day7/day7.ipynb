{
 "cells": [
  {
   "cell_type": "code",
   "id": "initial_id",
   "metadata": {
    "collapsed": true,
    "ExecuteTime": {
     "end_time": "2025-06-30T07:23:19.261890Z",
     "start_time": "2025-06-30T07:23:19.237102Z"
    }
   },
   "source": [
    "# breakpoint()\n",
    "# the usage of this function is mainly for debugging\n",
    "# The primary use of breakpoint() is to facilitate debugging. By default, it invokes the pdb.set_trace() function, which launches the Python Debugger (pdb) at the point where breakpoint() is called. This allows for inspection of variables, step-through execution, and other debugging operations."
   ],
   "outputs": [],
   "execution_count": 88
  },
  {
   "metadata": {
    "ExecuteTime": {
     "end_time": "2025-06-30T07:23:19.693489Z",
     "start_time": "2025-06-30T07:23:19.667439Z"
    }
   },
   "cell_type": "code",
   "source": [
    "# array / bytearray vs list\n",
    "# array and bytearray provide a more low level view and control as compared to list and dict. They are direct contegious locations inside memory while list and dictionary are based upon references to objects. Lists and dict type data structures are more high approaches.\n"
   ],
   "id": "eab07dd5f8453ba5",
   "outputs": [],
   "execution_count": 89
  },
  {
   "metadata": {
    "ExecuteTime": {
     "end_time": "2025-06-30T07:23:20.390830Z",
     "start_time": "2025-06-30T07:23:20.378941Z"
    }
   },
   "cell_type": "code",
   "source": [
    "# cls refers to class itself\n",
    "# self refers to object itself\n",
    "# classmethod is more tightly bound with class as compared to staticmethod. With classmethod we can access and modify class data members while it's not possible with static method. Static method is mostly used to group the different logical methods into one wrapper i.e class."
   ],
   "id": "172a5ab9379c06de",
   "outputs": [],
   "execution_count": 90
  },
  {
   "metadata": {
    "ExecuteTime": {
     "end_time": "2025-06-30T07:23:21.137414Z",
     "start_time": "2025-06-30T07:23:21.124194Z"
    }
   },
   "cell_type": "code",
   "source": [
    "# Use @classmethod when your method needs to know about the class it belongs to.\n",
    "# Use @staticmethod when your method doesn’t care about class or instance at all."
   ],
   "id": "4fa7857b72810701",
   "outputs": [],
   "execution_count": 91
  },
  {
   "metadata": {
    "ExecuteTime": {
     "end_time": "2025-06-30T07:23:21.366276Z",
     "start_time": "2025-06-30T07:23:21.351561Z"
    }
   },
   "cell_type": "code",
   "source": [
    "# When Python runs your script, it compiles source code into bytecode (not visible to you directly).\n",
    "# compile() gives you a way to manually trigger this process.\n",
    "# code_obj = compile(\"x = 42\", \"<string>\", \"exec\")"
   ],
   "id": "ac6497c7023119ce",
   "outputs": [],
   "execution_count": 92
  },
  {
   "metadata": {
    "ExecuteTime": {
     "end_time": "2025-06-30T07:23:22.748291Z",
     "start_time": "2025-06-30T07:23:22.734506Z"
    }
   },
   "cell_type": "code",
   "source": [
    "# divmod(a, b)\n",
    "# (quotient, remainder)"
   ],
   "id": "d0994ce5bb1e21b1",
   "outputs": [],
   "execution_count": 93
  },
  {
   "metadata": {
    "ExecuteTime": {
     "end_time": "2025-06-30T07:23:23.318840Z",
     "start_time": "2025-06-30T07:23:23.300703Z"
    }
   },
   "cell_type": "code",
   "source": [
    "# memoryview\n",
    "# vars(p) same as p.__dict__ gives all the variables inside the obj or module."
   ],
   "id": "327a00d7daa50c5b",
   "outputs": [],
   "execution_count": 94
  },
  {
   "metadata": {
    "ExecuteTime": {
     "end_time": "2025-06-30T07:23:35.060800Z",
     "start_time": "2025-06-30T07:23:35.040616Z"
    }
   },
   "cell_type": "code",
   "source": "# bubble, selection, insertion, merge, quick",
   "id": "abbf229f3ad16216",
   "outputs": [],
   "execution_count": 95
  },
  {
   "metadata": {
    "ExecuteTime": {
     "end_time": "2025-06-30T07:23:36.516559Z",
     "start_time": "2025-06-30T07:23:36.479059Z"
    }
   },
   "cell_type": "code",
   "source": [
    "# bubble sort\n",
    "import random\n",
    "my_list = [random.randint(0, 100) for i in range(12)]\n",
    "my_list"
   ],
   "id": "a3b8a6132c42312a",
   "outputs": [
    {
     "data": {
      "text/plain": [
       "[2, 66, 79, 16, 23, 23, 61, 49, 50, 21, 76, 81]"
      ]
     },
     "execution_count": 96,
     "metadata": {},
     "output_type": "execute_result"
    }
   ],
   "execution_count": 96
  },
  {
   "metadata": {
    "ExecuteTime": {
     "end_time": "2025-06-30T07:23:37.173440Z",
     "start_time": "2025-06-30T07:23:37.155435Z"
    }
   },
   "cell_type": "code",
   "source": [
    "def bubble_sort(my_list):\n",
    "    for i in range(len(my_list) - 1):\n",
    "        for j in range(i + 1, len(my_list)):\n",
    "            if my_list[i] > my_list[j]:\n",
    "                my_list[i], my_list[j] = my_list[j], my_list[i]\n"
   ],
   "id": "d175c1fc40a594fd",
   "outputs": [],
   "execution_count": 97
  },
  {
   "metadata": {
    "ExecuteTime": {
     "end_time": "2025-06-30T07:23:37.823838Z",
     "start_time": "2025-06-30T07:23:37.810605Z"
    }
   },
   "cell_type": "code",
   "source": [
    "print('before: ', my_list)\n",
    "bubble_sort(my_list)\n",
    "print('after: ', my_list)"
   ],
   "id": "844333070d1846a0",
   "outputs": [
    {
     "name": "stdout",
     "output_type": "stream",
     "text": [
      "before:  [2, 66, 79, 16, 23, 23, 61, 49, 50, 21, 76, 81]\n",
      "after:  [2, 16, 21, 23, 23, 49, 50, 61, 66, 76, 79, 81]\n"
     ]
    }
   ],
   "execution_count": 98
  },
  {
   "metadata": {
    "ExecuteTime": {
     "end_time": "2025-06-30T07:23:38.370598Z",
     "start_time": "2025-06-30T07:23:38.360405Z"
    }
   },
   "cell_type": "code",
   "source": [
    "def is_sorted(iterable):\n",
    "    for i in range(len(iterable)-1):\n",
    "        if iterable[i] > iterable[i+1]:\n",
    "            return False\n",
    "    return True"
   ],
   "id": "799f5a5025fe7298",
   "outputs": [],
   "execution_count": 99
  },
  {
   "metadata": {
    "ExecuteTime": {
     "end_time": "2025-06-30T07:23:38.745398Z",
     "start_time": "2025-06-30T07:23:38.726509Z"
    }
   },
   "cell_type": "code",
   "source": "is_sorted(my_list)",
   "id": "a7a5a52a2813a5e5",
   "outputs": [
    {
     "data": {
      "text/plain": [
       "True"
      ]
     },
     "execution_count": 100,
     "metadata": {},
     "output_type": "execute_result"
    }
   ],
   "execution_count": 100
  },
  {
   "metadata": {
    "ExecuteTime": {
     "end_time": "2025-06-30T07:23:39.196183Z",
     "start_time": "2025-06-30T07:23:39.180494Z"
    }
   },
   "cell_type": "code",
   "source": [
    "# selection sort\n",
    "def selection_sort(my_list):\n",
    "    for i in range(len(my_list)):\n",
    "        index = i\n",
    "        for j in range(i+1, len(my_list)):\n",
    "            if my_list[j] < my_list[index]:\n",
    "                index = j\n",
    "        my_list[i], my_list[index] = my_list[index], my_list[i]\n"
   ],
   "id": "43a8a47f8a540ffb",
   "outputs": [],
   "execution_count": 101
  },
  {
   "metadata": {
    "ExecuteTime": {
     "end_time": "2025-06-30T07:23:39.880615Z",
     "start_time": "2025-06-30T07:23:39.854496Z"
    }
   },
   "cell_type": "code",
   "source": [
    "my_list1 = [random.randint(0, 100) for i in range(12)]\n",
    "my_list1"
   ],
   "id": "fc2c994f61773414",
   "outputs": [
    {
     "data": {
      "text/plain": [
       "[25, 63, 27, 12, 96, 60, 41, 19, 2, 40, 88, 19]"
      ]
     },
     "execution_count": 102,
     "metadata": {},
     "output_type": "execute_result"
    }
   ],
   "execution_count": 102
  },
  {
   "metadata": {
    "ExecuteTime": {
     "end_time": "2025-06-30T07:23:40.550561Z",
     "start_time": "2025-06-30T07:23:40.531936Z"
    }
   },
   "cell_type": "code",
   "source": "is_sorted(my_list1)",
   "id": "c717e150888980e7",
   "outputs": [
    {
     "data": {
      "text/plain": [
       "False"
      ]
     },
     "execution_count": 103,
     "metadata": {},
     "output_type": "execute_result"
    }
   ],
   "execution_count": 103
  },
  {
   "metadata": {
    "ExecuteTime": {
     "end_time": "2025-06-30T07:23:41.007695Z",
     "start_time": "2025-06-30T07:23:40.993385Z"
    }
   },
   "cell_type": "code",
   "source": "selection_sort(my_list1)",
   "id": "761da7e80cb4cf8f",
   "outputs": [],
   "execution_count": 104
  },
  {
   "metadata": {
    "ExecuteTime": {
     "end_time": "2025-06-30T07:23:41.326372Z",
     "start_time": "2025-06-30T07:23:41.311001Z"
    }
   },
   "cell_type": "code",
   "source": "is_sorted(my_list1)",
   "id": "b5a6807d70910437",
   "outputs": [
    {
     "data": {
      "text/plain": [
       "True"
      ]
     },
     "execution_count": 105,
     "metadata": {},
     "output_type": "execute_result"
    }
   ],
   "execution_count": 105
  },
  {
   "metadata": {
    "ExecuteTime": {
     "end_time": "2025-06-30T07:23:41.780807Z",
     "start_time": "2025-06-30T07:23:41.763914Z"
    }
   },
   "cell_type": "code",
   "source": "my_list1",
   "id": "368c082151a3668b",
   "outputs": [
    {
     "data": {
      "text/plain": [
       "[2, 12, 19, 19, 25, 27, 40, 41, 60, 63, 88, 96]"
      ]
     },
     "execution_count": 106,
     "metadata": {},
     "output_type": "execute_result"
    }
   ],
   "execution_count": 106
  },
  {
   "metadata": {
    "ExecuteTime": {
     "end_time": "2025-06-30T07:23:42.177258Z",
     "start_time": "2025-06-30T07:23:42.162882Z"
    }
   },
   "cell_type": "code",
   "source": [
    "# insertion sort\n",
    "def insertion_sort(my_list):\n",
    "    for i in range(1, len(my_list)):\n",
    "        key = my_list[i]\n",
    "        j = i - 1\n",
    "        while j >= 0 and my_list[j] > key:\n",
    "            my_list[j + 1] = my_list[j]\n",
    "            j -= 1\n",
    "        my_list[j + 1] = key"
   ],
   "id": "f50c0174b2a07dde",
   "outputs": [],
   "execution_count": 107
  },
  {
   "metadata": {
    "ExecuteTime": {
     "end_time": "2025-06-30T07:23:42.465024Z",
     "start_time": "2025-06-30T07:23:42.445866Z"
    }
   },
   "cell_type": "code",
   "source": [
    "my_list2 = [random.randint(0, 100) for i in range(12)]\n",
    "is_sorted(my_list2), my_list2"
   ],
   "id": "9bfc82867e9a820e",
   "outputs": [
    {
     "data": {
      "text/plain": [
       "(False, [14, 66, 47, 55, 41, 53, 43, 92, 37, 21, 84, 29])"
      ]
     },
     "execution_count": 108,
     "metadata": {},
     "output_type": "execute_result"
    }
   ],
   "execution_count": 108
  },
  {
   "metadata": {
    "ExecuteTime": {
     "end_time": "2025-06-30T07:23:43.081818Z",
     "start_time": "2025-06-30T07:23:43.069973Z"
    }
   },
   "cell_type": "code",
   "source": "insertion_sort(my_list2)",
   "id": "50d2e9ae0e888c0",
   "outputs": [],
   "execution_count": 109
  },
  {
   "metadata": {
    "ExecuteTime": {
     "end_time": "2025-06-30T07:23:43.438788Z",
     "start_time": "2025-06-30T07:23:43.417725Z"
    }
   },
   "cell_type": "code",
   "source": "is_sorted(my_list2), my_list2",
   "id": "7b7d3011f17e805d",
   "outputs": [
    {
     "data": {
      "text/plain": [
       "(True, [14, 21, 29, 37, 41, 43, 47, 53, 55, 66, 84, 92])"
      ]
     },
     "execution_count": 110,
     "metadata": {},
     "output_type": "execute_result"
    }
   ],
   "execution_count": 110
  },
  {
   "metadata": {},
   "cell_type": "markdown",
   "source": "![image.png](attachment:084da8c8-e09c-4596-a779-89a1bd0d5116.png)",
   "id": "74b3fdb337cee457",
   "attachments": {
    "084da8c8-e09c-4596-a779-89a1bd0d5116.png": {
     "image/png": "[encoded data removed]"
    }
   }
  },
  {
   "metadata": {
    "ExecuteTime": {
     "end_time": "2025-06-30T07:23:44.328879Z",
     "start_time": "2025-06-30T07:23:44.312915Z"
    }
   },
   "cell_type": "code",
   "source": [
    "# 🟢 Bubble Sort\n",
    "# Repeatedly swaps adjacent elements if they are in the wrong order.\n",
    "# Very inefficient, but easy to implement.\n",
    "# Best case is O(n) if the list is already sorted and optimized with a swap flag.\n",
    "\n",
    "# 🟡 Selection Sort\n",
    "# Finds the minimum element and swaps it to the front.\n",
    "# Always takes O(n²) time.\n",
    "# Not stable, because it might swap non-adjacent elements, breaking order.\n",
    "\n",
    "# 🟢 Insertion Sort\n",
    "# Good for small or nearly sorted data.\n",
    "# Shifts elements to insert the current item into the correct position.\n",
    "# Very efficient in practice on small inputs.\n",
    "\n",
    "# 🔵 Merge Sort\n",
    "# Divide and conquer: splits the list, sorts both halves, and merges.\n",
    "# Not in-place, but always stable.\n",
    "# Preferred in external sorting and for linked lists.\n",
    "\n",
    "# 🔴 Quick Sort\n",
    "# Divide and conquer: picks a pivot, partitions, and recursively sorts subarrays.\n",
    "# Average-case fast, but worst-case O(n²) (e.g., sorted list with bad pivot).\n",
    "# In-place, but not stable due to potential non-adjacent swaps.\n"
   ],
   "id": "efad261dd51c2927",
   "outputs": [],
   "execution_count": 111
  },
  {
   "metadata": {
    "ExecuteTime": {
     "end_time": "2025-06-30T07:23:44.524157Z",
     "start_time": "2025-06-30T07:23:44.516313Z"
    }
   },
   "cell_type": "code",
   "source": "",
   "id": "d53253033784d8c3",
   "outputs": [],
   "execution_count": null
  },
  {
   "metadata": {
    "ExecuteTime": {
     "end_time": "2025-06-30T07:23:44.731365Z",
     "start_time": "2025-06-30T07:23:44.716488Z"
    }
   },
   "cell_type": "code",
   "source": "",
   "id": "85d0233b3610c215",
   "outputs": [],
   "execution_count": null
  },
  {
   "metadata": {
    "ExecuteTime": {
     "end_time": "2025-06-30T07:23:44.880441Z",
     "start_time": "2025-06-30T07:23:44.866017Z"
    }
   },
   "cell_type": "code",
   "source": "",
   "id": "b033419ddfa83437",
   "outputs": [],
   "execution_count": null
  },
  {
   "metadata": {
    "ExecuteTime": {
     "end_time": "2025-06-30T07:23:45.052849Z",
     "start_time": "2025-06-30T07:23:45.013125Z"
    }
   },
   "cell_type": "code",
   "source": [
    "# merge sort\n",
    "def merge_sort(my_list):\n",
    "    if len(my_list) <= 1:\n",
    "        return my_list\n",
    "    mid = len(my_list) // 2\n",
    "    left = merge_sort(my_list[:mid])\n",
    "    right = merge_sort(my_list[mid:])\n",
    "    return merge(left, right)\n",
    "\n",
    "def merge(left, right):\n",
    "    result = []\n",
    "    i = j = 0\n",
    "    while i < len(left) and j < len(right):\n",
    "        if left[i] <= right[j]:\n",
    "            result.append(left[i])\n",
    "            i += 1\n",
    "        else:\n",
    "            result.append(right[j])\n",
    "            j += 1\n",
    "    result.extend(left[i:])\n",
    "    result.extend(right[j:])\n",
    "    return result\n"
   ],
   "id": "c0c4c56228e40c81",
   "outputs": [],
   "execution_count": 112
  },
  {
   "metadata": {
    "ExecuteTime": {
     "end_time": "2025-06-30T07:23:45.208091Z",
     "start_time": "2025-06-30T07:23:45.188453Z"
    }
   },
   "cell_type": "code",
   "source": [
    "my_list3 = [random.randint(0, 100) for i in range(12)]\n",
    "is_sorted(my_list3), my_list3"
   ],
   "id": "ec00f616012572db",
   "outputs": [
    {
     "data": {
      "text/plain": [
       "(False, [70, 30, 42, 18, 49, 39, 59, 68, 34, 72, 15, 55])"
      ]
     },
     "execution_count": 113,
     "metadata": {},
     "output_type": "execute_result"
    }
   ],
   "execution_count": 113
  },
  {
   "metadata": {
    "ExecuteTime": {
     "end_time": "2025-06-30T07:23:45.536221Z",
     "start_time": "2025-06-30T07:23:45.517947Z"
    }
   },
   "cell_type": "code",
   "source": [
    "my_list3 = merge_sort(my_list3)\n",
    "is_sorted(my_list3), my_list3"
   ],
   "id": "519755fec13e7e37",
   "outputs": [
    {
     "data": {
      "text/plain": [
       "(True, [15, 18, 30, 34, 39, 42, 49, 55, 59, 68, 70, 72])"
      ]
     },
     "execution_count": 114,
     "metadata": {},
     "output_type": "execute_result"
    }
   ],
   "execution_count": 114
  },
  {
   "metadata": {
    "ExecuteTime": {
     "end_time": "2025-06-30T07:23:45.914169Z",
     "start_time": "2025-06-30T07:23:45.906519Z"
    }
   },
   "cell_type": "code",
   "source": "",
   "id": "3be113f84eb50cbe",
   "outputs": [],
   "execution_count": null
  },
  {
   "metadata": {
    "ExecuteTime": {
     "end_time": "2025-06-30T07:23:46.164701Z",
     "start_time": "2025-06-30T07:23:46.156981Z"
    }
   },
   "cell_type": "code",
   "source": "",
   "id": "6fd4b3e4259aac2e",
   "outputs": [],
   "execution_count": null
  },
  {
   "metadata": {
    "ExecuteTime": {
     "end_time": "2025-06-30T07:23:46.513691Z",
     "start_time": "2025-06-30T07:23:46.506214Z"
    }
   },
   "cell_type": "code",
   "source": "",
   "id": "d243f7e5abe2f247",
   "outputs": [],
   "execution_count": null
  },
  {
   "metadata": {
    "ExecuteTime": {
     "end_time": "2025-06-30T07:23:46.770082Z",
     "start_time": "2025-06-30T07:23:46.737955Z"
    }
   },
   "cell_type": "code",
   "source": [
    "# quick sort\n",
    "def quick_sort(my_list, low, high):\n",
    "    if low < high:\n",
    "        index = partition(my_list, low, high)\n",
    "        quick_sort(my_list, low, index - 1)\n",
    "        quick_sort(my_list, index + 1, high)\n",
    "\n",
    "def partition(my_list, low, high):\n",
    "    pivot = my_list[high]\n",
    "    i = low - 1\n",
    "    for j in range(low, high):\n",
    "        if my_list[j] <= pivot:\n",
    "            i += 1\n",
    "            my_list[i], my_list[j] = my_list[j], my_list[i]\n",
    "    my_list[i + 1], my_list[high] = my_list[high], my_list[i + 1]\n",
    "    return i + 1"
   ],
   "id": "b2f8c27c2fa0a140",
   "outputs": [],
   "execution_count": 115
  },
  {
   "metadata": {
    "ExecuteTime": {
     "end_time": "2025-06-30T07:23:47.007417Z",
     "start_time": "2025-06-30T07:23:46.989824Z"
    }
   },
   "cell_type": "code",
   "source": [
    "my_list4 = [random.randint(0, 100) for i in range(12)]\n",
    "is_sorted(my_list4), my_list4"
   ],
   "id": "c3ebbe95ecc70ad6",
   "outputs": [
    {
     "data": {
      "text/plain": [
       "(False, [54, 40, 34, 57, 76, 37, 7, 84, 11, 23, 100, 38])"
      ]
     },
     "execution_count": 116,
     "metadata": {},
     "output_type": "execute_result"
    }
   ],
   "execution_count": 116
  },
  {
   "metadata": {
    "ExecuteTime": {
     "end_time": "2025-06-30T07:23:47.457402Z",
     "start_time": "2025-06-30T07:23:47.437966Z"
    }
   },
   "cell_type": "code",
   "source": [
    "quick_sort(my_list4, 0, len(my_list4) - 1)\n",
    "is_sorted(my_list4), my_list4"
   ],
   "id": "a265746f9c083144",
   "outputs": [
    {
     "data": {
      "text/plain": [
       "(True, [7, 11, 23, 34, 37, 38, 40, 54, 57, 76, 84, 100])"
      ]
     },
     "execution_count": 117,
     "metadata": {},
     "output_type": "execute_result"
    }
   ],
   "execution_count": 117
  },
  {
   "metadata": {
    "ExecuteTime": {
     "end_time": "2025-06-30T07:40:40.310418Z",
     "start_time": "2025-06-30T07:40:40.291844Z"
    }
   },
   "cell_type": "code",
   "source": "# ! pip install aiosmtpd",
   "id": "ac1074d6fdfdfc1a",
   "outputs": [
    {
     "name": "stdout",
     "output_type": "stream",
     "text": [
      "ERROR! Session/line number was not unique in database. History logging moved to new session 35\n"
     ]
    }
   ],
   "execution_count": 126
  },
  {
   "metadata": {
    "ExecuteTime": {
     "end_time": "2025-06-30T07:41:02.786588Z",
     "start_time": "2025-06-30T07:41:02.725555Z"
    }
   },
   "cell_type": "code",
   "source": [
    "# sending emails\n",
    "import smtplib\n",
    "from email.message import EmailMessage\n",
    "\n",
    "msg = EmailMessage()\n",
    "msg.set_content(\"Hello Subhan!\")\n",
    "msg[\"Subject\"] = \"Test Email\"\n",
    "msg[\"From\"] = \"abc@gmail.com\"\n",
    "msg[\"To\"] = \"xyz@gmail.com\"\n",
    "\n",
    "with smtplib.SMTP(\"localhost\", 1025) as server:\n",
    "    server.send_message(msg)\n",
    "\n",
    "\n",
    "# run this in terminal\n",
    "# python -m aiosmtpd -n -l localhost:1025\n"
   ],
   "id": "1bf5f33ff01b4f76",
   "outputs": [],
   "execution_count": 129
  },
  {
   "metadata": {
    "ExecuteTime": {
     "end_time": "2025-06-30T07:41:04.874739Z",
     "start_time": "2025-06-30T07:41:04.864373Z"
    }
   },
   "cell_type": "code",
   "source": "",
   "id": "7170c47c8266bc62",
   "outputs": [],
   "execution_count": null
  },
  {
   "metadata": {},
   "cell_type": "code",
   "outputs": [],
   "execution_count": null,
   "source": "",
   "id": "e6f5c26517ca6850"
  }
 ],
 "metadata": {
  "kernelspec": {
   "display_name": "Python 3",
   "language": "python",
   "name": "python3"
  },
  "language_info": {
   "codemirror_mode": {
    "name": "ipython",
    "version": 2
   },
   "file_extension": ".py",
   "mimetype": "text/x-python",
   "name": "python",
   "nbconvert_exporter": "python",
   "pygments_lexer": "ipython2",
   "version": "2.7.6"
  }
 },
 "nbformat": 4,
 "nbformat_minor": 5
}
