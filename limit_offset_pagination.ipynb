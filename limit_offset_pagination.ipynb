{
 "cells": [
  {
   "cell_type": "markdown",
   "metadata": {},
   "source": [
    "# 📘 DRF Limit-Offset Pagination Demo\n",
    "\n",
    "**Limit-Offset Pagination** retrieves a specific number of items (`limit`) starting from a specific position (`offset`).\n",
    "\n",
    "Useful for clients that need precise control over data slicing."
   ]
  },
  {
   "cell_type": "markdown",
   "metadata": {},
   "source": [
    "## 🔹 Concept Overview\n",
    "- `limit`: Number of items to return.\n",
    "- `offset`: Number of items to skip from the beginning.\n",
    "\n",
    "**Sample API calls:**\n",
    "```bash\n",
    "GET /api/students/?limit=2&offset=0\n",
    "GET /api/students/?limit=2&offset=4\n",
    "```"
   ]
  },
  {
   "cell_type": "markdown",
   "metadata": {},
   "source": [
    "## ✅ Step 1: Define Custom LimitOffset Pagination"
   ]
  },
  {
   "cell_type": "code",
   "execution_count": null,
   "metadata": {},
   "outputs": [],
   "source": [
    "# pagination.py\n",
    "from rest_framework.pagination import LimitOffsetPagination\n",
    "\n",
    "class MyLimitOffsetPagination(LimitOffsetPagination):\n",
    "    default_limit = 2  # items per request if limit not provided\n",
    "    max_limit = 5  # upper bound for limit to avoid abuse"
   ]
  },
  {
   "cell_type": "markdown",
   "metadata": {},
   "source": [
    "## ✅ Step 2: Define Model (e.g. `NewStudent`)"
   ]
  },
  {
   "cell_type": "code",
   "execution_count": null,
   "metadata": {},
   "outputs": [],
   "source": [
    "# models.py\n",
    "from django.db import models\n",
    "\n",
    "class NewStudent(models.Model):\n",
    "    name = models.CharField(max_length=100)\n",
    "    age = models.IntegerField()\n",
    "\n",
    "    def __str__(self):\n",
    "        return self.name"
   ]
  },
  {
   "cell_type": "markdown",
   "metadata": {},
   "source": [
    "## ✅ Step 3: Create Serializer"
   ]
  },
  {
   "cell_type": "code",
   "execution_count": null,
   "metadata": {},
   "outputs": [],
   "source": [
    "# serializers.py\n",
    "from rest_framework import serializers\n",
    "from .models import NewStudent\n",
    "\n",
    "class NewStudentSerializer(serializers.ModelSerializer):\n",
    "    class Meta:\n",
    "        model = NewStudent\n",
    "        fields = '__all__'"
   ]
  },
  {
   "cell_type": "markdown",
   "metadata": {},
   "source": [
    "## ✅ Step 4: Use LimitOffsetPagination in the View"
   ]
  },
  {
   "cell_type": "code",
   "execution_count": null,
   "metadata": {},
   "outputs": [],
   "source": [
    "# views.py\n",
    "from rest_framework.generics import ListAPIView\n",
    "from .models import NewStudent\n",
    "from .serializers import NewStudentSerializer\n",
    "from .pagination import MyLimitOffsetPagination\n",
    "\n",
    "class StudentListLimit(ListAPIView):\n",
    "    queryset = NewStudent.objects.all().order_by(\"id\")\n",
    "    serializer_class = NewStudentSerializer\n",
    "    pagination_class = MyLimitOffsetPagination"
   ]
  },
  {
   "cell_type": "markdown",
   "metadata": {},
   "source": [
    "## ✅ Sample API Calls\n",
    "\n",
    "```bash\n",
    "GET /api/students/?limit=2&offset=0\n",
    "GET /api/students/?limit=2&offset=4\n",
    "```"
   ]
  },
  {
   "cell_type": "markdown",
   "metadata": {},
   "source": [
    "## 🔄 Sample Response Format\n",
    "```json\n",
    "{\n",
    "  \"count\": 20,\n",
    "  \"next\": \"http://localhost:8000/api/students/?limit=2&offset=2\",\n",
    "  \"previous\": null,\n",
    "  \"results\": [\n",
    "    {\"id\": 1, \"name\": \"Ali\", \"age\": 20},\n",
    "    {\"id\": 2, \"name\": \"Sara\", \"age\": 21}\n",
    "  ]\n",
    "}\n",
    "```"
   ]
  },
  {
   "cell_type": "markdown",
   "metadata": {},
   "source": [
    "## 📊 Summary: Pagination Types Comparison\n",
    "\n",
    "| Type                  | Class Name                | Query Params                   | Best For                          |\n",
    "|-----------------------|---------------------------|--------------------------------|------------------------------------|\n",
    "| Page number           | PageNumberPagination      | ?page=                         | Basic navigation                  |\n",
    "| Limit-offset          | LimitOffsetPagination     | ?limit= & ?offset=             | Fine control, performance tuning  |\n",
    "| Cursor-based          | CursorPagination          | ?cursor=                       | Large data, secure and stateless  |"
   ]
  },
  {
   "cell_type": "markdown",
   "metadata": {},
   "source": [
    "## ✅ Summary Table\n",
    "| Feature | Value |\n",
    "|---------|-------|\n",
    "| Pagination control | `limit` and `offset` |\n",
    "| Default limit | 2 |\n",
    "| Max limit | 5 |\n",
    "| Stateless & efficient | ✅ |\n",
    "| Use case | APIs needing precise slicing or infinite scroll |"
   ]
  }
 ],
 "metadata": {
  "kernelspec": {
   "display_name": "Python 3",
   "language": "python",
   "name": "python3"
  },
  "language_info": {
   "name": "python",
   "version": ""
  }
 },
 "nbformat": 4,
 "nbformat_minor": 5
}

